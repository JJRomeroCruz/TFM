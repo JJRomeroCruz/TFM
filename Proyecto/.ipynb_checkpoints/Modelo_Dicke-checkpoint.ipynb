{
 "cells": [
  {
   "cell_type": "code",
   "execution_count": 1,
   "metadata": {
    "id": "bVyes8-KuUHh"
   },
   "outputs": [],
   "source": [
    "import numpy as np\n",
    "import sympy as sp\n",
    "import matplotlib.pyplot as plt\n",
    "import random as random\n",
    "import time"
   ]
  },
  {
   "cell_type": "code",
   "execution_count": null,
   "metadata": {
    "colab": {
     "base_uri": "https://localhost:8080/"
    },
    "id": "oG0vsQpyf1t2",
    "outputId": "c9e8d630-4934-44eb-b9e8-10c63b41e6d1"
   },
   "outputs": [
    {
     "data": {
      "text/plain": [
       "matrix([[1.+0.j, 0.+0.j, 0.+0.j, 0.+0.j],\n",
       "        [0.+0.j, 1.+0.j, 0.+0.j, 0.+0.j],\n",
       "        [0.+0.j, 0.+0.j, 1.+0.j, 0.+0.j],\n",
       "        [0.+0.j, 0.+0.j, 0.+0.j, 1.+0.j]])"
      ]
     },
     "execution_count": 29,
     "metadata": {},
     "output_type": "execute_result"
    }
   ],
   "source": [
    "#np.kron(sx, id)\n",
    "\n",
    "kronecker(sx, 1, 2)"
   ]
  },
  {
   "cell_type": "code",
   "execution_count": 2,
   "metadata": {
    "id": "0_KSANdtuf5z"
   },
   "outputs": [],
   "source": [
    "# Funcion que me hace el producto de kronecker de las matrices identidad y ponemos en la posicion pos una matriz dada\n",
    "def kronecker(matriz, pos, n):\n",
    "  id = np.matrix([[1.0, 0.0], [0.0, 1.0]], dtype = complex)\n",
    "  sx = np.matrix([[0.0, 1.0], [1.0, 0.0]], dtype = complex)\n",
    "  sy = np.matrix([[0.0, -1.j], [1.j, 0.0]], dtype = complex)\n",
    "  sz = np.matrix([[1.0, 0.0], [0.0, -1.0]], dtype = complex)\n",
    "  #res = np.zeros((int(2**n), int(2**n)))\n",
    "  if(pos == 0):\n",
    "    res = matriz\n",
    "  else:\n",
    "    res = id\n",
    "\n",
    "  for i in range(1, n):\n",
    "    if(i == pos):\n",
    "      res = np.kron(res, matriz)\n",
    "    else:\n",
    "      res = np.kron(res, id)\n",
    "  return res\n",
    "\n",
    "# Funcion que me crea el hamiltoninano del modelo de Dicke dado un cierto numero de spines y su operador salto\n",
    "def dicke(N, params):\n",
    "  id = np.matrix([[1.0, 0.0], [0.0, 1.0]], dtype = complex)\n",
    "  sx = np.matrix([[0.0, 1.0], [1.0, 0.0]], dtype = complex)\n",
    "  sy = np.matrix([[0.0, -1.j], [1.j, 0.0]], dtype = complex)\n",
    "  sz = np.matrix([[1.0, 0.0], [0.0, -1.0]], dtype = complex)\n",
    "\n",
    "  sigma = params[0]\n",
    "  w = params[1]\n",
    "  k = params[2]\n",
    "  g = params[3]\n",
    "\n",
    "  suma1 = kronecker(0.5*sz, 0, N)\n",
    "  suma2 = kronecker(0.25*np.dot(sx, sx), 0, N)\n",
    "  suma3 = kronecker(0.5*sx, 0, N)\n",
    "\n",
    "  i = 1\n",
    "  while(i < N):\n",
    "    #print(i)\n",
    "    suma1 += kronecker(0.5*sz, i, N)\n",
    "    suma2 += kronecker(0.25*np.dot(sx, sx), i, N)\n",
    "    suma3 += kronecker(0.5*sx, i, N)\n",
    "    i += 1\n",
    "\n",
    "  H = sigma*suma1 - ((4.0*w*g*g)/(4.0*w**2 + k**2))*(1.0/N)*suma2\n",
    "  J = ((2.0*np.abs(g)*np.sqrt(k))/(np.sqrt(N*(4*w*w + k*k))))*suma3\n",
    "\n",
    "  return H, J\n",
    "\n",
    "# Funcion que me hace el ketbra de dos vectores\n",
    "def ketbra(v1, v2):\n",
    "  v2_conj = np.conjugate(v2)\n",
    "  m = np.zeros((max(v1.shape[0], v1.shape[1]), max(v2.shape[0], v2.shape[1])), dtype = complex)\n",
    "  for i in range(len(v1)):\n",
    "    for k in range(len(v2)):\n",
    "      m[i, k] = v1[i]*v2_conj[k]\n",
    "  return m\n",
    "\n",
    "# Funcion que me genera una matriz densidad inicial a partir de una combinacion lineal de los autoestados de Sz\n",
    "def densidad(N):\n",
    "  sz = np.matrix([[1.0, 0.0], [0.0, -1.0]], dtype = complex)\n",
    "  id = np.matrix([[1.0, 0.0], [0.0, 1.0]], dtype = complex)\n",
    "\n",
    "  # Construimos el operador sz\n",
    "  suma = kronecker(0.5*sz, 0, N)\n",
    "  i = 1\n",
    "  while(i < N):\n",
    "    suma += kronecker(0.5*sz, i, N)\n",
    "    i += 1\n",
    "  spin = suma\n",
    "  #print(spin)\n",
    "\n",
    "  # Creamos la base de autoestados de sz\n",
    "  base = [np.linalg.eig(spin)[1][:, i] for i in range(spin.shape[0])]\n",
    "  #print(base)\n",
    "\n",
    "  # Construimos el vector inicial\n",
    "  a, b = random.random(), random.random()\n",
    "  ini = (a + b*1.j)*base[0]\n",
    "  for i in range(1, len(base)):\n",
    "    a, b = random.random(), random.random()\n",
    "    ini += (a + b*1.j)*base[i]\n",
    "  # Le hacemos el ketbra para construir la matriz densidad\n",
    "\n",
    "  ini = ini/(np.linalg.norm(ini))\n",
    "  d = ketbra(np.array(ini), np.array(ini))\n",
    "  res = d/(np.linalg.norm(d))\n",
    "  return res\n",
    "\n",
    "# Funcion que me crea una matriz cuadrada de simbolos\n",
    "\n",
    "def matriz_cuadrada(n):\n",
    "   matriz = sp.Matrix(n, n, lambda i,j: sp.Symbol('d_(%d)(%d)' % (i,j)))\n",
    "   return matriz\n",
    "\n",
    "# Iniciamos la semilla\n",
    "import random\n",
    "seed = 3457493\n",
    "random.seed(a = seed, version = 2)\n",
    "\n",
    "# Funcion que calcula el hamiltoniano efectivo\n",
    "def H_eff(H, saltos):\n",
    "  suma = np.zeros((H.shape[0], H.shape[1]), dtype = complex)\n",
    "  for salto in saltos:\n",
    "    suma += salto.H*salto\n",
    "  Heff = H - 0.5*(1.j)*suma\n",
    "  return Heff\n",
    "\n",
    "#Funcion para pasar de matriz a vector espacio de Fock-Liouville\n",
    "def FL_vector(m):\n",
    "  m_nuevo = np.reshape(m, m.shape[0]*m.shape[1])\n",
    "  return sp.Matrix(m_nuevo, dtype = complex)\n",
    "\n",
    "# Funcion para definir el Limbladiano como matriz en el espacio de Fock-Liouville\n",
    "def Limblad(H, saltos):\n",
    "  # Sacamos el hamiltoniano efectivo\n",
    "  Heff = sp.Matrix(H_eff(H, saltos))\n",
    "\n",
    "  # Creamos la matriz de simbolos\n",
    "  d = matriz_cuadrada(H.shape[0])\n",
    "\n",
    "  # Sacamos la suma de saltos\n",
    "  suma = sp.zeros(H.shape[0], H.shape[1])\n",
    "  for salto in saltos:\n",
    "    suma += salto*d*salto.H\n",
    "\n",
    "  # Con esto, definimos el Limbladiano\n",
    "  M = suma - sp.I*(Heff*d - d*Heff.H)\n",
    "  # Lo pasamos a vector\n",
    "  M = FL_vector(M)\n",
    "\n",
    "  # Lo pasamos de sistema de ecuaciones lineal a ecuacion matricial, b tiene que dar el vector de ceros\n",
    "  #L, b = sp.linear_eq_to_matrix([elemento for elemento in M], [termino for termino in d])\n",
    "  L, b = sp.linear_eq_to_matrix([M[i] for i in range(len(M))], [d[i] for i in range(len(d))])\n",
    "  return L, b\n",
    "\n",
    "# Funcion que calcula las nuevas probabilidades de salto y de no salto\n",
    "def Calcularp(d, V):\n",
    "  return np.trace((V.H)*d*V)\n",
    "\n",
    "# Funcion que nos calcula el nuevo estado tras un salto de tiempo\n",
    "def NuevoEstado(d, V, H):\n",
    "  return ((V.H)*d*V)/(np.sqrt(np.trace((V.H)*d*V)))\n",
    "\n",
    "# Funcion que nos hace un plot de lo que queramos\n",
    "def ploteo_MC(d, tiempo):\n",
    "  plt.ylabel(r'$\\rho_{00}$')\n",
    "  plt.xlabel('t')\n",
    "\n",
    "  plt.plot(tiempo, d[0], 'bo', label = 'Random')\n",
    "  plt.plot(tiempo, d[1], 'ro', label = 'Via del cero')\n",
    "  plt.plot(tiempo, d[2], 'go', label = 'Via del no cero')\n",
    "  #plt.plot(tiempo, d[3], 'yo', label = '2 ab(con)')\n",
    "  #plt.plot(tiempo, d[4], 'b--', label = '1 cerr(sin)')\n",
    "  #plt.plot(tiempo, d[5], 'r--', label = '1 cerr(con)')\n",
    "  #plt.plot(tiempo, d[6], 'k--', label = '2 cerr(sin)')\n",
    "  #plt.plot(tiempo, d[7], 'y--', label = '2 cerr(con)')\n",
    "\n",
    "  plt.legend(loc = 'upper right')\n",
    "  plt.show()\n",
    "\n",
    "  return\n",
    "\n",
    "# Funcion que nos saca la posicion del segundo valor mas grande en una lista\n",
    "def segunda_posicion_mas_grande(lista):\n",
    "    if len(lista) < 2:\n",
    "        return \"La lista no tiene suficientes elementos\"\n",
    "\n",
    "    # Encontrar el elemento más grande y su índice\n",
    "    maximo = max(lista)\n",
    "    indice_maximo = lista.index(maximo)\n",
    "\n",
    "    # Eliminar el elemento más grande de la lista\n",
    "    lista.remove(maximo)\n",
    "\n",
    "    # Encontrar el segundo elemento más grande y su índice\n",
    "    segundo_maximo = max(lista)\n",
    "    indice_segundo_maximo = lista.index(segundo_maximo)\n",
    "\n",
    "    # Ajustar el índice para tener en cuenta la eliminación del máximo anterior\n",
    "    if indice_segundo_maximo >= indice_maximo:\n",
    "        indice_segundo_maximo += 1\n",
    "\n",
    "    return indice_segundo_maximo\n",
    "\n",
    "# Funcion que nos obtiene la transformacion unitaria del efecto Mpemba a partir del lindbladiano\n",
    "def Mpemba(L, d, N):\n",
    "  # Diagonalizamos el lindbladiano\n",
    "  # Sacamos los autovalores y los autovectores del Limbladiano\n",
    "  \"\"\"\n",
    "  todo = (L.H).eigenvects()\n",
    "  vals = [todo[i][0] for i in range(L.shape[0])]\n",
    "  \"\"\"\n",
    "  L_H = np.matrix(L.H, dtype = complex)\n",
    "  vals, L_e = np.linalg.eig(L_H)\n",
    "\n",
    "  print('Hemos diagonalizado el lindbladiano')\n",
    "  # Normalizamos las automatrices\n",
    "  L_e = [np.reshape(matriz, (d.shape[0], d.shape[1])) for matriz in L_e]\n",
    "  L_e = [matriz.T/(np.linalg.norm(matriz)) for matriz in L_e]\n",
    "\n",
    "  # Extraemos la matriz por la izquierda cuyo autovalor es el mayor (y no es cero)\n",
    "  lista_vals =  list(-np.real(vals))\n",
    "  maximo = max(lista_vals)\n",
    "  indice_maximo = lista_vals.index(maximo)\n",
    "  lista_vals.remove(maximo)\n",
    "  segundo_maximo = max(lista_vals)\n",
    "  indice_segundo_maximo = lista_vals.index(segundo_maximo)\n",
    "  if indice_segundo_maximo >= indice_maximo:\n",
    "    indice_segundo_maximo += 1\n",
    "\n",
    "  #print(\"Dimesiones de la matriz densidad: \" + str(d.shape))\n",
    "  #print(\"Dimensiones del autovector L_e: \" + str(L_e[indice_segundo_maximo].shape))\n",
    "\n",
    "  L1 = np.reshape(L_e[indice_segundo_maximo], (d.shape[0], d.shape[1]))\n",
    "\n",
    "  #L1 = np.reshape(L_e[indice_segundo_maximo], (d.shape[0], d.shape[1]))\n",
    "  #print('Hemos obtenido L1')\n",
    "  #print(\"Dimension de L1: \" + str(L1.shape))\n",
    "  #print(L1)\n",
    "  # Diagonalizamos L1 y sacamos sus autovalores\n",
    "  #todo1 = (L1.H).eigenvects()\n",
    "  #vals = [todo1[i][0] for i in range(L1.shape[0])]\n",
    "  #vects = [sp.Matrix(tup[2][0]) for tup in todo1]\n",
    "  #vals = list(vals)\n",
    "  vals, vects = np.linalg.eig(L1)\n",
    "  vals = list(vals)\n",
    "  print(vals)\n",
    "\n",
    "  # Normalizamos los autovectores de la matriz L1\n",
    "  vects = [matriz/np.linalg.norm(matriz) for matriz in vects]\n",
    "\n",
    "  # Ahora, tenemos que dividir en dos caminos, definimos una tolerancia\n",
    "  tol = 1.0e-14 # N = 5\n",
    "  #tol = 1.0e-3\n",
    "  #print(vals)\n",
    "  es_cero = [(np.abs(np.real(vals[i])) < tol) for i in range(len(vals))]\n",
    "  print(es_cero)\n",
    "\n",
    "  if(any(es_cero)):\n",
    "    print('Hemos elegido la via del cero')\n",
    "    # Nos vamos al caso en el que un autovalor es 0\n",
    "    indice = es_cero.index(True)\n",
    "    U = ketbra(np.array(vects[0].T), np.array(vects[indice].T))\n",
    "  else:\n",
    "    print('Hemos elegido la via del no cero')\n",
    "    # Si no hay ningun autovalor que sea 0, se coje una pareja de autovalores con signo contrario\n",
    "    i = 0\n",
    "    indice_contrario = 0\n",
    "    es_contrario = [vals[0]*vals[i] < 0 for i in range(len(vals))]\n",
    "    if(any(es_contrario)):\n",
    "      indice_contrario = es_contrario.index(True)\n",
    "      F = ketbra(vects[0].T, vects[indice_contrario].T) + ketbra(vects[indice_contrario].T, vects[0].T)\n",
    "      s = np.arctan(np.sqrt((np.abs(vals[0]))/(np.abs(vals[indice_contrario]))))\n",
    "      print(\"La s me sale: \" + str(s))\n",
    "      identidad = kronecker(id, 0, N)\n",
    "      U = identidad + (np.cos(s) - 1.0)*(np.dot(F, F)) - 1.j*F\n",
    "    else:\n",
    "      print('tas jodido manin')\n",
    "      U = np.zeros(d.shape)\n",
    "    #while(i < len(vals)):\n",
    "    #  if(vals[i]*vals[0] < 0):\n",
    "     #   indice_contrario = i\n",
    "     # else:\n",
    "     #   i += 1\n",
    "    # Ahora, construimos la transformacion unitaria\n",
    "    #F = ketbra(vects[0].T, vects[indice_contrario].T) + ketbra(vects[indice_contrario].T, vects[0].T)\n",
    "    #s = np.arctan(np.sqrt((np.abs(vals[0]))/(np.abs(vals[indice_contrario]))))\n",
    "    #print(\"La s me sale: \" + str(s))\n",
    "    #identidad = kronecker(id, 0, N)\n",
    "    #U = identidad + (np.cos(s) - 1.0)*(np.dot(F, F)) - 1.j*F\n",
    "\n",
    "  return U\n",
    "\n",
    "# Funcion que nos saca el estado estacionario\n",
    "def estacionario(L, d):\n",
    "  # Diagonalizamos el lindbladiano\n",
    "  LH = np.matrix(L.H, dtype = complex)\n",
    "  L = np.matrix(L, dtype = complex)\n",
    "  vals, vects_h = np.linalg.eig(LH)\n",
    "  vals, vects = np.linalg.eig(L)\n",
    "  vects = [matriz/np.linalg.norm(matriz) for matriz in vects]\n",
    "  vects_h = [matriz/np.linalg.norm(matriz) for matriz in vects_h]\n",
    "\n",
    "  # Sacamos el estado estacionario que es el autovector correspondiente al autovalor mas cercano a 0\n",
    "  reales = [-np.real(valor) for valor in vals]\n",
    "  minimo = max(reales)\n",
    "  indice = reales.index(minimo)\n",
    "\n",
    "  # Pasamos el estado estacionario a matriz\n",
    "  #res = np.reshape(vects[indice], (d.shape[0], d.shape[1]))\n",
    "  r = np.reshape(vects[indice], (d.shape[0], d.shape[1]))\n",
    "  l = np.reshape(vects_h[indice], (d.shape[0], d.shape[1]))\n",
    "\n",
    "  res = np.trace(np.dot(l, d))*r\n",
    "\n",
    "  return r/np.trace(r)\n",
    "\n",
    "# Funcion que nos obtiene la transformacion unitaria del efecto Mpemba a partir del lindbladiano\n",
    "def Mpemba2(L, d, N):\n",
    "  # Diagonalizamos el lindbladiano\n",
    "  # Sacamos los autovalores y los autovectores del Limbladiano\n",
    "  L_H = np.matrix(L.H, dtype = complex)\n",
    "  vals, L_e = np.linalg.eig(L_H)\n",
    "\n",
    "  print('Hemos diagonalizado el lindbladiano')\n",
    "  # Normalizamos las automatrices\n",
    "  L_e = [np.reshape(matriz, (d.shape[0], d.shape[1])) for matriz in L_e]\n",
    "  L_e = [matriz.T/(np.linalg.norm(matriz)) for matriz in L_e]\n",
    "\n",
    "  # Extraemos la matriz por la izquierda cuyo autovalor es el mayor (y no es cero)\n",
    "  lista_vals =  list(-np.real(vals))\n",
    "  maximo = max(lista_vals)\n",
    "  indice_maximo = lista_vals.index(maximo)\n",
    "  lista_vals.remove(maximo)\n",
    "  segundo_maximo = max(lista_vals)\n",
    "  indice_segundo_maximo = lista_vals.index(segundo_maximo)\n",
    "  if indice_segundo_maximo >= indice_maximo:\n",
    "    indice_segundo_maximo += 1\n",
    "\n",
    "  #print(\"Dimesiones de la matriz densidad: \" + str(d.shape))\n",
    "  #print(\"Dimensiones del autovector L_e: \" + str(L_e[indice_segundo_maximo].shape))\n",
    "\n",
    "  L1 = np.reshape(L_e[indice_segundo_maximo], (d.shape[0], d.shape[1]))\n",
    "\n",
    "  #L1 = np.reshape(L_e[indice_segundo_maximo], (d.shape[0], d.shape[1]))\n",
    "  #print('Hemos obtenido L1')\n",
    "  #print(\"Dimension de L1: \" + str(L1.shape))\n",
    "  #print(L1)\n",
    "  # Diagonalizamos L1 y sacamos sus autovalores\n",
    "  #todo1 = (L1.H).eigenvects()\n",
    "  #vals = [todo1[i][0] for i in range(L1.shape[0])]\n",
    "  #vects = [sp.Matrix(tup[2][0]) for tup in todo1]\n",
    "  #vals = list(vals)\n",
    "  vals, vects = np.linalg.eig(L1)\n",
    "  vals = list(vals)\n",
    "  print('Autovalores de L')\n",
    "  print(vals)\n",
    "  print(vects)\n",
    "  # Normalizamos los autovectores de la matriz L1\n",
    "  vects = [matriz/np.linalg.norm(matriz) for matriz in vects]\n",
    "\n",
    "  # Ahora, tenemos que dividir en dos caminos, definimos una tolerancia\n",
    "  tol = 1.0e-14 # N = 5\n",
    "  #tol = 1.0e-3\n",
    "  #print(vals)\n",
    "  es_cero = [(np.abs(np.real(vals[i])) < tol) for i in range(len(vals))]\n",
    "  print(es_cero)\n",
    "  print('Hemos elegido la via del no cero')\n",
    "  # Si no hay ningun autovalor que sea 0, se coje una pareja de autovalores con signo contrario\n",
    "  i = 0\n",
    "  indice_contrario = 0\n",
    "  indice_inicial = es_cero.index(False)\n",
    "  es_contrario = [vals[indice_inicial]*vals[i] < 0 for i in range(len(vals))]\n",
    "  if(any(es_contrario)):\n",
    "    indice_contrario = es_contrario.index(True)\n",
    "    F = ketbra(vects[0].T, vects[indice_contrario].T) + ketbra(vects[indice_contrario].T, vects[0].T)\n",
    "    s = np.arctan(np.sqrt((np.abs(vals[0]))/(np.abs(vals[indice_contrario]))))\n",
    "    print(\"La s me sale: \" + str(s))\n",
    "    identidad = kronecker(id, 0, N)\n",
    "    U = identidad + (np.cos(s) - 1.0)*(np.dot(F, F)) - 1.j*F\n",
    "  else:\n",
    "    print('tas jodido manin')\n",
    "    U = np.zeros(d.shape)\n",
    "\n",
    "  return U\n",
    "\n",
    "def indices_mayores_que_100(matriz, n):\n",
    "    indices = []\n",
    "    filas = matriz.shape[0]\n",
    "    columnas = matriz.shape[1]\n",
    "\n",
    "    for i in range(filas):\n",
    "        for j in range(columnas):\n",
    "            if(np.real(matriz[i, j]) > n):\n",
    "                indices.append((i, j))\n",
    "\n",
    "    return indices\n"
   ]
  },
  {
   "cell_type": "code",
   "execution_count": null,
   "metadata": {
    "colab": {
     "base_uri": "https://localhost:8080/"
    },
    "id": "_nE8KRszTj_6",
    "outputId": "426b89d0-0f08-44bb-dcc0-c1f744bff3d0"
   },
   "outputs": [
    {
     "name": "stdout",
     "output_type": "stream",
     "text": [
      "densidad hecha\n"
     ]
    }
   ],
   "source": [
    "dt = 0.01 #salto de tiempo\n",
    "\n",
    "# Medimos el tiempo\n",
    "t1 = time.time()\n",
    "\n",
    "# Matrices de Pauli\n",
    "id = np.matrix([[1.0, 0.0], [0.0, 1.0]], dtype = complex)\n",
    "sx = np.matrix([[0.0, 1.0], [1.0, 0.0]], dtype = complex)\n",
    "sy = np.matrix([[0.0, -1.j], [1.j, 0.0]], dtype = complex)\n",
    "sz = np.matrix([[1.0, 0.0], [0.0, -1.0]], dtype = complex)\n",
    "num = np.matrix([[1.0, 0.0], [0.0, 0.0]], dtype = complex)\n",
    "\n",
    "# Hamiltoniano, operador salto y hamiltoniano efecivo\n",
    "N = 2\n",
    "sigma = 1.0\n",
    "\n",
    "#w = 0.25*sigma\n",
    "w = 1.0*sigma\n",
    "#k = 0.5*sigma + 0.5*np.sqrt(1-8*w*w)\n",
    "#k = 0.5*sigma\n",
    "k = 1.0*sigma\n",
    "g = 0.05*sigma\n",
    "#g = 0.5*sigma\n",
    "params = [sigma, w, k, g]\n",
    "H, J = dicke(N, params)\n",
    "\n",
    "# Matriz densidad\n",
    "d0 = densidad(N)\n",
    "print('densidad hecha')\n",
    "L, b = Limblad(sp.Matrix(H, dtype = complex), [sp.Matrix(J, dtype = complex)])"
   ]
  },
  {
   "cell_type": "code",
   "execution_count": 5,
   "metadata": {
    "id": "sLolZHEOo7Yw"
   },
   "outputs": [],
   "source": [
    "# Funcion que nos saca el estado estacionario\n",
    "def estacionario(L, d):\n",
    "  # Diagonalizamos el lindbladiano\n",
    "  LH = np.matrix(L.H, dtype = complex)\n",
    "  L = np.matrix(L, dtype = complex)\n",
    "  vals, vects_h = np.linalg.eig(LH)\n",
    "  vals, vects = np.linalg.eig(L)\n",
    "  vects = [matriz/np.linalg.norm(matriz) for matriz in vects]\n",
    "  vects_h = [matriz/np.linalg.norm(matriz) for matriz in vects_h]\n",
    "\n",
    "  # Sacamos el estado estacionario que es el autovector correspondiente al autovalor mas cercano a 0\n",
    "  reales = [-np.abs(valor) for valor in vals]\n",
    "  minimo = max(reales)\n",
    "  indice = reales.index(minimo)\n",
    "\n",
    "  # Pasamos el estado estacionario a matriz\n",
    "  r = np.reshape(vects[indice], (d.shape[0], d.shape[1]))\n",
    "  l = np.reshape(vects_h[indice], (d.shape[0], d.shape[1]))\n",
    "\n",
    "  res = np.trace(np.dot(l, d))*r\n",
    "\n",
    "  return r/np.trace(r)\n",
    "  #return res/np.trace(res)\n",
    "  # Funcion que nos resuelve la ecuacion maestra igualada a 0\n",
    "def ec_maestra(L, H):\n",
    "  d = FL_vector(matriz_cuadrada(H.shape[0]))\n",
    "  sol = sp.solve(L*d, [d[i] for i in range(len(d))])\n",
    "  return sol\n",
    "\n",
    "# Funcion que resuelve el sistema mediante el metodo de montecarlo\n",
    "def ResolverSistema(d0, H, salto, N, nveces):\n",
    "  # Establecemos un limite de tiempo\n",
    "  t = 0.0\n",
    "  limite = 1000.0\n",
    "  tiempo = [t]\n",
    "  dt = 0.01\n",
    "\n",
    "  nfotones = 0 # numero de fotones\n",
    "  res = [d0]\n",
    "  # Hamiltoniano efectivo\n",
    "  Heff = H_eff(H, salto)\n",
    "\n",
    "  # Operadores de evolución y de salto del sistema\n",
    "  V = [np.sqrt(dt)*J for J in salto]\n",
    "  V_0 = kronecker(id, 0, N) - 1.j*dt*Heff\n",
    "\n",
    "  intentos = [] #Aqui guardamos todos los resultados para cada realizacion\n",
    "\n",
    "  # Calculamos las probabilides iniciales\n",
    "  p0 = Calcularp(d0, V_0)\n",
    "  p = Calcularp(d0, V[0])\n",
    "  d = d0\n",
    "  # Empezamos con el bucle\n",
    "  while(t < limite):\n",
    "    prob = random.random()\n",
    "    if(prob < p):\n",
    "      nfotones += 1\n",
    "      d = NuevoEstado(d, V[0], H)\n",
    "    else:\n",
    "      d = NuevoEstado(d, V_0, H)\n",
    "    p0 = Calcularp(d, V_0)\n",
    "    p = Calcularp(d, V[0])\n",
    "    res.append(d)\n",
    "    t += dt\n",
    "    tiempo.append(t)\n",
    "\n",
    "  intentos.append(res)\n",
    "  # Ahora, hacemos el bucle otras nveces-1 veces para luego promediar\n",
    "  indice = 1\n",
    "  while(indice < nveces):\n",
    "    d = d0\n",
    "    res = [d0]\n",
    "    t = 0.0\n",
    "    # Calculamos las probabilidades iniciales\n",
    "    p0 = Calcularp(d, V_0)\n",
    "    p = Calcularp(d, V[0])\n",
    "    while(t < limite):\n",
    "      prob = random.random()\n",
    "      if(prob < p):\n",
    "        nfotones += 1\n",
    "        d = NuevoEstado(d, V[0], H)\n",
    "      else:\n",
    "        d = NuevoEstado(d, V_0, H)\n",
    "      p0 = Calcularp(d, V_0)\n",
    "      p = Calcularp(d, V[0])\n",
    "      res.append(d)\n",
    "      t += dt\n",
    "    intentos.append(res)\n",
    "    indice += 1\n",
    "\n",
    "  # Por último calculamos el promedio de las trayectorias\n",
    "  suma = [0 for i in range(len(intentos[0]))]\n",
    "  for i in range(len(intentos[0])):\n",
    "    for elemento in intentos:\n",
    "      suma[i] += elemento[i]\n",
    "  final = [elemento/nveces for elemento in suma]\n",
    "  return final, tiempo, nfotones\n"
   ]
  },
  {
   "cell_type": "code",
   "execution_count": null,
   "metadata": {
    "colab": {
     "base_uri": "https://localhost:8080/"
    },
    "id": "fUkwWu8R5tpd",
    "outputId": "f80c40d4-9492-4818-a6cd-1fa9c2708f43"
   },
   "outputs": [
    {
     "data": {
      "text/plain": [
       "(5.397605346933562e-91+2.5788057064433696e-97j)"
      ]
     },
     "execution_count": 163,
     "metadata": {},
     "output_type": "execute_result"
    }
   ],
   "source": [
    "np.trace(np.matrix(L, dtype = complex))\n",
    "np.linalg.det(np.matrix(L, dtype = complex))"
   ]
  },
  {
   "cell_type": "code",
   "execution_count": null,
   "metadata": {
    "id": "utt131dH9XK0"
   },
   "outputs": [],
   "source": [
    "estacionario(L, d0)"
   ]
  },
  {
   "cell_type": "code",
   "execution_count": null,
   "metadata": {
    "id": "ezq9TZ6j5MJb"
   },
   "outputs": [],
   "source": [
    "r = ec_maestra(L, H)\n",
    "r"
   ]
  },
  {
   "cell_type": "code",
   "execution_count": null,
   "metadata": {
    "id": "4QX750LTczBh"
   },
   "outputs": [],
   "source": [
    "L = np.matrix(L, dtype = complex)\n",
    "vals, vects = np.linalg.eig(L)\n",
    "vects = [matriz/np.linalg.norm(matriz) for matriz in vects]"
   ]
  },
  {
   "cell_type": "code",
   "execution_count": null,
   "metadata": {
    "colab": {
     "base_uri": "https://localhost:8080/"
    },
    "id": "Istc6qdMqPaL",
    "outputId": "82048993-1915-4070-a94b-b374d0fcaefc"
   },
   "outputs": [
    {
     "data": {
      "text/plain": [
       "(3.1314981731334994e-16+1.5840081102529312e-16j)"
      ]
     },
     "execution_count": 108,
     "metadata": {},
     "output_type": "execute_result"
    }
   ],
   "source": [
    "maximo = max(vals)\n",
    "list(vals).index(maximo)\n",
    "vals[780]"
   ]
  },
  {
   "cell_type": "code",
   "execution_count": null,
   "metadata": {
    "colab": {
     "base_uri": "https://localhost:8080/"
    },
    "id": "YBjnmOhIydTH",
    "outputId": "fca93b2c-ff1b-475b-9622-b211a6234830"
   },
   "outputs": [
    {
     "data": {
      "text/plain": [
       "224"
      ]
     },
     "execution_count": 129,
     "metadata": {},
     "output_type": "execute_result"
    }
   ],
   "source": [
    "lista = [-np.real(valor) for valor in vals]\n",
    "lista.index(max(lista))"
   ]
  },
  {
   "cell_type": "code",
   "execution_count": null,
   "metadata": {
    "colab": {
     "base_uri": "https://localhost:8080/"
    },
    "id": "Kq_UIWeszAnW",
    "outputId": "a96d4eca-f239-41e2-ff49-7db79dc24829"
   },
   "outputs": [
    {
     "data": {
      "text/plain": [
       "(-0.002000000180000244+1.657136633413507e-15j)"
      ]
     },
     "execution_count": 130,
     "metadata": {},
     "output_type": "execute_result"
    }
   ],
   "source": [
    "vals[224]"
   ]
  },
  {
   "cell_type": "code",
   "execution_count": null,
   "metadata": {
    "colab": {
     "base_uri": "https://localhost:8080/"
    },
    "id": "4SZ2SerTzFCt",
    "outputId": "b75f640c-2701-45b8-d36a-8c1f8b91d71a"
   },
   "outputs": [
    {
     "data": {
      "text/plain": [
       "matrix([[ 1.47699794e-24-2.13706156e-27j,\n",
       "          1.52361707e-24-1.47316682e-24j,\n",
       "         -1.89615360e-17-4.73261294e-17j, ...,\n",
       "          0.00000000e+00+0.00000000e+00j,\n",
       "          0.00000000e+00+0.00000000e+00j,\n",
       "          0.00000000e+00-0.00000000e+00j]])"
      ]
     },
     "execution_count": 131,
     "metadata": {},
     "output_type": "execute_result"
    }
   ],
   "source": [
    "vects[224]"
   ]
  },
  {
   "cell_type": "code",
   "execution_count": null,
   "metadata": {
    "colab": {
     "base_uri": "https://localhost:8080/"
    },
    "id": "7vs6mkWksgmT",
    "outputId": "f3f0c1d1-24b2-45f8-c52a-91898e4fa9c2"
   },
   "outputs": [
    {
     "data": {
      "text/plain": [
       "(-2.282915432044476e-16-8.4147958384748e-16j)"
      ]
     },
     "execution_count": 132,
     "metadata": {},
     "output_type": "execute_result"
    }
   ],
   "source": [
    "r = np.reshape(vects[224], (d.shape[0], d.shape[1]))\n",
    "np.trace(np.dot(r, r))"
   ]
  },
  {
   "cell_type": "code",
   "execution_count": null,
   "metadata": {
    "id": "vVkpT-Sqo_ja"
   },
   "outputs": [],
   "source": [
    "vects[0][0, 1]\n",
    "maximos = []\n",
    "for vector in vects:\n",
    "  maximos.append(max([np.real(vector[0, i]) for i in range(vector.shape[1])]))"
   ]
  },
  {
   "cell_type": "code",
   "execution_count": null,
   "metadata": {
    "colab": {
     "base_uri": "https://localhost:8080/"
    },
    "id": "DUu2S1K_q7Mr",
    "outputId": "fb1979d1-9d9e-4310-bb3c-bb63ac4616ff"
   },
   "outputs": [
    {
     "data": {
      "text/plain": [
       "0.290633550498055"
      ]
     },
     "execution_count": 60,
     "metadata": {},
     "output_type": "execute_result"
    }
   ],
   "source": [
    "maximos[9]"
   ]
  },
  {
   "cell_type": "code",
   "execution_count": null,
   "metadata": {
    "colab": {
     "base_uri": "https://localhost:8080/"
    },
    "id": "dPwuyXpaqjId",
    "outputId": "4d18c338-c6e5-4125-8aab-48a61e47ed29"
   },
   "outputs": [
    {
     "data": {
      "text/plain": [
       "0.9999999650009311"
      ]
     },
     "execution_count": 59,
     "metadata": {},
     "output_type": "execute_result"
    }
   ],
   "source": [
    "max(maximos)"
   ]
  },
  {
   "cell_type": "code",
   "execution_count": null,
   "metadata": {
    "id": "LccpuEj4c1vg"
   },
   "outputs": [],
   "source": [
    "lista = []\n",
    "for vector in vects:\n",
    "  lista.append(indices_mayores_que_100(vector, 1.0))\n",
    "for elemento in lista:\n",
    "  if(elemento != []):\n",
    "    print(elemento)"
   ]
  },
  {
   "cell_type": "code",
   "execution_count": null,
   "metadata": {
    "colab": {
     "base_uri": "https://localhost:8080/"
    },
    "id": "-rlNc6SYbzbC",
    "outputId": "464dacbb-d038-4d69-9440-eeb835fa3475"
   },
   "outputs": [
    {
     "data": {
      "text/plain": [
       "[]"
      ]
     },
     "execution_count": 122,
     "metadata": {},
     "output_type": "execute_result"
    }
   ],
   "source": [
    "indices_mayores_que_100(np.matrix(estacionario(L, densidad(N)), dtype = complex), 100)"
   ]
  },
  {
   "cell_type": "code",
   "execution_count": null,
   "metadata": {
    "colab": {
     "base_uri": "https://localhost:8080/",
     "height": 316
    },
    "id": "JP1szuoEi0ra",
    "outputId": "4a3f3a73-4f28-43ab-d378-df4ce8e6a683"
   },
   "outputs": [
    {
     "ename": "ValueError",
     "evalue": "0 is not in list",
     "output_type": "error",
     "traceback": [
      "\u001b[0;31m---------------------------------------------------------------------------\u001b[0m",
      "\u001b[0;31mValueError\u001b[0m                                Traceback (most recent call last)",
      "\u001b[0;32m<ipython-input-106-abd565ee68ac>\u001b[0m in \u001b[0;36m<cell line: 2>\u001b[0;34m()\u001b[0m\n\u001b[1;32m      1\u001b[0m \u001b[0md\u001b[0m \u001b[0;34m=\u001b[0m \u001b[0mdensidad\u001b[0m\u001b[0;34m(\u001b[0m\u001b[0;36m5\u001b[0m\u001b[0;34m)\u001b[0m\u001b[0;34m\u001b[0m\u001b[0;34m\u001b[0m\u001b[0m\n\u001b[0;32m----> 2\u001b[0;31m \u001b[0mr\u001b[0m \u001b[0;34m=\u001b[0m \u001b[0mestacionario\u001b[0m\u001b[0;34m(\u001b[0m\u001b[0mL\u001b[0m\u001b[0;34m,\u001b[0m \u001b[0md\u001b[0m\u001b[0;34m)\u001b[0m\u001b[0;34m\u001b[0m\u001b[0;34m\u001b[0m\u001b[0m\n\u001b[0m",
      "\u001b[0;32m<ipython-input-105-c66620b8f92d>\u001b[0m in \u001b[0;36mestacionario\u001b[0;34m(L, d)\u001b[0m\n\u001b[1;32m     13\u001b[0m   \u001b[0mminimo\u001b[0m \u001b[0;34m=\u001b[0m \u001b[0mmax\u001b[0m\u001b[0;34m(\u001b[0m\u001b[0mreales\u001b[0m\u001b[0;34m)\u001b[0m\u001b[0;34m\u001b[0m\u001b[0;34m\u001b[0m\u001b[0m\n\u001b[1;32m     14\u001b[0m   \u001b[0;31m#indice = reales.index(minimo)\u001b[0m\u001b[0;34m\u001b[0m\u001b[0;34m\u001b[0m\u001b[0m\n\u001b[0;32m---> 15\u001b[0;31m   \u001b[0mindice\u001b[0m \u001b[0;34m=\u001b[0m \u001b[0mreales\u001b[0m\u001b[0;34m.\u001b[0m\u001b[0mindex\u001b[0m\u001b[0;34m(\u001b[0m\u001b[0;36m0\u001b[0m\u001b[0;34m)\u001b[0m\u001b[0;34m\u001b[0m\u001b[0;34m\u001b[0m\u001b[0m\n\u001b[0m\u001b[1;32m     16\u001b[0m   \u001b[0;31m# Pasamos el estado estacionario a matriz\u001b[0m\u001b[0;34m\u001b[0m\u001b[0;34m\u001b[0m\u001b[0m\n\u001b[1;32m     17\u001b[0m   \u001b[0mr\u001b[0m \u001b[0;34m=\u001b[0m \u001b[0mnp\u001b[0m\u001b[0;34m.\u001b[0m\u001b[0mreshape\u001b[0m\u001b[0;34m(\u001b[0m\u001b[0mvects\u001b[0m\u001b[0;34m[\u001b[0m\u001b[0mindice\u001b[0m\u001b[0;34m]\u001b[0m\u001b[0;34m,\u001b[0m \u001b[0;34m(\u001b[0m\u001b[0md\u001b[0m\u001b[0;34m.\u001b[0m\u001b[0mshape\u001b[0m\u001b[0;34m[\u001b[0m\u001b[0;36m0\u001b[0m\u001b[0;34m]\u001b[0m\u001b[0;34m,\u001b[0m \u001b[0md\u001b[0m\u001b[0;34m.\u001b[0m\u001b[0mshape\u001b[0m\u001b[0;34m[\u001b[0m\u001b[0;36m1\u001b[0m\u001b[0;34m]\u001b[0m\u001b[0;34m)\u001b[0m\u001b[0;34m)\u001b[0m\u001b[0;34m\u001b[0m\u001b[0;34m\u001b[0m\u001b[0m\n",
      "\u001b[0;31mValueError\u001b[0m: 0 is not in list"
     ]
    }
   ],
   "source": [
    "d = densidad(5)\n",
    "r = estacionario(L, d)"
   ]
  },
  {
   "cell_type": "code",
   "execution_count": null,
   "metadata": {
    "colab": {
     "base_uri": "https://localhost:8080/"
    },
    "id": "KS_nI2bPiv08",
    "outputId": "905e79c5-5ff5-4a32-c63a-5f682772035d"
   },
   "outputs": [
    {
     "data": {
      "text/plain": [
       "((-0.004439546245416557-0.05236704541131488j),\n",
       " 0.9999999999999998,\n",
       " (0.048078140014362995-0.08430543083128468j))"
      ]
     },
     "execution_count": 94,
     "metadata": {},
     "output_type": "execute_result"
    }
   ],
   "source": [
    "np.trace(np.dot(r, r)), np.linalg.norm(r), np.trace(r)"
   ]
  },
  {
   "cell_type": "code",
   "execution_count": null,
   "metadata": {
    "colab": {
     "base_uri": "https://localhost:8080/"
    },
    "id": "ln0FD9WDnvnp",
    "outputId": "e61f99bf-520a-4e30-d411-50350d640c6f"
   },
   "outputs": [
    {
     "data": {
      "text/plain": [
       "(0.065161274062752+8.819164695178212e-06j)"
      ]
     },
     "execution_count": 32,
     "metadata": {},
     "output_type": "execute_result"
    }
   ],
   "source": [
    "ob = [v1[i][0, 4] for i in range(len(v1))]\n",
    "max(ob)"
   ]
  },
  {
   "cell_type": "code",
   "execution_count": null,
   "metadata": {
    "colab": {
     "base_uri": "https://localhost:8080/"
    },
    "id": "HxocauQ3n5v1",
    "outputId": "2cefb022-0ab7-4032-8f6c-11eb9c57acfd"
   },
   "outputs": [
    {
     "data": {
      "text/plain": [
       "(0.018848198282274013+0.0019707601322727095j)"
      ]
     },
     "execution_count": 34,
     "metadata": {},
     "output_type": "execute_result"
    }
   ],
   "source": [
    "v1[100][0, 4]"
   ]
  },
  {
   "cell_type": "code",
   "execution_count": null,
   "metadata": {
    "colab": {
     "base_uri": "https://localhost:8080/"
    },
    "id": "IYuxxyq1nCxz",
    "outputId": "708424fc-0cbf-430c-a843-50bd0ddac923"
   },
   "outputs": [
    {
     "data": {
      "text/plain": [
       "(0.065161274062752+8.819164695178212e-06j)"
      ]
     },
     "execution_count": 31,
     "metadata": {},
     "output_type": "execute_result"
    }
   ],
   "source": [
    "max([v1[i][0, 4] for i in range(len(v1))])"
   ]
  },
  {
   "cell_type": "code",
   "execution_count": null,
   "metadata": {
    "colab": {
     "base_uri": "https://localhost:8080/"
    },
    "id": "KzQD5eCrjott",
    "outputId": "e7d7737b-7837-4762-f834-ce20e9eea61d"
   },
   "outputs": [
    {
     "data": {
      "text/plain": [
       "(0.018848198282274013+0.0019707601322727095j)"
      ]
     },
     "execution_count": 28,
     "metadata": {},
     "output_type": "execute_result"
    }
   ],
   "source": [
    "v1[100][0, 4]"
   ]
  },
  {
   "cell_type": "markdown",
   "metadata": {
    "id": "oRZ9340Av9Wb"
   },
   "source": [
    "Ponemos en marcha la obtención de la transformación unitaria basada en el efecto MPemba."
   ]
  },
  {
   "cell_type": "code",
   "execution_count": null,
   "metadata": {
    "colab": {
     "base_uri": "https://localhost:8080/"
    },
    "id": "C9rVD9Zkv8Hi",
    "outputId": "88201e31-3aac-4543-a4df-b676dcd9ed22"
   },
   "outputs": [
    {
     "name": "stdout",
     "output_type": "stream",
     "text": [
      "densidad hecha\n",
      "(16, 16)\n",
      "Hemos diagonalizado el lindbladiano\n",
      "Autovalores de L\n",
      "[(0.20492107193783637+0.614424720225504j), (0.12370190020264628-0.2819140692522244j), (-6.968409955496851e-09-6.761742301423225e-09j), (6.968410003610192e-09+6.761742091578151e-09j)]\n",
      "[[ 2.05524108e-01-5.96484537e-01j  2.58081342e-01-5.17866266e-01j\n",
      "  -5.48803737e-16-4.25552212e-16j -5.48803723e-16-4.25552206e-16j]\n",
      " [-3.63166581e-02+3.15620034e-02j  2.30072812e-02-8.99421327e-02j\n",
      "  -1.27699750e-08-1.23912455e-08j  1.27699750e-08+1.23912455e-08j]\n",
      " [ 7.33131244e-01+0.00000000e+00j -2.75005986e-01-2.79862387e-01j\n",
      "  -1.19907018e-16-5.46330735e-17j -1.19907018e-16-5.46331004e-17j]\n",
      " [-2.09598863e-01-1.35047677e-01j  7.08969944e-01+0.00000000e+00j\n",
      "   1.00000000e+00+0.00000000e+00j  1.00000000e+00+0.00000000e+00j]]\n",
      "[False, False, False, False]\n",
      "Hemos elegido la via del no cero\n",
      "La s me sale: 0.7853981633974483\n",
      "Hemos diagonalizado el lindbladiano\n",
      "[(0.20492107193783637+0.614424720225504j), (0.12370190020264628-0.2819140692522244j), (-6.968409955496851e-09-6.761742301423225e-09j), (6.968410003610192e-09+6.761742091578151e-09j)]\n",
      "[False, False, False, False]\n",
      "Hemos elegido la via del no cero\n",
      "La s me sale: 0.7853981633974483\n",
      "Matriz guardada exitosamente en Mpemba.dat\n",
      "(4, 4)\n"
     ]
    }
   ],
   "source": [
    "dt = 0.01 #salto de tiempo\n",
    "\n",
    "# Medimos el tiempo\n",
    "t1 = time.time()\n",
    "\n",
    "# Matrices de Pauli\n",
    "id = np.matrix([[1.0, 0.0], [0.0, 1.0]], dtype = complex)\n",
    "sx = np.matrix([[0.0, 1.0], [1.0, 0.0]], dtype = complex)\n",
    "sy = np.matrix([[0.0, -1.j], [1.j, 0.0]], dtype = complex)\n",
    "sz = np.matrix([[1.0, 0.0], [0.0, -1.0]], dtype = complex)\n",
    "num = np.matrix([[1.0, 0.0], [0.0, 0.0]], dtype = complex)\n",
    "\n",
    "# Hamiltoniano, operador salto y hamiltoniano efecivo\n",
    "N = 2\n",
    "sigma = 1.0\n",
    "nveces = 1e4\n",
    "#w = 0.25*sigma\n",
    "w = 1.0*sigma\n",
    "#k = 0.5*sigma + 0.5*np.sqrt(1-8*w*w)\n",
    "#k = 0.5*sigma\n",
    "k = 1.0*sigma\n",
    "#g = 0.05*sigma\n",
    "#g = 0.5*sigma\n",
    "g = 1.0*sigma\n",
    "params = [sigma, w, k, g]\n",
    "H, J = dicke(N, params)\n",
    "#Heff = H_eff(H, [J])\n",
    "#print(Heff.shape)\n",
    "\n",
    "# Matriz densidad\n",
    "d0 = densidad(N)\n",
    "print('densidad hecha')\n",
    "L, b = Limblad(sp.Matrix(H, dtype = complex), [sp.Matrix(J, dtype = complex)])\n",
    "print(L.shape)\n",
    "U2 = Mpemba2(L, d0, N)\n",
    "U1 = Mpemba(L, d0, N)\n",
    "duracion = time.time() - t1\n",
    "\n",
    "def guardar_matriz_en_archivo(matriz, nombre_archivo):\n",
    "    try:\n",
    "        with open(nombre_archivo, 'w') as archivo:\n",
    "            for fila in matriz:\n",
    "                fila_str = ' '.join(map(str, fila))\n",
    "                archivo.write(fila_str + '\\n')\n",
    "        print(f\"Matriz guardada exitosamente en {nombre_archivo}\")\n",
    "    except Exception as e:\n",
    "        print(f\"Error al guardar la matriz en el archivo: {e}\")\n",
    "\n",
    "nombre_archivo_salida = 'Mpemba.dat'\n",
    "guardar_matriz_en_archivo(U1, nombre_archivo_salida)\n",
    "\n",
    "d0_exp1 = np.dot(np.dot(U1, d0), np.conjugate(U1.T))\n",
    "d0_exp2 = np.dot(np.dot(U2, d0), np.conjugate(U2.T))\n",
    "print(d0.shape)\n",
    "v1, tiempo, n1 = ResolverSistema(d0, H, [J], N, nveces)\n",
    "v2, tiempo, n2 = ResolverSistema(d0_exp1, H, [J], N, nveces)\n",
    "v3, tiempo, n3 = ResolverSistema(d0_exp2, H, [J], N, nveces)\n",
    "\n",
    "dens = [v1, v2, v3]\n",
    "#dens = [v1, v2]"
   ]
  },
  {
   "cell_type": "code",
   "execution_count": 5,
   "metadata": {
    "colab": {
     "base_uri": "https://localhost:8080/",
     "height": 119
    },
    "id": "mH2xExooghv7",
    "outputId": "a455c18d-0e32-47bd-f953-ee8723e4bd51"
   },
   "outputs": [
    {
     "data": {
      "text/latex": [
       "$\\displaystyle \\left[\\begin{matrix}0.36366044832622 - 1.08629956379952 i & -0.708293529727207 - 0.911845817121716 i & 9.06609269730407 \\cdot 10^{-16} - 1.04809530906139 \\cdot 10^{-15} i & 9.06609245051465 \\cdot 10^{-16} - 1.04809529208725 \\cdot 10^{-15} i\\\\-0.448981959430882 - 1.06374701812104 i & 0.464766676419971 - 0.913700436200482 i & 9.49495924881773 \\cdot 10^{-16} - 8.4484766956649 \\cdot 10^{-16} i & 9.49495900414705 \\cdot 10^{-16} - 8.44847657077092 \\cdot 10^{-16} i\\\\-1.35758177066007 \\cdot 10^{-15} + 2.78237094595701 \\cdot 10^{-16} i & -1.20127026118349 \\cdot 10^{-15} + 4.15041992737085 \\cdot 10^{-16} i & 1.0 - 1.31622135559017 \\cdot 10^{-30} i & -7.71024610074844 \\cdot 10^{-31} - 1.31622132385605 \\cdot 10^{-30} i\\\\-1.35758174378517 \\cdot 10^{-15} + 2.782370813703 \\cdot 10^{-16} i & -1.20127023832407 \\cdot 10^{-15} + 4.15041977503266 \\cdot 10^{-16} i & -7.71024595713571 \\cdot 10^{-31} - 1.31622133226869 \\cdot 10^{-30} i & 1.0 - 1.31622130053457 \\cdot 10^{-30} i\\end{matrix}\\right]$"
      ],
      "text/plain": [
       "Matrix([\n",
       "[         0.36366044832622 - 1.08629956379952*I,       -0.708293529727207 - 0.911845817121716*I,  9.06609269730407e-16 - 1.04809530906139e-15*I,  9.06609245051465e-16 - 1.04809529208725e-15*I],\n",
       "[       -0.448981959430882 - 1.06374701812104*I,        0.464766676419971 - 0.913700436200482*I,   9.49495924881773e-16 - 8.4484766956649e-16*I,  9.49495900414705e-16 - 8.44847657077092e-16*I],\n",
       "[-1.35758177066007e-15 + 2.78237094595701e-16*I, -1.20127026118349e-15 + 4.15041992737085e-16*I,                   1.0 - 1.31622135559017e-30*I, -7.71024610074844e-31 - 1.31622132385605e-30*I],\n",
       "[  -1.35758174378517e-15 + 2.782370813703e-16*I, -1.20127023832407e-15 + 4.15041977503266e-16*I, -7.71024595713571e-31 - 1.31622133226869e-30*I,                   1.0 - 1.31622130053457e-30*I]])"
      ]
     },
     "execution_count": 5,
     "metadata": {},
     "output_type": "execute_result"
    }
   ],
   "source": [
    "sp.Matrix(U1)"
   ]
  },
  {
   "cell_type": "code",
   "execution_count": 6,
   "metadata": {
    "id": "vuX5gd1-fJLd"
   },
   "outputs": [],
   "source": [
    "# Funcion que me crea el hamiltoninano del modelo de Dicke dado un cierto numero de spines y su operador salto\n",
    "def dicke(N, params):\n",
    "  id = np.matrix([[1.0, 0.0], [0.0, 1.0]], dtype = complex)\n",
    "  sx = np.matrix([[0.0, 1.0], [1.0, 0.0]], dtype = complex)\n",
    "  sy = np.matrix([[0.0, -1.j], [1.j, 0.0]], dtype = complex)\n",
    "  sz = np.matrix([[1.0, 0.0], [0.0, -1.0]], dtype = complex)\n",
    "\n",
    "  sigma = params[0]\n",
    "  w = params[1]\n",
    "  k = params[2]\n",
    "  g = params[3]\n",
    "\n",
    "  suma1 = kronecker(0.5*sz, 0, N)\n",
    "  suma2 = kronecker(0.25*np.dot(sx, sx), 0, N)\n",
    "  suma3 = kronecker(0.5*sx, 0, N)\n",
    "\n",
    "  i = 1\n",
    "  while(i < N):\n",
    "    #print(i)\n",
    "    suma1 += kronecker(0.5*sz, i, N)\n",
    "    suma2 += kronecker(0.25*np.dot(sx, sx), i, N)\n",
    "    suma3 += kronecker(0.5*sx, i, N)\n",
    "    i += 1\n",
    "\n",
    "  H = sigma*suma1 - ((4.0*w*g*g)/(4.0*w**2 + k**2))*(1.0/N)*suma2\n",
    "  J = ((2.0*np.abs(g)*np.sqrt(k))/(np.sqrt(N*(4*w*w + k*k))))*suma3\n",
    "\n",
    "  return H, J"
   ]
  },
  {
   "cell_type": "code",
   "execution_count": 7,
   "metadata": {
    "colab": {
     "base_uri": "https://localhost:8080/"
    },
    "id": "xXtYCQUfczMR",
    "outputId": "b8ddcd30-6ef9-47c7-9b15-486008d8d6eb"
   },
   "outputs": [
    {
     "data": {
      "text/plain": [
       "matrix([[0.        +0.j, 0.31622777+0.j, 0.31622777+0.j, 0.        +0.j],\n",
       "        [0.31622777+0.j, 0.        +0.j, 0.        +0.j, 0.31622777+0.j],\n",
       "        [0.31622777+0.j, 0.        +0.j, 0.        +0.j, 0.31622777+0.j],\n",
       "        [0.        +0.j, 0.31622777+0.j, 0.31622777+0.j, 0.        +0.j]])"
      ]
     },
     "execution_count": 7,
     "metadata": {},
     "output_type": "execute_result"
    }
   ],
   "source": [
    "J"
   ]
  },
  {
   "cell_type": "code",
   "execution_count": 8,
   "metadata": {
    "colab": {
     "base_uri": "https://localhost:8080/"
    },
    "id": "c_T1FVV7bbad",
    "outputId": "d5e7c8dc-b2eb-46c2-c45a-164bc607f169"
   },
   "outputs": [
    {
     "data": {
      "text/plain": [
       "matrix([[ 0.8+0.j,  0. +0.j,  0. +0.j,  0. +0.j],\n",
       "        [ 0. +0.j, -0.2+0.j,  0. +0.j,  0. +0.j],\n",
       "        [ 0. +0.j,  0. +0.j, -0.2+0.j,  0. +0.j],\n",
       "        [ 0. +0.j,  0. +0.j,  0. +0.j, -1.2+0.j]])"
      ]
     },
     "execution_count": 8,
     "metadata": {},
     "output_type": "execute_result"
    }
   ],
   "source": [
    "H"
   ]
  },
  {
   "cell_type": "code",
   "execution_count": 11,
   "metadata": {
    "colab": {
     "base_uri": "https://localhost:8080/",
     "height": 499
    },
    "id": "LbOBN2q6wbVh",
    "outputId": "6e735903-c4d5-4a9e-f87b-fcbbb0d8477c"
   },
   "outputs": [
    {
     "name": "stdout",
     "output_type": "stream",
     "text": [
      "24335\n",
      "16604\n",
      "17075\n"
     ]
    },
    {
     "data": {
      "image/png": "[encoded data removed]",
      "text/plain": [
       "<Figure size 640x480 with 1 Axes>"
      ]
     },
     "metadata": {},
     "output_type": "display_data"
    },
    {
     "name": "stdout",
     "output_type": "stream",
     "text": [
      "He tardado 0.22898578643798828 segundos.\n"
     ]
    }
   ],
   "source": [
    "ob = [[np.real(v[i][v[i].shape[0]-1, v[i].shape[1]-1]) for i in range(len(v))] for v in dens]\n",
    "#ob = [[np.real(v[i][5, 5]) for i in range(len(v))] for v in dens]\n",
    "print(n1)\n",
    "print(n2)\n",
    "print(n3)\n",
    "plt.plot(tiempo, ob[0], 'b-', label = 'Random')\n",
    "plt.plot(tiempo, ob[1], 'r-', label = 'MPemba1')\n",
    "plt.plot(tiempo, ob[2], 'g-', label = 'MPemba2')\n",
    "plt.legend(loc = 'upper right')\n",
    "plt.show()\n",
    "print(f\"He tardado {duracion} segundos.\")"
   ]
  },
  {
   "cell_type": "code",
   "execution_count": 12,
   "metadata": {
    "id": "ke8MdIJM2PmY"
   },
   "outputs": [],
   "source": [
    "r = estacionario(L, d0)"
   ]
  },
  {
   "cell_type": "code",
   "execution_count": 13,
   "metadata": {
    "colab": {
     "base_uri": "https://localhost:8080/"
    },
    "id": "cFDmOgzS3efK",
    "outputId": "23bce036-401a-4606-dfc8-57369d51d276"
   },
   "outputs": [
    {
     "data": {
      "text/plain": [
       "((1.0000000000000004-8.326672684688674e-17j),\n",
       " (1.0715254740483482+0.3773890131307879j),\n",
       " 1.7632511435214289)"
      ]
     },
     "execution_count": 13,
     "metadata": {},
     "output_type": "execute_result"
    }
   ],
   "source": [
    "np.trace(r), np.trace(np.dot(r, r)), np.linalg.norm(r)"
   ]
  },
  {
   "cell_type": "code",
   "execution_count": null,
   "metadata": {
    "id": "TOKO54jG1O4H"
   },
   "outputs": [],
   "source": [
    "def filtro(matriz, tol):\n",
    "  for i in range(matriz.shape[0]):\n",
    "    for j in range(matriz.shape[1]):\n",
    "      if(matriz[i, j] < tol):\n",
    "        matriz[i, j] = 0.0\n",
    "\n",
    "  return matriz\n"
   ]
  },
  {
   "cell_type": "code",
   "execution_count": null,
   "metadata": {
    "colab": {
     "base_uri": "https://localhost:8080/"
    },
    "id": "pZmzd8vf18HQ",
    "outputId": "a42fb92c-425d-4ab9-d0f3-fa77f9232f0e"
   },
   "outputs": [
    {
     "data": {
      "text/plain": [
       "0j"
      ]
     },
     "execution_count": 144,
     "metadata": {},
     "output_type": "execute_result"
    }
   ],
   "source": [
    "np.trace(filtro(r, 1.0e-10))"
   ]
  },
  {
   "cell_type": "code",
   "execution_count": null,
   "metadata": {
    "colab": {
     "base_uri": "https://localhost:8080/",
     "height": 119
    },
    "id": "iekMbInuPzMa",
    "outputId": "2b1aa2c4-193d-4804-f793-547434528c0d"
   },
   "outputs": [
    {
     "data": {
      "text/latex": [
       "$\\displaystyle \\left[\\begin{matrix}3.25479706683061 \\cdot 10^{-19} + 6.81094798183523 \\cdot 10^{-19} i & -2.91170281790073 \\cdot 10^{-19} - 6.96453179027447 \\cdot 10^{-19} i & -1.11601170857975 \\cdot 10^{-17} + 4.99575055545367 \\cdot 10^{-18} i & -1.94571301804157 \\cdot 10^{-17} + 8.70985207046339 \\cdot 10^{-18} i\\\\-1.58866802669751 \\cdot 10^{-17} + 7.11156443591962 \\cdot 10^{-18} i & 0.00114985667912669 + 0.0306532495441863 i & 0.816268869944714 - 0.0306196643431272 i & 3.96108108981967 \\cdot 10^{-17} - 1.9903362915201 \\cdot 10^{-16} i\\\\8.39074816531272 \\cdot 10^{-17} + 1.41530953799888 \\cdot 10^{-16} i & -0.00425157122145678 + 0.00657613874254872 i & -0.002071186899124 + 0.00689304959042175 i & -3.17317518619023 \\cdot 10^{-17} + 1.25790127262621 \\cdot 10^{-16} i\\\\0.000521727690742467 + 0.0139083847480797 i & 0.062668709757276 - 0.0831746687583739 i & -0.986456928123031 - 0.220252892961652 i & 1.00092133022 - 0.037546299134608 i\\end{matrix}\\right]$"
      ],
      "text/plain": [
       "Matrix([\n",
       "[ 3.25479706683061e-19 + 6.81094798183523e-19*I, -2.91170281790073e-19 - 6.96453179027447e-19*I, -1.11601170857975e-17 + 4.99575055545367e-18*I, -1.94571301804157e-17 + 8.70985207046339e-18*I],\n",
       "[-1.58866802669751e-17 + 7.11156443591962e-18*I,     0.00114985667912669 + 0.0306532495441863*I,       0.816268869944714 - 0.0306196643431272*I,   3.96108108981967e-17 - 1.9903362915201e-16*I],\n",
       "[ 8.39074816531272e-17 + 1.41530953799888e-16*I,   -0.00425157122145678 + 0.00657613874254872*I,     -0.002071186899124 + 0.00689304959042175*I, -3.17317518619023e-17 + 1.25790127262621e-16*I],\n",
       "[   0.000521727690742467 + 0.0139083847480797*I,       0.062668709757276 - 0.0831746687583739*I,       -0.986456928123031 - 0.220252892961652*I,            1.00092133022 - 0.037546299134608*I]])"
      ]
     },
     "execution_count": 91,
     "metadata": {},
     "output_type": "execute_result"
    }
   ],
   "source": [
    "sp.Matrix(r)"
   ]
  },
  {
   "cell_type": "code",
   "execution_count": null,
   "metadata": {
    "colab": {
     "base_uri": "https://localhost:8080/"
    },
    "id": "FuQN-po1aAxa",
    "outputId": "c7e8da45-a583-401b-97cf-c4a5498cbcda"
   },
   "outputs": [
    {
     "data": {
      "text/plain": [
       "(2, 2)"
      ]
     },
     "execution_count": 16,
     "metadata": {},
     "output_type": "execute_result"
    }
   ],
   "source": [
    "r.shape"
   ]
  },
  {
   "cell_type": "code",
   "execution_count": null,
   "metadata": {
    "colab": {
     "base_uri": "https://localhost:8080/"
    },
    "id": "UbfajCfHOZV2",
    "outputId": "cf090c2a-9f92-4f20-a71e-d1de293f9cf1"
   },
   "outputs": [
    {
     "data": {
      "text/plain": [
       "matrix([[0, 1, 0, 0, 1, 0, 0, 2, 1, 1, 1, 0, 1, 1, 1, 0, 0, 0, 1, 0, 0,\n",
       "         0, 0, 1, 2, 1, 0, 1, 0, 0, 1, 0]])"
      ]
     },
     "execution_count": 33,
     "metadata": {},
     "output_type": "execute_result"
    }
   ],
   "source": [
    "sum(r > 100)\n",
    "\n",
    "r.index()"
   ]
  },
  {
   "cell_type": "code",
   "execution_count": null,
   "metadata": {
    "id": "5EpHN6OZ2Uo8"
   },
   "outputs": [],
   "source": [
    "r = filtro(r, 1.0e-10)"
   ]
  },
  {
   "cell_type": "code",
   "execution_count": 18,
   "metadata": {
    "colab": {
     "base_uri": "https://localhost:8080/",
     "height": 430
    },
    "id": "sb8YLZ9H5Sju",
    "outputId": "702442ed-bd7a-4156-c828-ef1c1c3e118e"
   },
   "outputs": [
    {
     "data": {
      "image/png": "[encoded data removed]",
      "text/plain": [
       "<Figure size 640x480 with 1 Axes>"
      ]
     },
     "metadata": {},
     "output_type": "display_data"
    }
   ],
   "source": [
    "# Sacamos la distancia de Hilbert Schmidt para todo tiempo t\n",
    "ob = [[np.real((v[i] - r)[0, 0]) for i in range(len(v))] for v in dens]\n",
    "plt.plot(tiempo, ob[0], 'b.', label = 'Random')\n",
    "plt.plot(tiempo, ob[1], 'r.', label = 'MPemba1')\n",
    "plt.plot(tiempo, ob[2], 'g.', label = 'MPemba2')\n",
    "#plt.xlim(2, 200)\n",
    "#plt.ylim(0.8, 1.2)\n",
    "#plt.ylim(0.99, 1.01)\n",
    "plt.legend(loc = 'upper right')\n",
    "plt.show()\n",
    "#ploteo_MC(ob, tiempo)"
   ]
  },
  {
   "cell_type": "code",
   "execution_count": 26,
   "metadata": {
    "colab": {
     "base_uri": "https://localhost:8080/",
     "height": 452
    },
    "id": "aNf9Qqn32HXq",
    "outputId": "97d48800-4863-4200-df48-992c0a16c36c"
   },
   "outputs": [
    {
     "data": {
      "image/png": "[encoded data removed]",
      "text/plain": [
       "<Figure size 640x480 with 1 Axes>"
      ]
     },
     "metadata": {},
     "output_type": "display_data"
    }
   ],
   "source": [
    "# Sacamos la distancia de Hilbert Schmidt para todo tiempo t\n",
    "#ob = [[np.sqrt(np.trace((v[i] - r))) for i in range(len(v))] for v in dens]\n",
    "#ob = [[np.sqrt(np.trace(np.dot((v[i] - r), (v[i] - r)))) for i in range(len(v))] for v in dens]\n",
    "ob1 = [np.sqrt(np.trace(np.dot(matriz-r, matriz-r))) for matriz in dens[0]]\n",
    "ob2 = [np.sqrt(np.trace(np.dot(matriz-r, matriz-r))) for matriz in dens[1]]\n",
    "ob = [[np.sqrt(np.trace(np.dot(v[i]-r, v[i]-r))) for i in range(len(v))] for v in dens]\n",
    "plt.plot(tiempo, ob1, 'b.', label = 'Random')\n",
    "plt.plot(tiempo, ob2, 'r.', label = 'Mpemba1')\n",
    "plt.plot(tiempo, ob[2], 'g.', label = 'Mpemba2')\n",
    "#plt.xlim(2, 200)\n",
    "#plt.ylim(0.8, 1.2)\n",
    "#plt.ylim(0.998, 1.0040)\n",
    "plt.legend(loc = 'upper right')\n",
    "plt.title('Distancia de Hilbert-Schmidt. Modelo de Dicke')\n",
    "plt.show()\n",
    "#ploteo_MC(ob, tiempo)"
   ]
  },
  {
   "cell_type": "code",
   "execution_count": 21,
   "metadata": {
    "colab": {
     "base_uri": "https://localhost:8080/"
    },
    "id": "EaFiZ7NlgQ1B",
    "outputId": "feb902ba-6aa0-4197-dd5f-4ff1efdf61e5"
   },
   "outputs": [
    {
     "data": {
      "text/plain": [
       "(24335, 16604, 17075)"
      ]
     },
     "execution_count": 21,
     "metadata": {},
     "output_type": "execute_result"
    }
   ],
   "source": [
    "n1, n2, n3"
   ]
  },
  {
   "cell_type": "code",
   "execution_count": 25,
   "metadata": {
    "colab": {
     "base_uri": "https://localhost:8080/",
     "height": 504
    },
    "id": "hyYEShbYwpO6",
    "outputId": "ae48c8e4-eeb7-4e63-ac3d-a39833fe9eca"
   },
   "outputs": [
    {
     "name": "stderr",
     "output_type": "stream",
     "text": [
      "/usr/local/lib/python3.10/dist-packages/matplotlib/cbook/__init__.py:1335: ComplexWarning: Casting complex values to real discards the imaginary part\n",
      "  return np.asarray(x, float)\n"
     ]
    },
    {
     "data": {
      "image/png": "[encoded data removed]",
      "text/plain": [
       "<Figure size 640x480 with 1 Axes>"
      ]
     },
     "metadata": {},
     "output_type": "display_data"
    }
   ],
   "source": [
    "#s = (sx*sx + sy*sy + sz*sz)\n",
    "#s = id\n",
    "s = 0.5*id\n",
    "suma = kronecker(s, 0, N)\n",
    "i = 1\n",
    "while(i < N):\n",
    "  suma += kronecker(s, i, N)\n",
    "  i += 1\n",
    "spin = suma\n",
    "ob = [[np.trace(spin*v[i]) for i in range(len(v))] for v in dens]\n",
    "\n",
    "ploteo_MC(ob, tiempo)"
   ]
  },
  {
   "cell_type": "markdown",
   "metadata": {
    "id": "uMMRSmAf13dv"
   },
   "source": [
    "Vamos a ver a partir de qué valor de g se tienen muchas actuaciones del operador de salto"
   ]
  },
  {
   "cell_type": "code",
   "execution_count": null,
   "metadata": {
    "id": "6ZBL8a5wz3rF"
   },
   "outputs": [],
   "source": [
    "sigma = 1.0\n",
    "dt = 0.01\n",
    "N = 5\n",
    "w = 1.0*sigma\n",
    "k = 1.0*sigma\n",
    "g = 0.1*sigma\n",
    "params = [sigma, w, k, g]\n",
    "i = 0\n",
    "d0 = densidad(N)\n",
    "print('densidad hecha')\n",
    "vector1, vector2, vectorg = [], [], []\n",
    "while(i<20):\n",
    "  print('Iteracion para ' + 'g = ' + str(g) + ': ' + str(i))\n",
    "  H, J = dicke(N, params)\n",
    "  #Heff = H_eff(H, [J])\n",
    "  L, b = Limblad(sp.Matrix(H, dtype = complex), [sp.Matrix(J, dtype = complex)])\n",
    "  U = Mpemba(L, d0, N)\n",
    "  d0_exp = np.dot(np.dot(U, d0), np.conjugate(U.T))\n",
    "  v1, tiempo, n1 = ResolverSistema(d0, H, [J], N)\n",
    "  v2, tiempo, n2 = ResolverSistema(d0_exp, H, [J], N)\n",
    "  vector1.append(n1)\n",
    "  vector2.append(n2)\n",
    "  vectorg.append(g)\n",
    "  print('n1: ' + str(n1) + '\\n')\n",
    "  print('n2: ' + str(n2) + '\\n')\n",
    "  g += 0.1*sigma\n",
    "  params = [sigma, w, k, g]\n",
    "  i += 1"
   ]
  },
  {
   "cell_type": "code",
   "execution_count": null,
   "metadata": {
    "id": "G95NVBCUQnR1"
   },
   "outputs": [],
   "source": [
    "vectorg"
   ]
  },
  {
   "cell_type": "code",
   "execution_count": null,
   "metadata": {
    "colab": {
     "base_uri": "https://localhost:8080/",
     "height": 447
    },
    "id": "pkXOe43e4hEk",
    "outputId": "0951560d-9cb1-4e56-d199-2f4b621c95e4"
   },
   "outputs": [
    {
     "data": {
      "text/plain": [
       "[<matplotlib.lines.Line2D at 0x7924813a0e50>]"
      ]
     },
     "execution_count": 9,
     "metadata": {},
     "output_type": "execute_result"
    },
    {
     "data": {
      "image/png": "[encoded data removed]",
      "text/plain": [
       "<Figure size 640x480 with 1 Axes>"
      ]
     },
     "metadata": {},
     "output_type": "display_data"
    }
   ],
   "source": [
    "vector1 = [0,\n",
    " 1,\n",
    " 6,\n",
    " 16,\n",
    " 21,\n",
    " 33,\n",
    " 40,\n",
    " 56,\n",
    " 65,\n",
    " 100,\n",
    " 117,\n",
    " 113,\n",
    " 189,\n",
    " 100,\n",
    " 221,\n",
    " 190,\n",
    " 149,\n",
    " 244,\n",
    " 320,\n",
    "           368]\n",
    "vector2 = [1,\n",
    " 3,\n",
    " 8,\n",
    " 23,\n",
    " 30,\n",
    " 32,\n",
    " 44,\n",
    " 52,\n",
    " 65,\n",
    " 57,\n",
    " 65,\n",
    " 127,\n",
    " 100,\n",
    " 107,\n",
    " 230,\n",
    " 120,\n",
    " 172,\n",
    " 146,\n",
    " 309,\n",
    " 345]\n",
    "vectorg = [0.1,\n",
    " 0.2,\n",
    " 0.30000000000000004,\n",
    " 0.4,\n",
    " 0.5,\n",
    " 0.6,\n",
    " 0.7,\n",
    " 0.7999999999999999,\n",
    " 0.8999999999999999,\n",
    " 0.9999999999999999,\n",
    " 1.0999999999999999,\n",
    " 1.2,\n",
    " 1.3,\n",
    " 1.4000000000000001,\n",
    " 1.5000000000000002,\n",
    " 1.6000000000000003,\n",
    " 1.7000000000000004,\n",
    " 1.8000000000000005,\n",
    " 1.9000000000000006,\n",
    " 2.0000000000000004]\n",
    "plt.plot(vectorg, vector1, 'bo')\n",
    "plt.plot(vectorg, vector2, 'ro')"
   ]
  },
  {
   "cell_type": "code",
   "execution_count": null,
   "metadata": {
    "id": "61H_VwNSRNQb"
   },
   "outputs": [],
   "source": []
  }
 ],
 "metadata": {
  "colab": {
   "provenance": []
  },
  "kernelspec": {
   "display_name": "Python 3 (ipykernel)",
   "language": "python",
   "name": "python3"
  },
  "language_info": {
   "codemirror_mode": {
    "name": "ipython",
    "version": 3
   },
   "file_extension": ".py",
   "mimetype": "text/x-python",
   "name": "python",
   "nbconvert_exporter": "python",
   "pygments_lexer": "ipython3",
   "version": "3.11.4"
  }
 },
 "nbformat": 4,
 "nbformat_minor": 1
}
