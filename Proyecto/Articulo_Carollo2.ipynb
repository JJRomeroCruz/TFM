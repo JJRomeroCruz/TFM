{
 "cells": [
  {
   "cell_type": "code",
   "execution_count": 1,
   "metadata": {
    "id": "HRrshl89lm_i"
   },
   "outputs": [],
   "source": [
    "import numpy as np\n",
    "import sympy as sp\n",
    "import matplotlib.pyplot as plt\n",
    "import time\n",
    "import random as random\n",
    "from mpl_toolkits.mplot3d import Axes3D\n"
   ]
  },
  {
   "cell_type": "code",
   "execution_count": null,
   "metadata": {
    "id": "NaAc5zozlq9e"
   },
   "outputs": [],
   "source": []
  },
  {
   "cell_type": "markdown",
   "metadata": {
    "id": "9TRvVll_Qx_e"
   },
   "source": [
    "# Funciones"
   ]
  },
  {
   "cell_type": "code",
   "execution_count": 2,
   "metadata": {
    "colab": {
     "base_uri": "https://localhost:8080/"
    },
    "id": "OcQ68KeH0iXE",
    "outputId": "6d924e64-afaf-45e4-cd32-68a23aaeeb2e"
   },
   "outputs": [
    {
     "name": "stdout",
     "output_type": "stream",
     "text": [
      "Vector A: [1, 2, 3]\n",
      "Vector B: [4, 5, 6]\n",
      "Matriz resultante:\n",
      "[[ 4  5  6]\n",
      " [ 8 10 12]\n",
      " [12 15 18]]\n"
     ]
    }
   ],
   "source": [
    "import numpy as np\n",
    "\n",
    "def multiplicar_vectores(v1, v2):\n",
    "    # Convierte las listas en vectores de NumPy\n",
    "    vector1 = np.array(v1)\n",
    "    vector2 = np.array(v2)\n",
    "\n",
    "    # Calcula la matriz resultante\n",
    "    matriz_resultante = np.outer(vector1, vector2)\n",
    "\n",
    "    return matriz_resultante\n",
    "\n",
    "# Ejemplo de uso\n",
    "vector_a = [1, 2, 3]\n",
    "vector_b = [4, 5, 6]\n",
    "\n",
    "matriz_resultante = multiplicar_vectores(vector_a, vector_b)\n",
    "\n",
    "print(\"Vector A:\", vector_a)\n",
    "print(\"Vector B:\", vector_b)\n",
    "print(\"Matriz resultante:\")\n",
    "print(matriz_resultante)\n"
   ]
  },
  {
   "cell_type": "code",
   "execution_count": 3,
   "metadata": {
    "colab": {
     "base_uri": "https://localhost:8080/",
     "height": 176
    },
    "id": "fo6AuMu0G6aL",
    "outputId": "6406c5ef-a994-4441-888b-36e437fd0fa3"
   },
   "outputs": [
    {
     "ename": "NameError",
     "evalue": "name 'kronecker' is not defined",
     "output_type": "error",
     "traceback": [
      "\u001b[0;31m---------------------------------------------------------------------------\u001b[0m",
      "\u001b[0;31mNameError\u001b[0m                                 Traceback (most recent call last)",
      "\u001b[0;32m<ipython-input-3-5b2728ff5633>\u001b[0m in \u001b[0;36m<cell line: 3>\u001b[0;34m()\u001b[0m\n\u001b[1;32m      1\u001b[0m \u001b[0msy\u001b[0m \u001b[0;34m=\u001b[0m \u001b[0mnp\u001b[0m\u001b[0;34m.\u001b[0m\u001b[0mmatrix\u001b[0m\u001b[0;34m(\u001b[0m\u001b[0;34m[\u001b[0m\u001b[0;34m[\u001b[0m\u001b[0;36m0.0\u001b[0m\u001b[0;34m,\u001b[0m \u001b[0;34m-\u001b[0m\u001b[0;36m1.j\u001b[0m\u001b[0;34m]\u001b[0m\u001b[0;34m,\u001b[0m \u001b[0;34m[\u001b[0m\u001b[0;36m1.j\u001b[0m\u001b[0;34m,\u001b[0m \u001b[0;36m0.0\u001b[0m\u001b[0;34m]\u001b[0m\u001b[0;34m]\u001b[0m\u001b[0;34m,\u001b[0m \u001b[0mdtype\u001b[0m \u001b[0;34m=\u001b[0m \u001b[0mcomplex\u001b[0m\u001b[0;34m)\u001b[0m\u001b[0;34m\u001b[0m\u001b[0;34m\u001b[0m\u001b[0m\n\u001b[1;32m      2\u001b[0m \u001b[0;34m\u001b[0m\u001b[0m\n\u001b[0;32m----> 3\u001b[0;31m \u001b[0mkronecker\u001b[0m\u001b[0;34m(\u001b[0m\u001b[0msy\u001b[0m\u001b[0;34m,\u001b[0m \u001b[0;36m0\u001b[0m\u001b[0;34m,\u001b[0m \u001b[0;36m1\u001b[0m\u001b[0;34m)\u001b[0m\u001b[0;34m\u001b[0m\u001b[0;34m\u001b[0m\u001b[0m\n\u001b[0m",
      "\u001b[0;31mNameError\u001b[0m: name 'kronecker' is not defined"
     ]
    }
   ],
   "source": [
    "sy = np.matrix([[0.0, -1.j], [1.j, 0.0]], dtype = complex)\n",
    "\n",
    "kronecker(sy, 0, 1)"
   ]
  },
  {
   "cell_type": "code",
   "execution_count": 3,
   "metadata": {
    "id": "0_KSANdtuf5z"
   },
   "outputs": [],
   "source": [
    "# Funcion que me hace el producto de kronecker de las matrices identidad y ponemos en la posicion pos una matriz dada\n",
    "def kronecker(matriz, pos, n):\n",
    "  id = np.matrix([[1.0, 0.0], [0.0, 1.0]], dtype = complex)\n",
    "  sx = np.matrix([[0.0, 1.0], [1.0, 0.0]], dtype = complex)\n",
    "  sy = np.matrix([[0.0, -1.j], [1.j, 0.0]], dtype = complex)\n",
    "  sz = np.matrix([[1.0, 0.0], [0.0, -1.0]], dtype = complex)\n",
    "  #res = np.zeros((int(2**n), int(2**n)))\n",
    "  if(pos == 0):\n",
    "    res = matriz\n",
    "  else:\n",
    "    res = id\n",
    "\n",
    "  for i in range(1, n):\n",
    "    if(i == pos):\n",
    "      res = np.kron(res, matriz)\n",
    "    else:\n",
    "      res = np.kron(res, id)\n",
    "  return res\n",
    "\n",
    "# Funcion que me crea el hamiltoninano del modelo de Dicke dado un cierto numero de spines y su operador salto\n",
    "def dicke(N, params):\n",
    "  id = np.matrix([[1.0, 0.0], [0.0, 1.0]], dtype = complex)\n",
    "  sx = np.matrix([[0.0, 1.0], [1.0, 0.0]], dtype = complex)\n",
    "  sy = np.matrix([[0.0, -1.j], [1.j, 0.0]], dtype = complex)\n",
    "  sz = np.matrix([[1.0, 0.0], [0.0, -1.0]], dtype = complex)\n",
    "\n",
    "  sigma = params[0]\n",
    "  w = params[1]\n",
    "  k = params[2]\n",
    "  g = params[3]\n",
    "\n",
    "  suma1 = kronecker(0.5*sz, 0, N)\n",
    "  suma2 = kronecker(0.25*np.dot(sx, sx), 0, N)\n",
    "  suma3 = kronecker(0.5*sx, 0, N)\n",
    "\n",
    "  i = 1\n",
    "  while(i < N):\n",
    "    #print(i)\n",
    "    suma1 += kronecker(0.5*sz, i, N)\n",
    "    suma2 += kronecker(0.25*np.dot(sx, sx), i, N)\n",
    "    suma3 += kronecker(0.5*sx, i, N)\n",
    "    i += 1\n",
    "\n",
    "  H = sigma*suma1 - ((4.0*w*g*g)/(4.0*w**2 + k**2))*(1.0/N)*suma2\n",
    "  J = ((2.0*np.abs(g)*np.sqrt(k))/(np.sqrt(N*(4*w*w + k*k))))*suma3\n",
    "\n",
    "  return H, J\n",
    "\n",
    "# Funcion que me hace el ketbra de dos vectores\n",
    "def ketbra(v1, v2):\n",
    "  m = np.outer(v1, np.conjugate(v2))\n",
    "  return m\n",
    "\n",
    "# Funcion que me genera una matriz densidad inicial a partir de una combinacion lineal de los autoestados de Sz\n",
    "def densidad(N):\n",
    "  sz = np.matrix([[1.0, 0.0], [0.0, -1.0]], dtype = complex)\n",
    "  id = np.matrix([[1.0, 0.0], [0.0, 1.0]], dtype = complex)\n",
    "\n",
    "  # Construimos el operador sz\n",
    "  suma = kronecker(0.5*sz, 0, N)\n",
    "  i = 1\n",
    "  while(i < N):\n",
    "    suma += kronecker(0.5*sz, i, N)\n",
    "    i += 1\n",
    "  spin = sp.Matrix(suma, dtype = complex)\n",
    "  #print(spin)\n",
    "\n",
    "  # Creamos la base de autoestados de sz\n",
    "  todo = spin.eigenvects()\n",
    "  base = [np.asarray(tup[2], dtype = complex) for tup in todo]\n",
    "  #base = [np.linalg.eig(spin)[1][:, i] for i in range(spin.shape[0])]\n",
    "  #print(base)\n",
    "\n",
    "  # Construimos el vector inicial\n",
    "  a, b = random.random(), random.random()\n",
    "  ini = (a + b*1.j)*base[0]\n",
    "  for i in range(1, len(base)):\n",
    "    a, b = random.random(), random.random()\n",
    "    ini += (a + b*1.j)*base[i]\n",
    "  # Le hacemos el ketbra para construir la matriz densidad\n",
    "\n",
    "  ini = ini/(np.linalg.norm(ini))\n",
    "  print('El inicial es: ' + str(ini) + ' y su shape es: ' + str(ini.shape))\n",
    "  ini = np.reshape(ini, (1, max(ini.shape)))\n",
    "  d = ketbra(ini.T, ini.T)\n",
    "  res = d/(np.linalg.norm(d))\n",
    "  return res, ini\n",
    "\n",
    "\n",
    "# Funcion que me crea una matriz cuadrada de simbolos\n",
    "def matriz_cuadrada(n):\n",
    "   matriz = sp.Matrix(n, n, lambda i,j: sp.Symbol('d_(%d)(%d)' % (i,j)))\n",
    "   return matriz\n",
    "\n",
    "# Iniciamos la semilla\n",
    "import random\n",
    "seed = 3457493\n",
    "random.seed(a = seed, version = 2)\n",
    "\n",
    "# Funcion que calcula el hamiltoniano efectivo\n",
    "def H_eff(H, saltos):\n",
    "  suma = np.zeros((H.shape[0], H.shape[1]), dtype = complex)\n",
    "  for salto in saltos:\n",
    "    suma += np.matrix(np.dot(salto.H, salto), dtype = complex)\n",
    "  Heff = H - 0.5*(1.j)*suma\n",
    "  return Heff\n",
    "\n",
    "#Funcion para pasar de matriz a vector espacio de Fock-Liouville\n",
    "def FL_vector(m):\n",
    "  m_nuevo = np.reshape(m, m.shape[0]*m.shape[1])\n",
    "  return sp.Matrix(m_nuevo, dtype = complex)\n",
    "\n",
    "# Funcion para definir el Limbladiano como matriz en el espacio de Fock-Liouville\n",
    "def Limblad(H, saltos):\n",
    "  # Sacamos el hamiltoniano efectivo\n",
    "  Heff = sp.Matrix(H_eff(H, saltos))\n",
    "\n",
    "  # Creamos la matriz de simbolos\n",
    "  d = matriz_cuadrada(H.shape[0])\n",
    "\n",
    "  # Sacamos la suma de saltos\n",
    "  suma = sp.zeros(H.shape[0], H.shape[1])\n",
    "  for salto in saltos:\n",
    "    suma += np.dot(np.dot(salto, d), salto.H)\n",
    "\n",
    "  # Con esto, definimos el Limbladiano\n",
    "  M = suma - sp.I*(np.dot(Heff, d) - np.dot(d, Heff.H))\n",
    "  # Lo pasamos a vector\n",
    "  M = FL_vector(M)\n",
    "\n",
    "  # Lo pasamos de sistema de ecuaciones lineal a ecuacion matricial, b tiene que dar el vector de ceros\n",
    "  #L, b = sp.linear_eq_to_matrix([elemento for elemento in M], [termino for termino in d])\n",
    "  L, b = sp.linear_eq_to_matrix([M[i] for i in range(len(M))], [d[i] for i in range(len(d))])\n",
    "  return L, b\n",
    "\n",
    "# Funcion que calcula las nuevas probabilidades de salto y de no salto\n",
    "def Calcularp(d, V):\n",
    "  return np.trace(np.dot(np.dot(V, d), V.H))\n",
    "\n",
    "# Funcion que nos calcula el nuevo estado tras un salto de tiempo\n",
    "def NuevoEstado(d, V, H):\n",
    "  return (np.dot(np.dot(V, d), (V.H)))/(np.sqrt(np.trace(np.dot(np.dot(V, d), (V.H)))))\n",
    "\n",
    "# Funcion que nos hace un plot de lo que queramos\n",
    "def ploteo_MC(d, tiempo):\n",
    "  plt.ylabel(r'$\\rho_{00}$')\n",
    "  plt.xlabel('t')\n",
    "\n",
    "  plt.plot(tiempo, d[0], 'bo', label = 'Random')\n",
    "  plt.plot(tiempo, d[1], 'ro', label = 'Via del cero')\n",
    "  plt.plot(tiempo, d[2], 'go', label = 'Via del no cero')\n",
    "  plt.legend(loc = 'upper right')\n",
    "  plt.show()\n",
    "  return\n",
    "\n",
    "# Funcion que nos saca la posicion del segundo valor mas grande en una lista\n",
    "def segunda_posicion_mas_grande(lista):\n",
    "    if len(lista) < 2:\n",
    "        return \"La lista no tiene suficientes elementos\"\n",
    "\n",
    "    # Encontrar el elemento más grande y su índice\n",
    "    maximo = max(lista)\n",
    "    indice_maximo = lista.index(maximo)\n",
    "\n",
    "    # Eliminar el elemento más grande de la lista\n",
    "    lista.remove(maximo)\n",
    "\n",
    "    # Encontrar el segundo elemento más grande y su índice\n",
    "    segundo_maximo = max(lista)\n",
    "    indice_segundo_maximo = lista.index(segundo_maximo)\n",
    "\n",
    "    # Ajustar el índice para tener en cuenta la eliminación del máximo anterior\n",
    "    if indice_segundo_maximo >= indice_maximo:\n",
    "        indice_segundo_maximo += 1\n",
    "\n",
    "    return indice_segundo_maximo\n",
    "\n",
    "# Funcion que nos obtiene la transformacion unitaria del efecto Mpemba a partir del lindbladiano\n",
    "def Mpemba1(L, L_e, autovals, d, N, ini):\n",
    "\n",
    "  # Extraemos la matriz por la izquierda cuyo autovalor es el mayor (y no es cero)\n",
    "  lista_vals =  list(-np.real(autovals))\n",
    "  maximo = max(lista_vals)\n",
    "  indice_maximo = lista_vals.index(maximo)\n",
    "  lista_vals.remove(maximo)\n",
    "  segundo_maximo = max(lista_vals)\n",
    "  indice_segundo_maximo = lista_vals.index(segundo_maximo)\n",
    "  if indice_segundo_maximo >= indice_maximo:\n",
    "    indice_segundo_maximo += 1\n",
    "\n",
    "  L1 = np.reshape(L_e[indice_segundo_maximo], (d.shape[0], d.shape[1]))\n",
    "\n",
    "  todo = ((sp.Matrix(L1, dtype = complex)).H).eigenvects()\n",
    "  vals = [tup[0] for tup in todo]\n",
    "  vects = np.asarray([tup[2] for tup in todo], dtype = complex)\n",
    "  #vals, vects = np.linalg.eig(L1)\n",
    "  vals = list(np.array(vals, dtype = complex))\n",
    "  print('Autovalores de L1: ')\n",
    "  print(vals)\n",
    "\n",
    "  # Normalizamos los autovectores de la matriz L1\n",
    "  #vects = [matriz/np.linalg.norm(matriz) for matriz in vects]\n",
    "\n",
    "  # Ahora, tenemos que dividir en dos caminos, definimos una tolerancia\n",
    "  tol = 1.0e-14\n",
    "  es_cero = [(np.abs(np.real(vals[i])) < tol) for i in range(len(vals))]\n",
    "  #print(es_cero)\n",
    "\n",
    "  if(any(es_cero)):\n",
    "    print('Se puede hacer la vía del cero, con el autovalor: ')\n",
    "    # Nos vamos al caso en el que un autovalor es 0\n",
    "    indice = es_cero.index(True)\n",
    "    print(vals[indice])\n",
    "    print(\"Autovector con shape: \" + str(vects[indice][0].shape) + ' es: ' + str(vects[indice][0]))\n",
    "    U = ketbra(ini, vects[indice][0])\n",
    "  else:\n",
    "    print('No se ha podido hacer la via del cero')\n",
    "    # Si no hay ningun autovalor que sea 0, se coje una pareja de autovalores con signo contrario\n",
    "    U = np.zeros(d.shape)\n",
    "  return U\n",
    "\n",
    "# Funcion que nos obtiene la transformacion unitaria del efecto Mpemba a partir del lindbladiano\n",
    "def Mpemba2(L, d, N, ini):\n",
    "  # Diagonalizamos el lindbladiano\n",
    "  # Sacamos los autovalores y los autovectores del Limbladiano\n",
    "  L_H = np.matrix(L.H, dtype = complex)\n",
    "  vals, L_e = np.linalg.eig(L_H)\n",
    "\n",
    "  # Normalizamos las automatrices\n",
    "  L_e = [np.reshape(matriz, (d.shape[0], d.shape[1])) for matriz in L_e]\n",
    "  L_e = [matriz.T/(np.linalg.norm(matriz)) for matriz in L_e]\n",
    "\n",
    "  # Extraemos la matriz por la izquierda cuyo autovalor es el mayor (y no es cero)\n",
    "  lista_vals =  list(-np.real(vals))\n",
    "  maximo = max(lista_vals)\n",
    "  indice_maximo = lista_vals.index(maximo)\n",
    "  lista_vals.remove(maximo)\n",
    "  segundo_maximo = max(lista_vals)\n",
    "  indice_segundo_maximo = lista_vals.index(segundo_maximo)\n",
    "  if indice_segundo_maximo >= indice_maximo:\n",
    "    indice_segundo_maximo += 1\n",
    "\n",
    "  L1 = np.reshape(L_e[indice_segundo_maximo], (d.shape[0], d.shape[1]))\n",
    "\n",
    "  vals, vects = np.linalg.eig(L1)\n",
    "  vals = list(vals)\n",
    "  print('Autovalores de L1: ')\n",
    "  print(vals)\n",
    "  # Normalizamos los autovectores de la matriz L1\n",
    "  vects = [matriz/np.linalg.norm(matriz) for matriz in vects]\n",
    "\n",
    "  # Ahora, tenemos que dividir en dos caminos, definimos una tolerancia\n",
    "  tol = 1.0e-14 # N = 5\n",
    "  #tol = 1.0e-3\n",
    "  es_cero = [(np.abs(np.real(vals[i])) < tol) for i in range(len(vals))]\n",
    "\n",
    "  print('Vamos a probar la via del no cero')\n",
    "  # Se coje una pareja de autovalores con signo contrario\n",
    "  i = 0\n",
    "  indice_contrario = 0\n",
    "  indice_inicial = es_cero.index(False)\n",
    "  es_contrario = [np.real(vals[indice_inicial])*np.real(vals[i]) < 0 for i in range(len(vals))]\n",
    "  if(any(es_contrario)):\n",
    "    indice_contrario = es_contrario.index(True)\n",
    "    F = ketbra(vects[indice_inicial].T, vects[indice_contrario].T) + ketbra(vects[indice_contrario].T, vects[indice_inicial].T)\n",
    "    s = np.arctan(np.sqrt((np.abs(vals[indice_inicial]))/(np.abs(vals[indice_contrario]))))\n",
    "    print(\"La s me sale: \" + str(s) + ' se ha cogido la s que sale de los autovalores: ')\n",
    "    print((vals[indice_inicial], vals[indice_contrario]))\n",
    "    identidad = kronecker(id, 0, N)\n",
    "    U = identidad + (np.cos(s) - 1.0)*(np.dot(F, F)) - 1.j*F\n",
    "  else:\n",
    "    print('No se puede coger la vía del no cero')\n",
    "    U = np.zeros(d.shape)\n",
    "\n",
    "  return U\n",
    "\n",
    "def indices_mayores_que_100(matriz, n):\n",
    "    indices = []\n",
    "    filas = matriz.shape[0]\n",
    "    columnas = matriz.shape[1]\n",
    "\n",
    "    for i in range(filas):\n",
    "        for j in range(columnas):\n",
    "            if(np.real(matriz[i, j]) > n):\n",
    "                indices.append((i, j))\n",
    "\n",
    "    return indices"
   ]
  },
  {
   "cell_type": "code",
   "execution_count": 4,
   "metadata": {
    "id": "dq6EZ9dabOds"
   },
   "outputs": [],
   "source": [
    "# Iniciamos la semilla\n",
    "import random\n",
    "seed = 3457493\n",
    "random.seed(a = seed, version = 2)\n",
    "\n",
    "# Funcion que nos obtiene la transformacion unitaria del efecto Mpemba a partir del lindbladiano\n",
    "def Mpemba1(L, L_e, autovals, d, N, ini):\n",
    "\n",
    "  # Extraemos la matriz por la izquierda cuyo autovalor es el mayor (y no es cero)\n",
    "  lista_vals =  list(-np.real(autovals))\n",
    "  maximo = max(lista_vals)\n",
    "  indice_maximo = lista_vals.index(maximo)\n",
    "  lista_vals.remove(maximo)\n",
    "  segundo_maximo = max(lista_vals)\n",
    "  indice_segundo_maximo = lista_vals.index(segundo_maximo)\n",
    "  if indice_segundo_maximo >= indice_maximo:\n",
    "    indice_segundo_maximo += 1\n",
    "\n",
    "  L1 = np.reshape(L_e[indice_segundo_maximo], (d.shape[0], d.shape[1]))\n",
    "\n",
    "  todo = ((sp.Matrix(L1, dtype = complex)).H).eigenvects()\n",
    "  vals = [tup[0] for tup in todo]\n",
    "  vects = np.asarray([tup[2] for tup in todo], dtype = complex)\n",
    "  vals = list(np.array(vals, dtype = complex))\n",
    "  print('Autovalores de L1: ')\n",
    "  print(vals)\n",
    "\n",
    "  # Ahora, tenemos que dividir en dos caminos, definimos una tolerancia\n",
    "  tol = 1.0e-14\n",
    "  es_cero = [(np.abs(np.real(vals[i])) < tol) for i in range(len(vals))]\n",
    "\n",
    "  if(any(es_cero)):\n",
    "    print('Se puede hacer la vía del cero, con el autovalor: ')\n",
    "    # Nos vamos al caso en el que un autovalor es 0\n",
    "    indice = es_cero.index(True)\n",
    "    print(vals[indice])\n",
    "    print(\"Autovector con shape: \" + str(vects[indice][0].shape) + ' es: ' + str(vects[indice][0]))\n",
    "    U = ketbra(ini, vects[indice][0])\n",
    "  else:\n",
    "    print('No se ha podido hacer la via del cero')\n",
    "    # Si no hay ningun autovalor que sea 0, se coje una pareja de autovalores con signo contrario\n",
    "    U = np.zeros(d.shape)\n",
    "  return U\n",
    "\n",
    "def indices_mayores_que_100(matriz, n):\n",
    "    indices = []\n",
    "    filas = matriz.shape[0]\n",
    "    columnas = matriz.shape[1]\n",
    "\n",
    "    for i in range(filas):\n",
    "        for j in range(columnas):\n",
    "            if(np.real(matriz[i, j]) > n):\n",
    "                indices.append((i, j))\n",
    "\n",
    "    return indices\n",
    "\n",
    "def indices_mayores_que_100(matriz, n):\n",
    "    indices = []\n",
    "    filas = matriz.shape[0]\n",
    "    columnas = matriz.shape[1]\n",
    "\n",
    "    for i in range(filas):\n",
    "        for j in range(columnas):\n",
    "            if(np.real(matriz[i, j]) > n):\n",
    "                indices.append((i, j))\n",
    "\n",
    "    return indices"
   ]
  },
  {
   "cell_type": "code",
   "execution_count": 5,
   "metadata": {
    "colab": {
     "base_uri": "https://localhost:8080/"
    },
    "id": "sLolZHEOo7Yw",
    "outputId": "876cae77-7544-46b6-ba0e-bdbe2df718cf"
   },
   "outputs": [
    {
     "name": "stdout",
     "output_type": "stream",
     "text": [
      "Vector dado: [1 2 3]\n",
      "Base ortonormal:\n",
      "[0.26726124+0.j 0.53452248+0.j 0.80178373+0.j]\n",
      "[-0.80106818+0.j -0.33922262+0.j  0.49317114+0.j]\n",
      "[ 0.53559424+0.j -0.77408897+0.j  0.3375279 +0.j]\n"
     ]
    }
   ],
   "source": [
    "# Funcion que nos saca el estado estacionario\n",
    "def estacionario(L, d):\n",
    "  # Sacamos los autovalores y los autovectores del Limbladiano\n",
    "  todo = L.eigenvects()\n",
    "  vals = [tup[0] for tup in todo]\n",
    "  vects = [np.array(tup[2], dtype = complex) for tup in todo]\n",
    "\n",
    "  # Sacamos el estado estacionario que es el autovector correspondiente al autovalor mas cercano a 0\n",
    "  vals = np.array(vals, dtype = complex)\n",
    "  espositivo = False\n",
    "  for elemento in vals:\n",
    "    if(elemento > 0.0):\n",
    "      indice = list(vals).index(elemento)\n",
    "      espositivo = True\n",
    "  if(espositivo == False):\n",
    "    reales = [np.real(valor) for valor in np.array(vals, dtype = complex)]\n",
    "    minimo = max(reales)\n",
    "    indice = reales.index(minimo)\n",
    "\n",
    "  # Pasamos el estado estacionario a matriz\n",
    "  r = np.reshape(vects[indice], (d.shape[0], d.shape[1]))\n",
    "\n",
    "  if(np.imag(np.trace(r)) < 1e-10):\n",
    "    res = r/np.trace(np.real(r))\n",
    "  else:\n",
    "    res = r/np.trace(r)\n",
    "  return res\n",
    "\n",
    "  # Funcion que nos resuelve la ecuacion maestra igualada a 0\n",
    "def ec_maestra(L, H):\n",
    "  d = FL_vector(matriz_cuadrada(H.shape[0]))\n",
    "  sol = sp.solve(L*d, [d[i] for i in range(len(d))])\n",
    "  return sol\n",
    "\n",
    "# Funcion que resuelve el sistema mediante el metodo de montecarlo\n",
    "def ResolverSistema(d0, H, salto, N, nveces):\n",
    "  # Establecemos un limite de tiempo\n",
    "  t = 0.0\n",
    "  limite = 500.0\n",
    "  tiempo = [t]\n",
    "  dt = 0.01\n",
    "\n",
    "  vector_fotones = []\n",
    "  nfotones = 0 # numero de fotones\n",
    "  res = [d0]\n",
    "  # Hamiltoniano efectivo\n",
    "  Heff = H_eff(H, salto)\n",
    "\n",
    "  # Operadores de evolución y de salto del sistema\n",
    "  V = [np.sqrt(dt)*J for J in salto]\n",
    "  V_0 = kronecker(id, 0, N) - 1.j*dt*Heff\n",
    "\n",
    "  intentos = [] #Aqui guardamos todos los resultados para cada realizacion\n",
    "\n",
    "  # Calculamos las probabilides iniciales\n",
    "  p0 = Calcularp(d0, V_0)\n",
    "  p = Calcularp(d0, V[0])\n",
    "  d = d0\n",
    "  # Empezamos con el bucle\n",
    "  while(t < limite):\n",
    "    prob = random.random()\n",
    "    if(prob < p):\n",
    "      nfotones += 1\n",
    "      d = NuevoEstado(d, V[0], H)\n",
    "    else:\n",
    "      d = NuevoEstado(d, V_0, H)\n",
    "    p0 = Calcularp(d, V_0)\n",
    "    p = Calcularp(d, V[0])\n",
    "    res.append(d)\n",
    "    t += dt\n",
    "    tiempo.append(t)\n",
    "\n",
    "  vector_fotones.append(nfotones)\n",
    "  intentos.append(res)\n",
    "  # Ahora, hacemos el bucle otras nveces-1 veces para luego promediar\n",
    "  indice = 1\n",
    "  while(indice < nveces):\n",
    "    d = d0\n",
    "    nfotones = 0\n",
    "    res = [d0]\n",
    "    t = 0.0\n",
    "    # Calculamos las probabilidades iniciales\n",
    "    p0 = Calcularp(d, V_0)\n",
    "    p = Calcularp(d, V[0])\n",
    "    while(t < limite):\n",
    "      prob = random.random()\n",
    "      if(prob < p):\n",
    "        nfotones += 1\n",
    "        d = NuevoEstado(d, V[0], H)\n",
    "      else:\n",
    "        d = NuevoEstado(d, V_0, H)\n",
    "      p0 = Calcularp(d, V_0)\n",
    "      p = Calcularp(d, V[0])\n",
    "      res.append(d)\n",
    "      t += dt\n",
    "    intentos.append(res)\n",
    "    indice += 1\n",
    "    vector_fotones.append(nfotones)\n",
    "\n",
    "  # Por último calculamos el promedio de las trayectorias\n",
    "  suma = [0 for i in range(len(intentos[0]))]\n",
    "  for i in range(len(intentos[0])):\n",
    "    for elemento in intentos:\n",
    "      suma[i] += elemento[i]\n",
    "  final = [elemento/nveces for elemento in suma]\n",
    "  return final, tiempo, vector_fotones\n",
    "\n",
    "# Funcion que nos dice si la matriz l2 es hermitica segun los parametros que le pasemos\n",
    "def L2hermitica(N, params, d):\n",
    "  # Sacamos el hamiltoniano y los operadores de salto\n",
    "  H, J = qubits(N, params)\n",
    "  # Sacamos el lindbladiano\n",
    "  L, b = Limblad(sp.Matrix(H, dtype = complex), [sp.Matrix(J, dtype = complex)])\n",
    "\n",
    "  # Diagonalizamos el lindbladiano\n",
    "  todo = (L.H).eigenvects()\n",
    "  vals = np.array([tup[0] for tup in todo], dtype = complex)\n",
    "  L_e = [tup[2] for tup in todo]\n",
    "\n",
    "  # Normalizamos las automatrices\n",
    "  L_e = [np.reshape(matriz, (d.shape[0], d.shape[1])) for matriz in L_e]\n",
    "\n",
    "  # Extraemos la matriz por la izquierda cuyo autovalor es el mayor (y no es cero)\n",
    "  lista_vals =  list(np.real(vals))\n",
    "  maximo = max(lista_vals)\n",
    "  indice_maximo = lista_vals.index(maximo)\n",
    "  lista_vals.remove(maximo)\n",
    "  segundo_maximo = max(lista_vals)\n",
    "  indice_segundo_maximo = lista_vals.index(segundo_maximo)\n",
    "  if indice_segundo_maximo >= indice_maximo:\n",
    "    indice_segundo_maximo += 1\n",
    "\n",
    "  L1 = np.reshape(L_e[indice_segundo_maximo], (d.shape[0], d.shape[1]))\n",
    "  L1 = sp.Matrix(L1, dtype = complex)\n",
    "  # Una vez obtenida L2, vemos si es hermitica\n",
    "  eshermitica = False\n",
    "  if(L1 == L1.H):\n",
    "    eshermitica = True\n",
    "  return eshermitica, vals[indice_segundo_maximo]\n",
    "\n",
    "def eliminar_duplicados(lista):\n",
    "    # Convierte la lista a un conjunto para eliminar duplicados\n",
    "    conjunto_sin_duplicados = set(lista)\n",
    "\n",
    "    # Convierte el conjunto de nuevo a una lista\n",
    "    lista_sin_duplicados = list(conjunto_sin_duplicados)\n",
    "\n",
    "    return lista_sin_duplicados\n",
    "\n",
    "# Ejemplo de uso\n",
    "mi_lista = [1, 2, 3, 2, 4, 5, 1, 6, 7, 8, 6, 9]\n",
    "lista_sin_duplicados = eliminar_duplicados(mi_lista)\n",
    "\n",
    "# Funcion que nos obtiene la transformacion unitaria del efecto Mpemba a partir del lindbladiano\n",
    "def Mpemba2(L, L_e, vals, d, N, ini):\n",
    "\n",
    "  # Extraemos la matriz por la izquierda cuyo autovalor es el mayor (y no es cero)\n",
    "  lista_vals =  list(-np.real(np.array(vals, dtype = complex)))\n",
    "  maximo = max(lista_vals)\n",
    "  print('Maximo: ' + str(maximo))\n",
    "  indice_maximo = lista_vals.index(max(lista_vals))\n",
    "  lista_vals.remove(maximo)\n",
    "  segundo_maximo = max(lista_vals)\n",
    "  indice_segundo_maximo = lista_vals.index(segundo_maximo)\n",
    "  if indice_segundo_maximo >= indice_maximo:\n",
    "    indice_segundo_maximo += 1\n",
    "\n",
    "  L1 = np.reshape(L_e[indice_segundo_maximo], (d.shape[0], d.shape[1]))\n",
    "  L1 = sp.Matrix(L1, dtype = complex)\n",
    "\n",
    "  todo = L1.eigenvects()\n",
    "  autovals = [tup[0] for tup in todo]\n",
    "  autovects = [np.array(tup[2][0], dtype = complex) for tup in todo]\n",
    "  autovals = list(np.array(autovals, dtype = complex))\n",
    "  print('Autovalores de L1: ')\n",
    "  print(autovals)\n",
    "\n",
    "  # Ahora, tenemos que dividir en dos caminos, definimos una tolerancia\n",
    "  tol = 1.0e-10 # N = 5\n",
    "  autovals = eliminar_duplicados(autovals)\n",
    "  es_cero = [(np.abs(np.real(autovals[i])) < tol) for i in range(len(autovals))]\n",
    "\n",
    "  print('Vamos a probar la via del no cero')\n",
    "  # Se coje una pareja de autovalores con signo contrario\n",
    "  i = 0\n",
    "  indice_contrario = 0\n",
    "  indice_inicial = es_cero.index(False)\n",
    "  autovals = eliminar_duplicados(autovals)\n",
    "  es_contrario = [np.real(autovals[indice_inicial])*np.real(autovals[i]) < 0 for i in range(len(autovals))]\n",
    "  if(any(es_contrario)):\n",
    "    indice_contrario = es_contrario.index(True)\n",
    "    print('(indice contrario, indice inicial, len(autovects)) = ' + str(indice_contrario) + ', ' + str(indice_inicial) + ', '  + ' ' + str(autovects[0].shape))\n",
    "    F = ketbra(autovects[indice_inicial], autovects[indice_contrario]) + ketbra(autovects[indice_contrario], autovects[indice_inicial])\n",
    "    s = np.arctan(np.sqrt((np.abs(autovals[indice_inicial]))/(np.abs(autovals[indice_contrario]))))\n",
    "    print(\"La s me sale: \" + str(s) + ' se ha cogido la s que sale de los autovalores: ')\n",
    "    print((autovals[indice_inicial], autovals[indice_contrario]))\n",
    "    identidad = kronecker(id, 0, N)\n",
    "    U = identidad + (np.cos(s) - 1.0)*(np.dot(F, F)) - 1.j*F\n",
    "  else:\n",
    "    print('No se puede coger la vía del no cero')\n",
    "    U = np.zeros(d.shape)\n",
    "  return U\n",
    "\n",
    "# Funcion que te calcula el estado estacionario del lindbladiano, le pasamos los autovalores y autovecores\n",
    "def estacionario(vals, vects, d):\n",
    "  vals = np.array(vals, dtype = complex)\n",
    "  espositivo = False\n",
    "  indices_positivos = []\n",
    "  for elemento in vals:\n",
    "    if(elemento > 0.0):\n",
    "      indices_positivos.append(list(vals).index(elemento))\n",
    "      #indice = list(vals).index(elemento)\n",
    "      espositivo = True\n",
    "  if(espositivo == True):\n",
    "    valores_positivos = [vals[i] for i in indices_positivos]\n",
    "    indice = list(-np.real(vals)).index(max(list(-np.real(valores_positivos))))\n",
    "  if(espositivo == False):\n",
    "    reales = [np.real(valor) for valor in np.array(vals, dtype = complex)]\n",
    "    minimo = max(reales)\n",
    "    indice = reales.index(minimo)\n",
    "\n",
    "  # Pasamos el estado estacionario a matriz\n",
    "  r = np.reshape(vects[indice], (d.shape[0], d.shape[1]))\n",
    "  if(np.imag(np.trace(r)) < 1e-10):\n",
    "    res = r/np.trace(np.real(r))\n",
    "  else:\n",
    "    res = r/np.trace(r)\n",
    "  return res\n",
    "\n",
    "def estacionario_bueno(vals, vects, d):\n",
    "  vals_copia = list(vals)\n",
    "  # Sacamos los autovalores que son 0\n",
    "  estacionarios = [num for num in vals_copia if np.allclose(np.abs(num), 0.0)]\n",
    "  # Sacamos los indices de esos autovalores en la lista vals\n",
    "  indices_est = [vals_copia.index(num) for num in estacionarios]\n",
    "  # Sacamos los autovectores correspondientes y le hacemos reshape\n",
    "  m_est = [np.reshape(vects[indice], d.shape) for indice in indices_est]\n",
    "\n",
    "  m_est = [elemento/np.trace(elemento) for elemento in m_est]\n",
    "  return m_est\n",
    "\n",
    "# Funcion que, dado un vector y su dimension, me genera una base de vectores ortonormales en la cual este mismo vector es el primero\n",
    "def generar_base_ortonormal(vector, dim):\n",
    "    # Normalizar el primer vector\n",
    "    v1 = vector / np.linalg.norm(vector)\n",
    "    v1 = np.squeeze(np.asarray(v1, dtype = complex))\n",
    "\n",
    "    # Generar una matriz aleatoria de dimensión (dim x dim)\n",
    "    random_matrix = np.matrix(np.random.randn(dim, dim), dtype = complex)\n",
    "\n",
    "    # Realizar el proceso de Gram-Schmidt para generar los vectores ortogonales restantes\n",
    "    base = [v1]\n",
    "    for i in range(1, dim):\n",
    "        # Obtener el siguiente vector aleatorio\n",
    "        #v = np.reshape(random_matrix[i], (1, max(random_matrix[i].shape)))\n",
    "        v = np.squeeze(np.asarray(random_matrix[i], dtype = complex))\n",
    "        #v = np.asarray(random_matrix[i], dtype = complex)\n",
    "        #v = np.reshape(v, (1, max(v.shape)))\n",
    "        # Restar las proyecciones de los vectores anteriores\n",
    "        for j in range(i):\n",
    "            v -= np.dot(v, base[j].T) * base[j]\n",
    "\n",
    "        # Normalizar el vector resultante\n",
    "        v /= np.linalg.norm(v)\n",
    "\n",
    "        # Agregar el vector a la base ortonormal\n",
    "        base.append(v)\n",
    "\n",
    "    return base\n",
    "\n",
    "# Ejemplo de uso\n",
    "dimension = 3\n",
    "vector_dado = np.array([1, 2, 3])\n",
    "base_ortonormal = generar_base_ortonormal(vector_dado, dimension)\n",
    "\n",
    "print(\"Vector dado:\", vector_dado)\n",
    "print(\"Base ortonormal:\")\n",
    "for v in base_ortonormal:\n",
    "    print(v)"
   ]
  },
  {
   "cell_type": "code",
   "execution_count": 6,
   "metadata": {
    "id": "6_c_WaN3Ec46"
   },
   "outputs": [],
   "source": [
    "# Funcion que me crea el hamiltoniano del modelo de los qubits\n",
    "def qubits(N, params):\n",
    "  id = np.matrix([[1.0, 0.0], [0.0, 1.0]], dtype = complex)\n",
    "  sx = np.matrix([[0.0, 1.0], [1.0, 0.0]], dtype = complex)\n",
    "  sy = np.matrix([[0.0, -1.j], [1.j, 0.0]], dtype = complex)\n",
    "  sz = np.matrix([[1.0, 0.0], [0.0, -1.0]], dtype = complex)\n",
    "\n",
    "  sigma = params[0]\n",
    "  k = params[1]\n",
    "\n",
    "  suma1 = kronecker(0.5*sx, 0, N)\n",
    "  suma2 = kronecker(0.5*(sx - 1.j*sy), 0, N)\n",
    "\n",
    "  i = 1\n",
    "  while(i < N):\n",
    "    #print(i)\n",
    "    suma1 += kronecker(0.5*sz, i, N)\n",
    "    suma2 += kronecker(0.5*(sx - 1.j*sy), i, N)\n",
    "    i += 1\n",
    "\n",
    "  H = sigma*suma1\n",
    "  J = np.sqrt(k)*suma2\n",
    "\n",
    "  return H, J\n",
    "\n",
    "def densidad_qubit(N):\n",
    "  sx = np.matrix([[0.0, -1.0], [1.0, 0.0]], dtype = complex)\n",
    "  id = np.matrix([[1.0, 0.0], [0.0, 1.0]], dtype = complex)\n",
    "\n",
    "  # Construimos el operador sz\n",
    "  suma = kronecker(0.5*sx, 0, N)\n",
    "  i = 1\n",
    "  while(i < N):\n",
    "    suma += kronecker(0.5*sx, i, N)\n",
    "    i += 1\n",
    "  spin = suma\n",
    "\n",
    "  # Creamos la base de autoestados de sz\n",
    "  base = [np.linalg.eig(spin)[1][:, i] for i in range(spin.shape[0])]\n",
    "\n",
    "  # Construimos el vector inicial\n",
    "  a, b = random.random(), random.random()\n",
    "  ini = (a + b*1.j)*base[0]\n",
    "  for i in range(1, len(base)):\n",
    "    a, b = random.random(), random.random()\n",
    "    ini += (a + b*1.j)*base[i]\n",
    "  # Le hacemos el ketbra para construir la matriz densidad\n",
    "\n",
    "  ini = ini/(np.linalg.norm(ini))\n",
    "  d = ketbra(np.array(ini), np.array(ini))\n",
    "  res = d/(np.linalg.norm(d))\n",
    "  return res, ini\n",
    "\n",
    "# Funcion que nos calcula la transformacion de Mpemba2, pero teniendo en cuenta la matriz de cambio de base\n",
    "def Mpemba2_mejorada(L, L_e, vals, d, N, ini):\n",
    "\n",
    "  # Extraemos la matriz por la izquierda cuyo autovalor es el mayor (y no es cero)\n",
    "  \"\"\"\n",
    "  lista_vals =  list(np.real(np.array(vals, dtype = complex)))\n",
    "  maximo = max(lista_vals)\n",
    "  indice_maximo = lista_vals.index(maximo)\n",
    "  lista_vals.remove(maximo)\n",
    "  segundo_maximo = max(lista_vals)\n",
    "  indice_segundo_maximo = lista_vals.index(segundo_maximo)\n",
    "  if indice_segundo_maximo >= indice_maximo:\n",
    "    indice_segundo_maximo += 1\n",
    "  \"\"\"\n",
    "  segundo_maximo, indice_segundo_maximo = buscar_segundo_maximo(list(np.real(vals)))\n",
    "  #indice_segundo_maximo = vals.index(segundo_maximo)\n",
    "  print('Indice segundo maximo: ' + str(indice_segundo_maximo))\n",
    "  # La pasamos a matriz\n",
    "  L1 = np.reshape(L_e[indice_segundo_maximo], (d.shape[0], d.shape[1]))\n",
    "  L1 = sp.Matrix(L1, dtype = complex)\n",
    "  print('Autovalor asociado al l1: ' + str(vals[indice_segundo_maximo]))\n",
    "\n",
    "  # Diagonalizamos la matriz L1\n",
    "  todo = L1.eigenvects()\n",
    "  autovals = [tup[0] for tup in todo]\n",
    "  autovects = [np.array(tup[2][0], dtype = complex) for tup in todo]\n",
    "  autovals = list(np.array(autovals, dtype = complex))\n",
    "  print('Autovalores de L1: ')\n",
    "  print(autovals)\n",
    "\n",
    "  # Ahora, generamos la base auxiliar para el vector estado inicial\n",
    "  base_aux = generar_base_ortonormal(ini, int(2**N))\n",
    "\n",
    "  base_aux = np.array([elemento for elemento in base_aux], dtype = complex)\n",
    "  # Con esto, podemos generar la primera transformacion\n",
    "  U_cambio = ketbra(autovects[0], base_aux[0])\n",
    "  for i in range(1, N):\n",
    "    U_cambio += ketbra(autovects[i], base_aux[i])\n",
    "\n",
    "  #autovals = eliminar_duplicados(autovals)\n",
    "  tol = 1e-16\n",
    "  es_cero = [(np.abs(autovals[i]) < tol) for i in range(len(autovals))]\n",
    "  #es_cero = [np.allclose(np.abs(elemento), 0.0) for elemento in autovals]\n",
    "\n",
    "  print('Vamos a probar la via del no cero')\n",
    "  # Se coje una pareja de autovalores con signo contrario\n",
    "  i = 0\n",
    "  indice_contrario = 0\n",
    "  indice_inicial = es_cero.index(False)\n",
    "  print(indice_inicial)\n",
    "  #autovals = eliminar_duplicados(autovals)\n",
    "  es_contrario = [np.real(autovals[indice_inicial])*np.real(autovals[i]) < 0 for i in range(len(autovals))]\n",
    "  if(any(es_contrario)):\n",
    "    indice_contrario = es_contrario.index(True)\n",
    "    #print('(indice contrario, indice inicial, len(autovects)) = ' + str(indice_contrario) + ', ' + str(indice_inicial) + ', '  + ' ' + str(autovects[0].shape))\n",
    "    F = ketbra(autovects[indice_inicial], autovects[indice_contrario]) + ketbra(autovects[indice_contrario], autovects[indice_inicial])\n",
    "    s = np.arctan(np.sqrt((np.abs(autovals[indice_inicial]))/(np.abs(autovals[indice_contrario]))))\n",
    "    print(\"La s me sale: \" + str(s) + ' se ha cogido la s que sale de los autovalores: ')\n",
    "    #print((autovals[indice_inicial], autovals[indice_contrario]))\n",
    "    identidad = kronecker(id, 0, N)\n",
    "    U = identidad + (np.cos(s) - 1.0)*(np.dot(F, F)) - 1.j*F\n",
    "  else:\n",
    "    print('No se puede coger la vía del no cero')\n",
    "    U = np.zeros(d.shape)\n",
    "  return np.dot(U, U_cambio), U_cambio\n",
    "  #return U, U_cambio\n",
    "\n",
    "# Funcion que genera la transformacion de Mpemba1, pero haciendo antes lo de la matriz de cambio de base\n",
    "def Mpemba1_mejorada(L, L_e, autovals, d, N, ini):\n",
    "\n",
    "  # Extraemos la matriz por la izquierda cuyo autovalor es el mayor (y no es cero)\n",
    "  \"\"\"\n",
    "  lista_vals =  list(np.real(autovals))\n",
    "  maximo = max(lista_vals)\n",
    "  indice_maximo = lista_vals.index(maximo)\n",
    "  lista_vals.remove(maximo)\n",
    "  segundo_maximo = max(lista_vals)\n",
    "  indice_segundo_maximo = lista_vals.index(segundo_maximo)\n",
    "  if indice_segundo_maximo >= indice_maximo:\n",
    "    indice_segundo_maximo += 1\n",
    "  \"\"\"\n",
    "  segundo_maximo, indice_segundo_maximo = buscar_segundo_maximo(list(np.real(autovals)))\n",
    "\n",
    "  # Hacemos reshape\n",
    "  L1 = np.reshape(L_e[indice_segundo_maximo], (d.shape[0], d.shape[1]))\n",
    "\n",
    "  # Diagonalizamos la matriz L1\n",
    "  todo = (sp.Matrix(L1, dtype = complex)).eigenvects()\n",
    "  vals = [tup[0] for tup in todo]\n",
    "  vects = np.asarray([tup[2] for tup in todo], dtype = complex)\n",
    "  vects = [np.reshape(elemento, (1, max(elemento.shape))) for elemento in vects]\n",
    "  vals = list(np.array(vals, dtype = complex))\n",
    "  #print('Autovalores de L1: ')\n",
    "  #print(vals)\n",
    "\n",
    "  # Ahora, generamos la base auxiliar para el vector ini\n",
    "  base_aux = generar_base_ortonormal(ini, int(2**N))\n",
    "  base_aux = np.asarray([elemento for elemento in base_aux], dtype = complex)\n",
    "  U_cambio = ketbra((vects[0]), base_aux[0])\n",
    "  for i in range(1, N):\n",
    "    U_cambio += ketbra((vects[i]), base_aux[i])\n",
    "\n",
    "  # Ahora, tenemos que dividir en dos caminos, definimos una tolerancia\n",
    "  tol = 1.0e-14\n",
    "  es_cero = [(np.allclose(np.abs(vals[i]), 0.0)) for i in range(len(vals))]\n",
    "\n",
    "  if(any(es_cero)):\n",
    "    print('Se puede hacer la vía del cero, con el autovalor: ')\n",
    "    # Nos vamos al caso en el que un autovalor es 0\n",
    "    indice = es_cero.index(True)\n",
    "    print(vals[indice])\n",
    "    #U = ketbra(ini, vects[indice][0])\n",
    "    U = ketbra(ini, vects[indice])\n",
    "  else:\n",
    "    print('No se ha podido hacer la via del cero')\n",
    "    # Si no hay ningun autovalor que sea 0, se coje una pareja de autovalores con signo contrario\n",
    "    U = np.zeros(d.shape)\n",
    "  #return np.dot(U, U_cambio), U_cambio\n",
    "  return U, U_cambio\n",
    "\n",
    "# Funcion que nos hace la exponencial de una matriz de traza nula\n",
    "def exponencial_matriz(matriz):\n",
    "  n = matriz.shape\n",
    "  id = np.eye(matriz.shape[0], matriz.shape[1])\n",
    "  d = np.linalg.det(matriz)\n",
    "  res = np.cos(np.sqrt(d))*id + (np.sin(np.sqrt(d))/np.sqrt(d))*matriz\n",
    "  return res\n",
    "\n",
    "# Funcion que nos construye la transformacion de Mpemba, pero a base de transformaciones a un solo qubit\n",
    "def Mpemba_sep(theta, phi, N):\n",
    "  #id = np.matrix([[1.0, 0.0], [0.0, 1.0]], dtype = complex)\n",
    "  #id = np.eye(matriz.shape[0], matriz.shape[1])\n",
    "  sx = np.matrix([[0.0, 1.0], [1.0, 0.0]], dtype = complex)\n",
    "  sy = np.matrix([[0.0, -1.j], [1.j, 0.0]], dtype = complex)\n",
    "  sz = np.matrix([[1.0, 0.0], [0.0, -1.0]], dtype = complex)\n",
    "\n",
    "  # Construimos el operador sz\n",
    "  #spin_z = kronecker(0.5*sz, 0, N)\n",
    "  #spin_y = kronecker(0.5*sy, 0, N)\n",
    "  spin_z = kronecker(sz, 0, N)\n",
    "  spin_y = kronecker(sy, 0, N)\n",
    "  id = np.eye(spin_y.shape[0], spin_y.shape[1])\n",
    "  U1 = np.cos(0.5*phi)*id + 1.j*np.sin(0.5*phi)*spin_z\n",
    "  U2 = np.cos(0.5*theta)*id + 1.j*np.sin(0.5*theta)*spin_y\n",
    "  #U1 = exponencial_matriz(0.5*1.j*phi*spin_z)\n",
    "  #U2 = exponencial_matriz(0.5*1.j*theta*spin_y)\n",
    "  res = np.dot(U1, U2)\n",
    "  i = 1\n",
    "  while(i < N):\n",
    "    spin_z = kronecker(0.5*sz, i, N)\n",
    "    spin_y = kronecker(0.5*sy, i, N)\n",
    "    #U1 = exponencial_matriz(0.5*1.j*phi*spin_z)\n",
    "    #U2 = exponencial_matriz(0.5*1.j*theta*spin_y)\n",
    "    U1 = np.cos(0.5*phi)*id + 1.j*np.sin(0.5*phi)*spin_z\n",
    "    U2 = np.cos(0.5*theta)*id + 1.j*np.sin(0.5*theta)*spin_y\n",
    "    res = np.dot(res, np.dot(U1, U2))\n",
    "    i += 1\n",
    "  return res\n",
    "\n",
    "# Funcion que da la evolución temporal de la diagonalizacion del lindbladiano\n",
    "def solucion(d, r, l, autovals, tiempo):\n",
    "  res = []\n",
    "  suma = 0.0\n",
    "  tol = 1e-16\n",
    "  for t in tiempo:\n",
    "    suma = 0.0\n",
    "    #suma = r[0]*np.trace(np.dot(l[0], d))*np.exp(t*autovals[0])\n",
    "    for i in range(0, len(r)):\n",
    "      suma += r[i]*np.trace(np.dot(l[i], d))*np.exp(t*autovals[i])\n",
    "    res.append(suma)\n",
    "  return res"
   ]
  },
  {
   "cell_type": "code",
   "execution_count": 7,
   "metadata": {
    "colab": {
     "base_uri": "https://localhost:8080/"
    },
    "id": "Rm0WRCOWaECH",
    "outputId": "545bea30-b9ae-4e0c-96ef-d7f8656dc942"
   },
   "outputs": [
    {
     "name": "stdout",
     "output_type": "stream",
     "text": [
      "El segundo máximo distinto de cero en la lista es: (9, 5)\n"
     ]
    }
   ],
   "source": [
    "def segundo_max_distinto_de_cero(lista):\n",
    "    # Eliminamos los ceros de la lista\n",
    "    tol = 1e-10\n",
    "    lista_sin_ceros = [num for num in lista if np.abs(num) > tol]\n",
    "\n",
    "    # Si no hay elementos o solo hay un elemento distinto de cero, no hay segundo máximo\n",
    "    if len(lista_sin_ceros) < 2:\n",
    "        return None\n",
    "\n",
    "    # Encontramos el máximo\n",
    "    maximo = max(lista_sin_ceros)\n",
    "\n",
    "    # Eliminamos el máximo de la lista y encontramos el máximo restante\n",
    "    #lista_sin_maximo = [num for num in lista_sin_ceros if num != maximo]\n",
    "    #segundo_maximo = max(lista_sin_maximo)\n",
    "    segundo_maximo = max(lista_sin_ceros)\n",
    "\n",
    "    return segundo_maximo, lista.index(segundo_maximo)\n",
    "\n",
    "# Ejemplo de uso\n",
    "lista = [1, 5, 2, 6, 0, 9, 3, 0, 8]\n",
    "segundo_max = segundo_max_distinto_de_cero(lista)\n",
    "print(\"El segundo máximo distinto de cero en la lista es:\", segundo_max)\n",
    "\n",
    "\n",
    "def buscar_segundo_maximo(lista):\n",
    "    # Si la lista tiene menos de dos elementos, no hay segundo máximo\n",
    "    if len(lista) < 2:\n",
    "        return None\n",
    "\n",
    "    # Inicializamos el máximo y el segundo máximo con los dos primeros elementos de la lista\n",
    "    maximo = max(lista[0], lista[1])\n",
    "    segundo_max = min(lista[0], lista[1])\n",
    "\n",
    "    # Iteramos sobre los elementos restantes de la lista para encontrar el máximo y el segundo máximo\n",
    "    for num in lista[2:]:\n",
    "        if num > maximo:\n",
    "            segundo_max = maximo\n",
    "            maximo = num\n",
    "        elif num > segundo_max and num != maximo:\n",
    "            segundo_max = num\n",
    "\n",
    "    return segundo_max, lista.index(segundo_max)"
   ]
  },
  {
   "cell_type": "code",
   "execution_count": null,
   "metadata": {
    "id": "lDg8JEJY6FWz"
   },
   "outputs": [],
   "source": [
    "# Hamiltoniano, operador salto y hamiltoniano efecivo\n",
    "N = 2\n",
    "sigma = 1.0\n",
    "w = 1.0*sigma\n",
    "k = 1.0*sigma\n",
    "g = 1.0*sigma\n",
    "params = [sigma, w, k, g]\n",
    "H, J = dicke(N, params)"
   ]
  },
  {
   "cell_type": "code",
   "execution_count": null,
   "metadata": {
    "id": "giaWWWYutRAy"
   },
   "outputs": [],
   "source": [
    "sz = np.matrix([[1.0, 0.0], [0.0, -1.0]], dtype = complex)\n",
    "kronecker(0.5*sz, 0, N) + kronecker(0.5*sz, 1, N), H"
   ]
  },
  {
   "cell_type": "code",
   "execution_count": null,
   "metadata": {
    "colab": {
     "base_uri": "https://localhost:8080/"
    },
    "id": "X_PXOyOA2fJW",
    "outputId": "3e3d7670-4820-42da-faf2-853250a08bc0"
   },
   "outputs": [
    {
     "data": {
      "text/plain": [
       "(16, 16)"
      ]
     },
     "execution_count": 39,
     "metadata": {},
     "output_type": "execute_result"
    }
   ],
   "source": [
    "L.shape"
   ]
  },
  {
   "cell_type": "code",
   "execution_count": null,
   "metadata": {
    "id": "3TolBapr2I9_"
   },
   "outputs": [],
   "source": [
    "L, b = Limblad(H, [J])\n",
    "sp.simplify(L)"
   ]
  },
  {
   "cell_type": "code",
   "execution_count": null,
   "metadata": {
    "colab": {
     "base_uri": "https://localhost:8080/",
     "height": 189
    },
    "id": "rsgT1tGTvpXJ",
    "outputId": "6f83cfe5-451f-4dbc-ebf2-0e72b8d8fb6d"
   },
   "outputs": [
    {
     "name": "stdout",
     "output_type": "stream",
     "text": [
      "El inicial es: [[[0.40131106+0.2239223j ]\n",
      "  [0.12776737+0.25390612j]\n",
      "  [0.05074864+0.6187196j ]\n",
      "  [0.06724557+0.56400717j]]] y su shape es: (1, 4, 1)\n"
     ]
    },
    {
     "data": {
      "text/latex": [
       "$\\displaystyle \\left[\\begin{matrix}0.211191758330234 - 5.70837038843799 \\cdot 10^{-18} i & 0.108129698304449 - 0.0732853722680036 i & 0.158911105558501 - 0.236935264557832 i & 0.153280169538822 - 0.211284530112789 i\\\\0.108129698304449 + 0.0732853722680036 i & 0.080792818710238 + 1.58281184678707 \\cdot 10^{-18} i & 0.163580715653619 - 0.0661667825318159 i & 0.151796661884623 - 0.0549876486817208 i\\\\0.158911105558501 + 0.236935264557832 i & 0.163580715653619 + 0.0661667825318159 i & 0.385389371746441 - 2.98752918660349 \\cdot 10^{-18} i & 0.352374911924799 + 0.0129835523658596 i\\\\0.153280169538822 + 0.211284530112789 i & 0.151796661884623 + 0.0549876486817209 i & 0.352374911924799 - 0.0129835523658596 i & 0.322626051213087 - 6.23939490044569 \\cdot 10^{-20} i\\end{matrix}\\right]$"
      ],
      "text/plain": [
       "Matrix([\n",
       "[0.211191758330234 - 5.70837038843799e-18*I,   0.108129698304449 - 0.0732853722680036*I,    0.158911105558501 - 0.236935264557832*I,    0.153280169538822 - 0.211284530112789*I],\n",
       "[  0.108129698304449 + 0.0732853722680036*I, 0.080792818710238 + 1.58281184678707e-18*I,   0.163580715653619 - 0.0661667825318159*I,   0.151796661884623 - 0.0549876486817208*I],\n",
       "[   0.158911105558501 + 0.236935264557832*I,   0.163580715653619 + 0.0661667825318159*I, 0.385389371746441 - 2.98752918660349e-18*I,   0.352374911924799 + 0.0129835523658596*I],\n",
       "[   0.153280169538822 + 0.211284530112789*I,   0.151796661884623 + 0.0549876486817209*I,   0.352374911924799 - 0.0129835523658596*I, 0.322626051213087 - 6.23939490044569e-20*I]])"
      ]
     },
     "execution_count": 32,
     "metadata": {},
     "output_type": "execute_result"
    }
   ],
   "source": [
    "d, ini = densidad(N)\n",
    "sp.Matrix(d, dtype = complex)"
   ]
  },
  {
   "cell_type": "code",
   "execution_count": null,
   "metadata": {
    "colab": {
     "base_uri": "https://localhost:8080/"
    },
    "id": "6azUt8mvyPsg",
    "outputId": "20a16d3a-2118-422b-e4be-ba8c76bcef1b"
   },
   "outputs": [
    {
     "data": {
      "text/plain": [
       "(1-7.175481677258872e-18j)"
      ]
     },
     "execution_count": 33,
     "metadata": {},
     "output_type": "execute_result"
    }
   ],
   "source": [
    "np.trace(d)"
   ]
  },
  {
   "cell_type": "markdown",
   "metadata": {
    "id": "kDDDWTssmXGb"
   },
   "source": [
    "Ahora, tenemos que buscar una transformación que deje la traza menor que un umbral"
   ]
  },
  {
   "cell_type": "markdown",
   "metadata": {
    "id": "FGhj9klXQ8MG"
   },
   "source": [
    "# Modelo de qubits"
   ]
  },
  {
   "cell_type": "code",
   "execution_count": null,
   "metadata": {
    "colab": {
     "base_uri": "https://localhost:8080/"
    },
    "id": "9HuXsymrmhV6",
    "outputId": "9e4b2a84-c800-44df-d845-4700e54eeca8"
   },
   "outputs": [
    {
     "name": "stdout",
     "output_type": "stream",
     "text": [
      "(2, 2)\n",
      "densidad hecha\n"
     ]
    },
    {
     "name": "stderr",
     "output_type": "stream",
     "text": [
      "<ipython-input-3-6ab63186044f>:13: DeprecationWarning: Conversion of an array with ndim > 0 to a scalar is deprecated, and will error in future. Ensure you extract a single element from your array before performing this operation. (Deprecated NumPy 1.25.)\n",
      "  m[i, k] = v1[i]*v2_conj[k]\n"
     ]
    },
    {
     "name": "stdout",
     "output_type": "stream",
     "text": [
      "(4, 4)\n"
     ]
    }
   ],
   "source": [
    "# Diagonalizamos el lindbladiano\n",
    "dt = 0.01 #salto de tiempo\n",
    "\n",
    "# Medimos el tiempo\n",
    "t1 = time.time()\n",
    "\n",
    "# Matrices de Pauli\n",
    "id = np.matrix([[1.0, 0.0], [0.0, 1.0]], dtype = complex)\n",
    "sx = np.matrix([[0.0, 1.0], [1.0, 0.0]], dtype = complex)\n",
    "sy = np.matrix([[0.0, -1.j], [1.j, 0.0]], dtype = complex)\n",
    "sz = np.matrix([[1.0, 0.0], [0.0, -1.0]], dtype = complex)\n",
    "num = np.matrix([[1.0, 0.0], [0.0, 0.0]], dtype = complex)\n",
    "\n",
    "# Hamiltoniano, operador salto y hamiltoniano efecivo\n",
    "N = 1\n",
    "nveces = 1e3\n",
    "sigma = 1.0\n",
    "k = 4.0*sigma\n",
    "params = [sigma, k]\n",
    "H, J = qubits(N, params)\n",
    "Heff = H_eff(H, [J])\n",
    "print(Heff.shape)\n",
    "\n",
    "# Matriz densidad\n",
    "d0, ini = densidad_qubit(N)\n",
    "print('densidad hecha')\n",
    "L, b = Limblad(sp.Matrix(H, dtype = complex), [sp.Matrix(J, dtype = complex)])\n",
    "\n",
    "print(L.shape)\n",
    "todo = L.eigenvects()\n",
    "#vals = list(sp.simplify(L.eigenvals()).keys())\n",
    "autovals = np.asarray([tup[0] for tup in todo], dtype = complex)\n",
    "autovects = [np.array(tup[2], dtype = complex) for tup in todo]\n",
    "\n",
    "# Sacamos l2\n",
    "# Extraemos la matriz por la izquierda cuyo autovalor es el mayor (y no es cero)\n",
    "lista_vals =  list(-np.real(autovals))\n",
    "maximo = max(lista_vals)\n",
    "indice_maximo = lista_vals.index(maximo)\n",
    "lista_vals.remove(maximo)\n",
    "segundo_maximo = max(lista_vals)\n",
    "indice_segundo_maximo = lista_vals.index(segundo_maximo)\n",
    "if indice_segundo_maximo >= indice_maximo:\n",
    "\n",
    "  indice_segundo_maximo += 1\n",
    "\n",
    "L1 = np.reshape(autovects[indice_segundo_maximo], (d0.shape[0], d0.shape[1]))"
   ]
  },
  {
   "cell_type": "code",
   "execution_count": null,
   "metadata": {
    "id": "W1Fi3VsGl5lS"
   },
   "outputs": [],
   "source": [
    "epsilon = 1e-3\n",
    "\n",
    "phi = np.pi/2.0\n",
    "theta = np.pi/2.0\n",
    "U = Mpemba_sep(theta, phi, N)\n",
    "new_rho = np.dot(U, np.dot(d0, np.conjugate(U.T)))\n",
    "res = np.trace(np.dot(L1, new_rho))\n",
    "res"
   ]
  },
  {
   "cell_type": "code",
   "execution_count": null,
   "metadata": {
    "id": "pmf6SCnmoWRN"
   },
   "outputs": [],
   "source": [
    "epsilon = 1e-2\n",
    "posibles = []\n",
    "phi = 0.0\n",
    "theta = 0.0\n",
    "traza = []\n",
    "while(theta < np.pi):\n",
    "  phi = 0.0\n",
    "  while(phi < 2.0*np.pi):\n",
    "    U = Mpemba_sep(theta, phi, N)\n",
    "    new_rho = np.dot(U, np.dot(d0, np.conjugate(U.T)))\n",
    "    res = np.trace(np.dot(L1, new_rho))\n",
    "    if(np.abs(res) < epsilon):\n",
    "      posibles.append([theta, phi])\n",
    "      traza.append(res)\n",
    "    phi += 0.01\n",
    "  theta += 0.01"
   ]
  },
  {
   "cell_type": "code",
   "execution_count": null,
   "metadata": {
    "colab": {
     "base_uri": "https://localhost:8080/"
    },
    "id": "_aGgtcH2qlIk",
    "outputId": "d7b9ba4d-ee8f-4346-c146-d641abb90954"
   },
   "outputs": [
    {
     "data": {
      "text/plain": [
       "2129"
      ]
     },
     "execution_count": 84,
     "metadata": {},
     "output_type": "execute_result"
    }
   ],
   "source": [
    "len(posibles)"
   ]
  },
  {
   "cell_type": "code",
   "execution_count": null,
   "metadata": {
    "id": "y2smLte5qozv"
   },
   "outputs": [],
   "source": [
    "traza"
   ]
  },
  {
   "cell_type": "markdown",
   "metadata": {
    "id": "JXMAsusqUlI9"
   },
   "source": [
    "Probamos a aplicarle alguna de las transformaciones para ver cómo sale"
   ]
  },
  {
   "cell_type": "code",
   "execution_count": null,
   "metadata": {
    "id": "-1qAmFf4q0H6"
   },
   "outputs": [],
   "source": [
    "# Definimos los angulos\n",
    "theta_posible = posibles[0][0]\n",
    "phi_posible = posibles[0][1]\n",
    "\n",
    "# Creamos la transformacion con estos angulos y lo aplicamos\n",
    "U = Mpemba_sep(theta_posible, phi_posible, N)\n",
    "d0_new = np.dot(np.dot(U, d0), np.conjugate(U.T))\n",
    "\n",
    "# Resolvemos el sistema con ambos casos\n",
    "nveces = 1e3\n",
    "v1, tiempo, n1 = ResolverSistema(d0, H, [J], N, nveces)\n",
    "v2, tiempo, n2 = ResolverSistema(d0_new, H, [J], N, nveces)\n",
    "\n",
    "dens = [v1, v2]"
   ]
  },
  {
   "cell_type": "code",
   "execution_count": null,
   "metadata": {
    "colab": {
     "base_uri": "https://localhost:8080/"
    },
    "id": "4ROCNvMHUjXK",
    "outputId": "ec916bb3-77b3-410b-e9fe-a63c62f9811b"
   },
   "outputs": [
    {
     "data": {
      "text/plain": [
       "array([-4.00000000e+00+0.j, -7.73205081e+00+0.j, -4.26794919e+00+0.j,\n",
       "        7.24776517e-66+0.j])"
      ]
     },
     "execution_count": 67,
     "metadata": {},
     "output_type": "execute_result"
    }
   ],
   "source": [
    "autovals[:]"
   ]
  },
  {
   "cell_type": "code",
   "execution_count": null,
   "metadata": {
    "id": "sFFqp4W8Uqbi"
   },
   "outputs": [],
   "source": [
    "r = np.reshape(autovects[62], d0.shape)\n",
    "r = r/np.trace(r)"
   ]
  },
  {
   "cell_type": "code",
   "execution_count": null,
   "metadata": {
    "colab": {
     "base_uri": "https://localhost:8080/"
    },
    "id": "GvKpsr0BVLjq",
    "outputId": "5982712a-5310-42c8-e218-50602f4471bb"
   },
   "outputs": [
    {
     "data": {
      "text/plain": [
       "((1+0j), (0.9938271604938271+0j))"
      ]
     },
     "execution_count": 86,
     "metadata": {},
     "output_type": "execute_result"
    }
   ],
   "source": [
    "r = estacionario(autovals, autovects, d0)\n",
    "np.trace(r), np.trace(np.dot(r, r))"
   ]
  },
  {
   "cell_type": "code",
   "execution_count": null,
   "metadata": {
    "id": "jsJtNAbuVSfS"
   },
   "outputs": [],
   "source": [
    "np.trace(r), np.trace(np.dot(r, r))"
   ]
  },
  {
   "cell_type": "code",
   "execution_count": null,
   "metadata": {
    "colab": {
     "base_uri": "https://localhost:8080/",
     "height": 452
    },
    "id": "sOMNKsiQVNBI",
    "outputId": "2a772d36-ffd2-4436-bb84-ba0d0ea0d522"
   },
   "outputs": [
    {
     "data": {
      "image/png": "[encoded data removed]",
      "text/plain": [
       "<Figure size 640x480 with 1 Axes>"
      ]
     },
     "metadata": {},
     "output_type": "display_data"
    }
   ],
   "source": [
    "#Sacamos la distancia de Hilbert Schmidt para todo tiempo t\n",
    "#ob = [[np.sqrt(np.trace((v[i] - r))) for i in range(len(v))] for v in dens]\n",
    "ob = [[np.sqrt(np.trace(np.dot((v[i] - r), (v[i] - r)))) for i in range(len(v))] for v in dens]\n",
    "plt.plot(tiempo, ob[0], 'b-', label = 'Random')\n",
    "plt.plot(tiempo, ob[1], 'r-', label = 'Mpemba1')\n",
    "#plt.xlim(2, 200)\n",
    "#plt.ylim(0.0, 0.5)\n",
    "plt.ylim(0.0, 0.1)\n",
    "plt.xlim(0.5, 2.5)\n",
    "plt.legend(loc = 'upper right')\n",
    "plt.title('Distancia de Hilbert-Schmidt. Modelo de Qubits para N = ' + str(N) + ' y para k = ' + str(k))\n",
    "plt.show()\n",
    "#ploteo_MC(ob, tiempo)"
   ]
  },
  {
   "cell_type": "code",
   "execution_count": null,
   "metadata": {
    "id": "qT8D0a_gd_1q"
   },
   "outputs": [],
   "source": [
    "def parametrizacion_esfera(r, theta_range, phi_range):\n",
    "    theta_values = np.linspace(*theta_range, num=100)\n",
    "    phi_values = np.linspace(*phi_range, num=100)\n",
    "\n",
    "    theta, phi = np.meshgrid(theta_values, phi_values)\n",
    "\n",
    "    x = r * np.sin(theta) * np.cos(phi)\n",
    "    y = r * np.sin(theta) * np.sin(phi)\n",
    "    z = r * np.cos(theta)\n",
    "\n",
    "    return x, y, z\n",
    "\n",
    "def esfera_partes(r, theta_values, phi_values):\n",
    "  theta, phi = np.meshgrid(theta_values, phi_values)\n",
    "  x = r * np.sin(theta) * np.cos(phi)\n",
    "  y = r * np.sin(theta) * np.sin(phi)\n",
    "  z = r * np.cos(theta)\n",
    "\n",
    "  return x, y, z"
   ]
  },
  {
   "cell_type": "code",
   "execution_count": null,
   "metadata": {
    "colab": {
     "base_uri": "https://localhost:8080/",
     "height": 450
    },
    "id": "_LlqAFiAhWFE",
    "outputId": "d9f1babf-670d-4f18-8ece-438259a5bc60"
   },
   "outputs": [
    {
     "data": {
      "image/png": "[encoded data removed]",
      "text/plain": [
       "<Figure size 640x480 with 1 Axes>"
      ]
     },
     "metadata": {},
     "output_type": "display_data"
    }
   ],
   "source": [
    "from matplotlib import cm\n",
    "# Parámetros de la esfera\n",
    "radio = 1.0\n",
    "theta_rango1 = (0, np.pi)  # Rango de ángulo polar de 0 a pi\n",
    "phi_rango1 = (0, 2 * np.pi)  # Rango de ángulo azimutal de 0 a 2*pi\n",
    "\n",
    "theta_values = [tup[0] for tup in posibles]\n",
    "phi_values = [tup[1] for tup in posibles]\n",
    "#theta_rango2 = (0, 0.5*np.pi)\n",
    "#phi_rango2 = (0, 2*np.pi)\n",
    "\n",
    "# Obtener las coordenadas para la parametrización\n",
    "x1, y1, z1 = parametrizacion_esfera(radio, theta_rango1, phi_rango1)\n",
    "x2, y2, z2 = esfera_partes(radio, theta_values, phi_values)\n",
    "\n",
    "# Graficar la esfera\n",
    "fig = plt.figure()\n",
    "ax = fig.add_subplot(111, projection='3d')\n",
    "ax.plot_surface(x1, y1, z1, color='b', alpha= 0.3)\n",
    "#ax.plot_surface(x2, y2, z2, cmap = 'viridis', color = 'b', alpha = 0.9) # Alpha es la opacidad\n",
    "#ax.plot_surface(x2, y2, z2, color = 'r', alpha = 1.0) # Alpha es la opacidad\n",
    "ax.scatter(x2, y2, z2, c='r', marker='o', label='Puntos en la esfera')\n",
    "# Cambiar la orientación de la vista\n",
    "#ax.view_init(elev=0, azim=180)  # Elevación y azimut en grados\n",
    "# Configuración adicional para mejorar la visualización\n",
    "ax.set_aspect('equal')\n",
    "ax.set_xlabel('X')\n",
    "ax.set_ylabel('Y')\n",
    "ax.set_zlabel('Z')\n",
    "ax.set_title('Parametrización de la Esfera en Coordenadas Esféricas')\n",
    "\n",
    "plt.show()"
   ]
  },
  {
   "cell_type": "markdown",
   "metadata": {
    "id": "gb1va2UBdAJR"
   },
   "source": [
    "Vamos a ver para qué valores de k se tienen más posibles transformaciones"
   ]
  },
  {
   "cell_type": "code",
   "execution_count": null,
   "metadata": {
    "colab": {
     "base_uri": "https://localhost:8080/"
    },
    "id": "rOnqA92VkW0J",
    "outputId": "15174cf8-a9eb-4062-df37-15325fbc17a2"
   },
   "outputs": [
    {
     "name": "stderr",
     "output_type": "stream",
     "text": [
      "<ipython-input-3-6ab63186044f>:13: DeprecationWarning: Conversion of an array with ndim > 0 to a scalar is deprecated, and will error in future. Ensure you extract a single element from your array before performing this operation. (Deprecated NumPy 1.25.)\n",
      "  m[i, k] = v1[i]*v2_conj[k]\n"
     ]
    }
   ],
   "source": [
    "N = 1\n",
    "epsilon = 1e-2\n",
    "sigma = 1.0\n",
    "k = 0.2*sigma\n",
    "numero_posibles = []\n",
    "valores = []\n",
    "while(k < 10.0):\n",
    "  # Construimos el Lindbladiano\n",
    "  params = [sigma, k]\n",
    "  H, J = qubits(N, params)\n",
    "  Heff = H_eff(H, [J])\n",
    "  d0, ini = densidad_qubit(N)\n",
    "  L, b = Limblad(sp.Matrix(H, dtype = complex), [sp.Matrix(J, dtype = complex)])\n",
    "\n",
    "  # Diagonalizamos el lindbladiano\n",
    "  todo = L.eigenvects()\n",
    "  autovals = np.asarray([tup[0] for tup in todo], dtype = complex)\n",
    "  autovects = [np.array(tup[2], dtype = complex) for tup in todo]\n",
    "\n",
    "  # Sacamos l2\n",
    "  lista_vals =  list(np.real(autovals))\n",
    "  maximo = max(lista_vals)\n",
    "  indice_maximo = lista_vals.index(maximo)\n",
    "  lista_vals.remove(maximo)\n",
    "  segundo_maximo = max(lista_vals)\n",
    "  indice_segundo_maximo = lista_vals.index(segundo_maximo)\n",
    "  if indice_segundo_maximo >= indice_maximo:\n",
    "    indice_segundo_maximo += 1\n",
    "  L1 = np.reshape(autovects[indice_segundo_maximo], (d0.shape[0], d0.shape[1]))\n",
    "\n",
    "  # Sacamos los posibles angulos\n",
    "  posibles = []\n",
    "  traza = []\n",
    "  phi = 0.0\n",
    "  theta = 0.0\n",
    "  while(theta < np.pi):\n",
    "    phi = 0.0\n",
    "    while(phi < 2.0*np.pi):\n",
    "      U = Mpemba_sep(theta, phi, N)\n",
    "      new_rho = np.dot(U, np.dot(d0, np.conjugate(U.T)))\n",
    "      res = np.trace((np.dot(L1, new_rho)))\n",
    "      if(res < epsilon):\n",
    "        posibles.append([theta, phi])\n",
    "        traza.append(res)\n",
    "      phi += 0.01\n",
    "    theta += 0.01\n",
    "  numero_posibles.append([len(traza)])\n",
    "  valores.append([k])\n",
    "  #print(k)\n",
    "  k += 0.2*sigma"
   ]
  },
  {
   "cell_type": "code",
   "execution_count": null,
   "metadata": {
    "colab": {
     "base_uri": "https://localhost:8080/",
     "height": 466
    },
    "id": "m3btQa9LnMjA",
    "outputId": "a2fd4ecb-a373-4f55-b485-e57b8b4859ac"
   },
   "outputs": [
    {
     "data": {
      "text/plain": [
       "[<matplotlib.lines.Line2D at 0x78922247a980>]"
      ]
     },
     "execution_count": 97,
     "metadata": {},
     "output_type": "execute_result"
    },
    {
     "data": {
      "image/png": "[encoded data removed]",
      "text/plain": [
       "<Figure size 640x480 with 1 Axes>"
      ]
     },
     "metadata": {},
     "output_type": "display_data"
    }
   ],
   "source": [
    "plt.xlabel('k')\n",
    "plt.ylabel('Número de posibles angulos')\n",
    "plt.plot(valores, numero_posibles, 'b.')"
   ]
  },
  {
   "cell_type": "markdown",
   "metadata": {
    "id": "1AEOQAV0RAg3"
   },
   "source": [
    "# Modelo de Dicke"
   ]
  },
  {
   "cell_type": "code",
   "execution_count": null,
   "metadata": {
    "colab": {
     "base_uri": "https://localhost:8080/",
     "height": 119
    },
    "id": "scK44Hl-aCxx",
    "outputId": "fa9c44ce-75a8-478e-a187-9bb756df57d9"
   },
   "outputs": [
    {
     "data": {
      "text/latex": [
       "$\\displaystyle \\left[\\begin{matrix}0.116203611576102 & 0.159856732889625 + 0.144518572834069 i & 0.165080512422499 + 0.0770880077627541 i & 0.131904886364978 + 0.075282824861775 i\\\\0.159856732889625 - 0.144518572834069 i & 0.399641562893484 & 0.322966556160109 - 0.0992582144018703 i & 0.275083107666486 - 0.0604821090056966 i\\\\0.165080512422499 - 0.0770880077627541 i & 0.322966556160109 + 0.0992582144018703 i & 0.28565494714221 & 0.237327642794024 + 0.0194438225292744 i\\\\0.131904886364978 - 0.075282824861775 i & 0.275083107666486 + 0.0604821090056966 i & 0.237327642794024 - 0.0194438225292744 i & 0.198499878388204\\end{matrix}\\right]$"
      ],
      "text/plain": [
       "Matrix([\n",
       "[                       0.116203611576102,  0.159856732889625 + 0.144518572834069*I, 0.165080512422499 + 0.0770880077627541*I,  0.131904886364978 + 0.075282824861775*I],\n",
       "[ 0.159856732889625 - 0.144518572834069*I,                        0.399641562893484, 0.322966556160109 - 0.0992582144018703*I, 0.275083107666486 - 0.0604821090056966*I],\n",
       "[0.165080512422499 - 0.0770880077627541*I, 0.322966556160109 + 0.0992582144018703*I,                         0.28565494714221, 0.237327642794024 + 0.0194438225292744*I],\n",
       "[ 0.131904886364978 - 0.075282824861775*I, 0.275083107666486 + 0.0604821090056966*I, 0.237327642794024 - 0.0194438225292744*I,                        0.198499878388204]])"
      ]
     },
     "execution_count": 68,
     "metadata": {},
     "output_type": "execute_result"
    }
   ],
   "source": [
    "res = np.dot(np.conjugate(d0.T), d0)\n",
    "sp.Matrix(res, dtype = complex)"
   ]
  },
  {
   "cell_type": "code",
   "execution_count": 8,
   "metadata": {
    "colab": {
     "base_uri": "https://localhost:8080/"
    },
    "id": "m2HUF4fjRc2M",
    "outputId": "863c2ef2-f26c-4356-f2ad-d82fcaf524f5"
   },
   "outputs": [
    {
     "name": "stdout",
     "output_type": "stream",
     "text": [
      "El inicial es: [[[0.74267904+0.41439775j]\n",
      "  [0.23645036+0.46988677j]]] y su shape es: (1, 2, 1)\n",
      "densidad hecha\n",
      "(4, 4)\n"
     ]
    }
   ],
   "source": [
    "dt = 0.01 #salto de tiempo\n",
    "\n",
    "# Medimos el tiempo\n",
    "t1 = time.time()\n",
    "\n",
    "# Matrices de Pauli\n",
    "id = np.matrix([[1.0, 0.0], [0.0, 1.0]], dtype = complex)\n",
    "sx = np.matrix([[0.0, 1.0], [1.0, 0.0]], dtype = complex)\n",
    "sy = np.matrix([[0.0, -1.j], [1.j, 0.0]], dtype = complex)\n",
    "sz = np.matrix([[1.0, 0.0], [0.0, -1.0]], dtype = complex)\n",
    "num = np.matrix([[1.0, 0.0], [0.0, 0.0]], dtype = complex)\n",
    "\n",
    "# Hamiltoniano, operador salto y hamiltoniano efecivo\n",
    "N = 1\n",
    "sigma = 1.0\n",
    "nveces = 1e2\n",
    "w = 1.0*sigma\n",
    "k = 4.0*sigma\n",
    "g = 4.0*sigma\n",
    "params = [sigma, w, k, g]\n",
    "H, J = dicke(N, params)\n",
    "\n",
    "# Matriz densidad\n",
    "d0, ini = densidad(N)\n",
    "\n",
    "print('densidad hecha')\n",
    "L, b = Limblad(sp.Matrix(H, dtype = complex), [sp.Matrix(J, dtype = complex)])\n",
    "\n",
    "print(L.shape)\n",
    "todo = L.eigenvects()\n",
    "#vals = list(sp.simplify(L.eigenvals()).keys())\n",
    "autovals = np.asarray([tup[0] for tup in todo], dtype = complex)\n",
    "autovects = [np.array(tup[2], dtype = complex) for tup in todo]\n",
    "\n",
    "# Sacamos l2\n",
    "# Extraemos la matriz por la izquierda cuyo autovalor es el mayor (y no es cero)\n",
    "\"\"\"\n",
    "lista_vals =  list(np.real(autovals))\n",
    "maximo = max(lista_vals)\n",
    "indice_maximo = lista_vals.index(maximo)\n",
    "lista_vals.remove(maximo)\n",
    "segundo_maximo = max(lista_vals)\n",
    "indice_segundo_maximo = lista_vals.index(segundo_maximo)\n",
    "if indice_segundo_maximo >= indice_maximo:\n",
    "  indice_segundo_maximo += 1\n",
    "\"\"\"\n",
    "segundo_maximo, indice_segundo_maximo = segundo_max_distinto_de_cero(list(np.real(autovals)))\n",
    "#indice_segundo_maximo = autovects.index(segundo_maximo)\n",
    "\n",
    "L1 = np.reshape(autovects[indice_segundo_maximo], (d0.shape[0], d0.shape[1]))"
   ]
  },
  {
   "cell_type": "code",
   "execution_count": 9,
   "metadata": {
    "colab": {
     "base_uri": "https://localhost:8080/"
    },
    "id": "j_PnQDNgB5tU",
    "outputId": "071c6220-d825-4fc1-a8a1-6e99fe4bcb97"
   },
   "outputs": [
    {
     "name": "stdout",
     "output_type": "stream",
     "text": [
      "El inicial es: [[[0.06031191+0.73531346j]\n",
      "  [0.07991758+0.67029081j]]] y su shape es: (1, 2, 1)\n",
      "(2, 2)\n"
     ]
    }
   ],
   "source": [
    "dt = 0.01 #salto de tiempo\n",
    "\n",
    "# Medimos el tiempo\n",
    "t1 = time.time()\n",
    "\n",
    "# Matrices de Pauli\n",
    "id = np.matrix([[1.0, 0.0], [0.0, 1.0]], dtype = complex)\n",
    "sx = np.matrix([[0.0, 1.0], [1.0, 0.0]], dtype = complex)\n",
    "sy = np.matrix([[0.0, -1.j], [1.j, 0.0]], dtype = complex)\n",
    "sz = np.matrix([[1.0, 0.0], [0.0, -1.0]], dtype = complex)\n",
    "num = np.matrix([[1.0, 0.0], [0.0, 0.0]], dtype = complex)\n",
    "\n",
    "# Hamiltoniano, operador salto y hamiltoniano efecivo\n",
    "N = 1\n",
    "sigma = 1.0\n",
    "w = 1.0*sigma\n",
    "k = 4.5*sigma\n",
    "g = 4.0*sigma\n",
    "params = [sigma, w, k, g]\n",
    "H, J = dicke(N, params)\n",
    "\n",
    "# Matriz densidad\n",
    "d0, ini = densidad(N)\n",
    "\n",
    "L, b = Limblad(sp.Matrix(H, dtype = complex), [sp.Matrix(J, dtype = complex)])\n",
    "todo = L.eigenvects()\n",
    "todoh = (L.H).eigenvects()\n",
    "#vals = list(sp.simplify(L.eigenvals()).keys())\n",
    "autovals = np.asarray([tup[0] for tup in todo], dtype = complex)\n",
    "autovects_r = [np.asarray(tup[2], dtype = complex) for tup in todo]\n",
    "autovects_r = [np.squeeze(np.asarray(elemento, dtype = complex)) for elemento in autovects_r]\n",
    "autovects_r = [np.reshape(elemento, (1, len(elemento))) for elemento in autovects_r]\n",
    "\n",
    "autovects_l = [np.asarray(tup[2], dtype = complex) for tup in todoh]\n",
    "autovects_l = [np.squeeze(np.asarray(elemento, dtype = complex)) for elemento in autovects_l]\n",
    "autovects_l = [np.reshape(elemento, (1, len(elemento))) for elemento in autovects_l]\n",
    "\n",
    "# Sacamos l2\n",
    "# Extraemos la matriz por la izquierda cuyo autovalor es el mayor (y no es cero)\n",
    "\"\"\"\n",
    "lista_vals =  list(-np.real(autovals))\n",
    "maximo = max(lista_vals)\n",
    "indice_maximo = lista_vals.index(maximo)\n",
    "lista_vals.remove(maximo)\n",
    "segundo_maximo = max(lista_vals)\n",
    "indice_segundo_maximo = lista_vals.index(segundo_maximo)\n",
    "if indice_segundo_maximo >= indice_maximo:\n",
    "  indice_segundo_maximo += 1\n",
    "\"\"\"\n",
    "segundo_maximo, indice_segundo_maximo = buscar_segundo_maximo(list(np.real(autovals)))\n",
    "#indice_segundo_maximo = autovects.index(segundo_maximo)\n",
    "\n",
    "#L1 = np.reshape(autovects[indice_segundo_maximo], (d0.shape[0], d0.shape[1]))\n",
    "\n",
    "L1 = np.reshape(autovects_r[indice_segundo_maximo], (d0.shape[0], d0.shape[1]))\n",
    "\n",
    "# Sacamos las transforaciones de Mpemba\n",
    "ini = np.reshape(ini, (max(ini.shape)))\n",
    "ini = np.squeeze(np.asarray(ini, dtype = complex))\n",
    "\"\"\"\n",
    "U2, U_cambio = Mpemba2_mejorada(L, autovects_r, np.array(autovals, dtype = complex), d0, N, ini) # Via no trivial (no cero)\n",
    "U1, U_cambio = Mpemba1_mejorada(L, autovects_r, np.array(autovals, dtype = complex), d0, N, ini) # Via trivial (cero)\n",
    "duracion = time.time() - t1\n",
    "\n",
    "d0_exp1 = np.dot(np.dot(U1, d0), np.conjugate(U1.T))\n",
    "d0_exp2 = np.dot(np.dot(U2, d0), np.conjugate(U2.T))\n",
    "\"\"\"\n",
    "print(d0.shape)\n",
    "\n",
    "automatrix_r = [np.reshape(matriz, (d0.shape[0], d0.shape[1])) for matriz in autovects_r]\n",
    "automatrix_l = [np.reshape(matriz, (d0.shape[0], d0.shape[1])) for matriz in autovects_l]\n",
    "\n",
    "tfinal = 100\n",
    "tiempo = np.linspace(0.0, tfinal, int(tfinal/dt))\n",
    "\n",
    "#v1 = solucion(d0, automatrix_r, automatrix_l, autovals, tiempo)\n",
    "#v2 = solucion(d0_exp1, automatrix_r, automatrix_l, autovals, tiempo)\n",
    "#v3 = solucion(d0_exp2, automatrix_r, automatrix_l, autovals, tiempo)\n",
    "\n",
    "#dens = [v1, v2, v3]\n",
    "#dens = [v1, v2]"
   ]
  },
  {
   "cell_type": "code",
   "execution_count": null,
   "metadata": {
    "id": "8TPmWdv1usAg"
   },
   "outputs": [],
   "source": [
    "# Funcion que me genera una matriz densidad inicial a partir de una combinacion lineal de los autoestados de Sz\n",
    "def densidad_p(N, inicial, final):\n",
    "  sz = np.matrix([[1.0, 0.0], [0.0, -1.0]], dtype = complex)\n",
    "  id = np.matrix([[1.0, 0.0], [0.0, 1.0]], dtype = complex)\n",
    "\n",
    "  # Construimos el operador sz\n",
    "  suma = kronecker(0.5*sz, 0, N)\n",
    "  i = 1\n",
    "  while(i < N):\n",
    "    suma += kronecker(0.5*sz, i, N)\n",
    "    i += 1\n",
    "  spin = sp.Matrix(suma, dtype = complex)\n",
    "  #print(spin)\n",
    "\n",
    "  # Creamos la base de autoestados de sz\n",
    "  todo = spin.eigenvects()\n",
    "  base = [np.asarray(tup[2], dtype = complex) for tup in todo]\n",
    "  #base = [np.linalg.eig(spin)[1][:, i] for i in range(spin.shape[0])]\n",
    "  #print(base)\n",
    "\n",
    "  # Construimos el vector inicial\n",
    "  a, b = inicial + (final-inicial)*random.random(), inicial + (final-inicial)*random.random()\n",
    "  ini = (a + b*1.j)*base[0]\n",
    "  for i in range(1, len(base)):\n",
    "    a, b = inicial + (final-inicial)*random.random(), inicial + (final-inicial)*random.random()\n",
    "    ini += (a + b*1.j)*base[i]\n",
    "  # Le hacemos el ketbra para construir la matriz densidad\n",
    "\n",
    "  ini = ini/(np.linalg.norm(ini))\n",
    "  ini = np.reshape(ini, (1, max(ini.shape)))\n",
    "  d = ketbra(ini.T, ini.T)\n",
    "  res = d/(np.linalg.norm(d))\n",
    "  return res, ini\n"
   ]
  },
  {
   "cell_type": "code",
   "execution_count": null,
   "metadata": {
    "id": "rFTxPhCUvo1a"
   },
   "outputs": [],
   "source": [
    "p = -5.0\n",
    "vectorp = []\n",
    "res = []\n",
    "veces = 10000\n",
    "while(p < 5.0):\n",
    "  print(p)\n",
    "  traza = 0.0\n",
    "  for i in range(veces):\n",
    "    d, ini = densidad_p(N, 0.0 - p, 1.0+p)\n",
    "    traza += np.trace(np.dot(L1, d))\n",
    "  vectorp.append(p)\n",
    "  res.append(traza/veces)\n",
    "  p += 0.1\n",
    "plt.title(r'Tr(l_2$\\rho_0$)-p')\n",
    "plt.xlabel('p')\n",
    "plt.ylabel(r'Tr(l_2$\\rho_0$)')\n",
    "plt.plot(vectorp, res)"
   ]
  },
  {
   "cell_type": "code",
   "execution_count": null,
   "metadata": {
    "colab": {
     "base_uri": "https://localhost:8080/",
     "height": 491
    },
    "id": "2VGXjJPVNcZI",
    "outputId": "c5312d60-baa6-4883-b859-dcf49b3525b3"
   },
   "outputs": [
    {
     "data": {
      "text/plain": [
       "[<matplotlib.lines.Line2D at 0x7e6aba8dfeb0>]"
      ]
     },
     "execution_count": 26,
     "metadata": {},
     "output_type": "execute_result"
    },
    {
     "data": {
      "image/png": "[encoded data removed]",
      "text/plain": [
       "<Figure size 640x480 with 1 Axes>"
      ]
     },
     "metadata": {},
     "output_type": "display_data"
    }
   ],
   "source": [
    "plt.title(r'Tr($l_2$$\\rho_0$)-p')\n",
    "plt.xlabel('p')\n",
    "plt.ylabel(r'Tr($l_2$$\\rho_0$)')\n",
    "plt.plot(vectorp, res)"
   ]
  },
  {
   "cell_type": "code",
   "execution_count": null,
   "metadata": {
    "colab": {
     "base_uri": "https://localhost:8080/",
     "height": 141
    },
    "id": "ZuQiXcHz9lwT",
    "outputId": "7a4a6dc2-99f2-42a3-b69c-c19b7534b188"
   },
   "outputs": [
    {
     "ename": "NameError",
     "evalue": "name 'vectorp' is not defined",
     "output_type": "error",
     "traceback": [
      "\u001b[0;31m---------------------------------------------------------------------------\u001b[0m",
      "\u001b[0;31mNameError\u001b[0m                                 Traceback (most recent call last)",
      "\u001b[0;32m<ipython-input-1-a7f4cb53ce30>\u001b[0m in \u001b[0;36m<cell line: 1>\u001b[0;34m()\u001b[0m\n\u001b[0;32m----> 1\u001b[0;31m \u001b[0mvectorp\u001b[0m\u001b[0;34m[\u001b[0m\u001b[0mres\u001b[0m\u001b[0;34m.\u001b[0m\u001b[0mindex\u001b[0m\u001b[0;34m(\u001b[0m\u001b[0mmax\u001b[0m\u001b[0;34m(\u001b[0m\u001b[0mres\u001b[0m\u001b[0;34m)\u001b[0m\u001b[0;34m)\u001b[0m\u001b[0;34m]\u001b[0m\u001b[0;34m\u001b[0m\u001b[0;34m\u001b[0m\u001b[0m\n\u001b[0m",
      "\u001b[0;31mNameError\u001b[0m: name 'vectorp' is not defined"
     ]
    }
   ],
   "source": [
    "vectorp[res.index(max(res))]"
   ]
  },
  {
   "cell_type": "code",
   "execution_count": null,
   "metadata": {
    "colab": {
     "base_uri": "https://localhost:8080/"
    },
    "id": "uls3PTWAyXXn",
    "outputId": "3b5d385e-ba4c-453d-9b6e-e3aabaad466a"
   },
   "outputs": [
    {
     "data": {
      "text/plain": [
       "array([-5.29411765e-02-9.98597633e-01j, -5.29411765e-02-9.98597633e-01j,\n",
       "       -5.29411765e-02-9.98597633e-01j, -2.64705882e-01-9.87306987e-01j,\n",
       "       -2.64705882e-01+9.87306987e-01j, -5.29411765e-02+9.98597633e-01j,\n",
       "       -5.29411765e-02+9.98597633e-01j, -5.29411765e-02+9.98597633e-01j,\n",
       "       -1.04994717e-01+1.99166892e+00j, -1.04994717e-01-1.99166892e+00j,\n",
       "       -7.68017441e-67+1.96064319e-64j, -3.19422330e-01-1.03225123e-64j,\n",
       "       -1.05882353e-01+1.37803549e-64j, -1.05882353e-01+9.80537535e-65j,\n",
       "       -1.05882353e-01+8.70658731e-66j, -4.68844320e-65-4.33268723e-65j])"
      ]
     },
     "execution_count": 123,
     "metadata": {},
     "output_type": "execute_result"
    }
   ],
   "source": [
    "autovals"
   ]
  },
  {
   "cell_type": "code",
   "execution_count": 10,
   "metadata": {
    "id": "qQmTD024Rc2z"
   },
   "outputs": [],
   "source": [
    "epsilon = np.abs(np.trace(np.dot(L1, d0)))\n",
    "posibles = []\n",
    "phi = 0.0\n",
    "theta = 0.0\n",
    "traza = []\n",
    "while(theta < np.pi):\n",
    "  phi = 0.0\n",
    "  while(phi < 2.0*np.pi):\n",
    "    U = Mpemba_sep(theta, phi, N)\n",
    "    new_rho = np.dot(U, np.dot(d0, np.conjugate(U.T)))\n",
    "    res = np.trace(np.dot(L1, new_rho))\n",
    "    if(np.abs(res) < epsilon):\n",
    "      posibles.append([theta, phi])\n",
    "      traza.append(np.abs(res))\n",
    "    phi += 0.01\n",
    "  theta += 0.01"
   ]
  },
  {
   "cell_type": "code",
   "execution_count": 11,
   "metadata": {
    "colab": {
     "base_uri": "https://localhost:8080/"
    },
    "id": "gMJWssyNMVpk",
    "outputId": "a84eb5c3-78a6-44c4-c71c-8c4a948e5cd5"
   },
   "outputs": [
    {
     "data": {
      "text/plain": [
       "0.7318126756414979"
      ]
     },
     "execution_count": 11,
     "metadata": {},
     "output_type": "execute_result"
    }
   ],
   "source": [
    "epsilon"
   ]
  },
  {
   "cell_type": "code",
   "execution_count": 12,
   "metadata": {
    "colab": {
     "base_uri": "https://localhost:8080/"
    },
    "id": "PAUVaeKVRc25",
    "outputId": "a4519696-82d8-470d-f500-f259f1690be0"
   },
   "outputs": [
    {
     "data": {
      "text/plain": [
       "194815"
      ]
     },
     "execution_count": 12,
     "metadata": {},
     "output_type": "execute_result"
    }
   ],
   "source": [
    "len(posibles)"
   ]
  },
  {
   "cell_type": "markdown",
   "metadata": {
    "id": "tD_HizHrRc3F"
   },
   "source": [
    "Probamos a aplicarle alguna de las transformaciones para ver cómo sale"
   ]
  },
  {
   "cell_type": "code",
   "execution_count": null,
   "metadata": {
    "id": "1-Tj5b1QCt8F"
   },
   "outputs": [],
   "source": [
    "autovals"
   ]
  },
  {
   "cell_type": "code",
   "execution_count": null,
   "metadata": {
    "colab": {
     "base_uri": "https://localhost:8080/",
     "height": 119
    },
    "id": "c_GSRm90CaFv",
    "outputId": "b2ae4cd7-b302-406a-c121-680b27a87698"
   },
   "outputs": [
    {
     "data": {
      "text/latex": [
       "$\\displaystyle \\left[\\begin{matrix}-0.0417815155952759 - 0.18854970676722 i & -1.21225621060093 \\cdot 10^{-63} + 4.37966682719641 \\cdot 10^{-63} i & -2.88197115346045 \\cdot 10^{-63} + 1.00539492537669 \\cdot 10^{-62} i & -3.79233383885694 \\cdot 10^{-64} - 3.31571035752379 \\cdot 10^{-64} i\\\\-2.16175070715378 \\cdot 10^{-63} + 3.583568444741 \\cdot 10^{-63} i & 0.23710156155637 - 0.488568459632503 i & -0.278883077151646 + 0.300018752865284 i & -1.36578953137627 \\cdot 10^{-63} + 1.12546438136923 \\cdot 10^{-62} i\\\\1.13284380911426 \\cdot 10^{-63} + 1.12839987599851 \\cdot 10^{-62} i & -0.278883077151646 + 0.300018752865284 i & 0.23710156155637 - 0.488568459632503 i & -3.10050550525477 \\cdot 10^{-63} + 3.36680471482697 \\cdot 10^{-63} i\\\\-5.43997561472396 \\cdot 10^{-64} - 2.88092316726894 \\cdot 10^{-64} i & -8.61900962827757 \\cdot 10^{-64} + 1.07274346728597 \\cdot 10^{-62} i & -4.11157999878064 \\cdot 10^{-64} + 4.62150497555853 \\cdot 10^{-63} i & -0.0417815155952759 - 0.18854970676722 i\\end{matrix}\\right]$"
      ],
      "text/plain": [
       "Matrix([\n",
       "[      -0.0417815155952759 - 0.18854970676722*I, -1.21225621060093e-63 + 4.37966682719641e-63*I, -2.88197115346045e-63 + 1.00539492537669e-62*I, -3.79233383885694e-64 - 3.31571035752379e-64*I],\n",
       "[  -2.16175070715378e-63 + 3.583568444741e-63*I,         0.23710156155637 - 0.488568459632503*I,       -0.278883077151646 + 0.300018752865284*I, -1.36578953137627e-63 + 1.12546438136923e-62*I],\n",
       "[ 1.13284380911426e-63 + 1.12839987599851e-62*I,       -0.278883077151646 + 0.300018752865284*I,         0.23710156155637 - 0.488568459632503*I, -3.10050550525477e-63 + 3.36680471482697e-63*I],\n",
       "[-5.43997561472396e-64 - 2.88092316726894e-64*I, -8.61900962827757e-64 + 1.07274346728597e-62*I, -4.11157999878064e-64 + 4.62150497555853e-63*I,       -0.0417815155952759 - 0.18854970676722*I]])"
      ]
     },
     "execution_count": 19,
     "metadata": {},
     "output_type": "execute_result"
    }
   ],
   "source": [
    "sp.Matrix(np.reshape(autovects_l[14], d0.shape), dtype = complex)"
   ]
  },
  {
   "cell_type": "code",
   "execution_count": 13,
   "metadata": {
    "colab": {
     "base_uri": "https://localhost:8080/"
    },
    "id": "lwQMcns0Rc3K",
    "outputId": "b3e09886-aa16-4f5b-f651-e9194ea42f25"
   },
   "outputs": [
    {
     "name": "stdout",
     "output_type": "stream",
     "text": [
      "1.8130484890657133e-06\n",
      "Indice segundo maximo: 1\n",
      "Autovalor asociado al l1: (-0.17347034768768757+5.8613795693595045e-65j)\n",
      "Autovalores de L1: \n",
      "[(-0.7399330780380283+0.12835644831287762j), (0.7399330780380283-0.12835644831287762j)]\n",
      "Vamos a probar la via del no cero\n",
      "0\n",
      "La s me sale: 0.7853981633974483 se ha cogido la s que sale de los autovalores: \n",
      "No se ha podido hacer la via del cero\n"
     ]
    }
   ],
   "source": [
    "# Definimos los angulos\n",
    "#theta_posible = posibles[0][0]\n",
    "#phi_posible = posibles[0][1]\n",
    "\n",
    "indice = traza.index(min(traza))\n",
    "print(min(traza))\n",
    "theta_posible, phi_posible = posibles[indice]\n",
    "\n",
    "# Creamos la transformacion con estos angulos y lo aplicamos\n",
    "U = Mpemba_sep(theta_posible, phi_posible, N)\n",
    "d0_new = np.dot(np.dot(U, d0), np.conjugate(U.T))\n",
    "U2, U_cambio = Mpemba2_mejorada(L, autovects_l, np.array(autovals, dtype = complex), d0, N, ini) # Via no trivial (no cero)\n",
    "U1, U_cambio = Mpemba1_mejorada(L, autovects_l, np.array(autovals, dtype = complex), d0, N, ini) # Via trivial (cero)\n",
    "\n",
    "d0_exp1 = np.dot(np.dot(U1, d0), np.conjugate(U1.T))\n",
    "d0_exp2 = np.dot(np.dot(U2, d0), np.conjugate(U2.T))\n",
    "d0_exp2 = d0_exp2/np.trace(d0_exp2)\n",
    "# Resolvemos el sistema con ambos casos\n",
    "nveces = 6e1\n",
    "\"\"\"v1, tiempo, n1 = ResolverSistema(d0, H, [J], N, nveces)\n",
    "v2, tiempo, n2 = ResolverSistema(d0_new, H, [J], N, nveces)\n",
    "\"\"\"\n",
    "#automatrix_r = [elemento/np.trace(elemento) for elemento in automatrix_r]\n",
    "#automatrix_l = [elemento/np.trace(elemento) for elemento in automatrix_l]\n",
    "\n",
    "#automatrix_l[3], automatrix_r[3] = automatrix_l[3]/np.trace(automatrix_l[3]), automatrix_r[3]/np.trace(automatrix_r[3])\n",
    "v1 = solucion(d0, automatrix_r, automatrix_l, autovals, tiempo)\n",
    "v2 = solucion(d0_new, automatrix_r, automatrix_l, autovals, tiempo)\n",
    "v3 = solucion(d0_exp1, automatrix_r, automatrix_l, autovals, tiempo)\n",
    "v4 = solucion(d0_exp2, automatrix_r, automatrix_l, autovals, tiempo)\n",
    "dens = [v1, v2, v3, v4]"
   ]
  },
  {
   "cell_type": "code",
   "execution_count": null,
   "metadata": {
    "id": "2nIkzv6VV6i2"
   },
   "outputs": [],
   "source": [
    "sp.Matrix(L1, dtype = complex).eigenvects()"
   ]
  },
  {
   "cell_type": "code",
   "execution_count": null,
   "metadata": {
    "colab": {
     "base_uri": "https://localhost:8080/"
    },
    "id": "0Xnmu3bA4FYE",
    "outputId": "34951dcf-b52f-4525-cc20-714f669a1f6b"
   },
   "outputs": [
    {
     "data": {
      "text/plain": [
       "((7.548180997857943e-83-7.337983476516896e-83j),\n",
       " (0.03701586142090102+0.26896499011338937j))"
      ]
     },
     "execution_count": 48,
     "metadata": {},
     "output_type": "execute_result"
    }
   ],
   "source": [
    "np.linalg.det(U2), np.trace(U2)"
   ]
  },
  {
   "cell_type": "code",
   "execution_count": null,
   "metadata": {
    "colab": {
     "base_uri": "https://localhost:8080/"
    },
    "id": "fZmZHjgLAK3M",
    "outputId": "e239821d-3543-45dc-e13b-9db479bf1bf5"
   },
   "outputs": [
    {
     "data": {
      "text/plain": [
       "(1-8.666684749742561e-34j)"
      ]
     },
     "execution_count": 47,
     "metadata": {},
     "output_type": "execute_result"
    }
   ],
   "source": [
    "np.trace(d0_exp2)"
   ]
  },
  {
   "cell_type": "code",
   "execution_count": null,
   "metadata": {
    "colab": {
     "base_uri": "https://localhost:8080/"
    },
    "id": "94yI4Bk_Adoi",
    "outputId": "1de8e8ad-8e0e-42b7-bd3e-9050ac17171e"
   },
   "outputs": [
    {
     "data": {
      "text/plain": [
       "0.0"
      ]
     },
     "execution_count": 35,
     "metadata": {},
     "output_type": "execute_result"
    }
   ],
   "source": [
    "np.linalg.det(U1)"
   ]
  },
  {
   "cell_type": "code",
   "execution_count": null,
   "metadata": {
    "colab": {
     "base_uri": "https://localhost:8080/",
     "height": 119
    },
    "id": "s85WKKZz7ABg",
    "outputId": "0d1c2ec2-c9ff-480f-eadc-d84b62b71267"
   },
   "outputs": [
    {
     "data": {
      "text/latex": [
       "$\\displaystyle \\left[\\begin{matrix}-9.91485540448198 \\cdot 10^{-63} + 2.63278952598479 \\cdot 10^{-63} i & -0.0391370006297473 + 0.0357851043574464 i & 0.583976078189984 + 0.0175921074443829 i & -2.3745051327199 \\cdot 10^{-64} + 5.91674102953561 \\cdot 10^{-64} i\\\\-0.26492097566182 + 0.123329035950155 i & 7.31823837731592 \\cdot 10^{-63} - 1.32566032889804 \\cdot 10^{-63} i & -6.5322466388342 \\cdot 10^{-63} + 5.89824888699643 \\cdot 10^{-63} i & 0.255319981362521 + 0.0930239946582455 i\\\\-0.271401588108322 - 0.0135253257785596 i & 6.11413812369491 \\cdot 10^{-63} - 5.84822171427604 \\cdot 10^{-63} i & -6.87712617092077 \\cdot 10^{-63} + 1.15586188519631 \\cdot 10^{-63} i & 0.289519096197715 - 0.0396467828564162 i\\\\-1.56447285689926 \\cdot 10^{-64} - 6.34283214991158 \\cdot 10^{-64} i & -0.563154605765845 + 0.155545595074899 i & 0.0268320419957022 - 0.0457418849033032 i & 1.04924665468689 \\cdot 10^{-62} - 2.73321492888691 \\cdot 10^{-63} i\\end{matrix}\\right]$"
      ],
      "text/plain": [
       "Matrix([\n",
       "[-9.91485540448198e-63 + 2.63278952598479e-63*I,    -0.0391370006297473 + 0.0357851043574464*I,       0.583976078189984 + 0.0175921074443829*I, -2.3745051327199e-64 + 5.91674102953561e-64*I],\n",
       "[       -0.26492097566182 + 0.123329035950155*I, 7.31823837731592e-63 - 1.32566032889804e-63*I,  -6.5322466388342e-63 + 5.89824888699643e-63*I,      0.255319981362521 + 0.0930239946582455*I],\n",
       "[     -0.271401588108322 - 0.0135253257785596*I, 6.11413812369491e-63 - 5.84822171427604e-63*I, -6.87712617092077e-63 + 1.15586188519631e-63*I,      0.289519096197715 - 0.0396467828564162*I],\n",
       "[-1.56447285689926e-64 - 6.34283214991158e-64*I,      -0.563154605765845 + 0.155545595074899*I,      0.0268320419957022 - 0.0457418849033032*I, 1.04924665468689e-62 - 2.73321492888691e-63*I]])"
      ]
     },
     "execution_count": 50,
     "metadata": {},
     "output_type": "execute_result"
    }
   ],
   "source": [
    "sp.Matrix(automatrix_r[3], dtype = complex)"
   ]
  },
  {
   "cell_type": "code",
   "execution_count": null,
   "metadata": {
    "colab": {
     "base_uri": "https://localhost:8080/"
    },
    "id": "BCrv74Ct7_4m",
    "outputId": "6d7c31a7-4fdf-4e4f-ce8b-46b3bc59b198"
   },
   "outputs": [
    {
     "data": {
      "text/plain": [
       "((1.0000000000000002+0j), 1.0)"
      ]
     },
     "execution_count": 147,
     "metadata": {},
     "output_type": "execute_result"
    }
   ],
   "source": [
    "np.trace(np.dot(np.conjugate(automatrix_r[3].T), automatrix_r[3])), np.linalg.norm(automatrix_r[3])"
   ]
  },
  {
   "cell_type": "code",
   "execution_count": null,
   "metadata": {
    "colab": {
     "base_uri": "https://localhost:8080/"
    },
    "id": "9RVovQjLPaY9",
    "outputId": "57ae3c7c-6ac8-45d7-8df3-832d77ade0ec"
   },
   "outputs": [
    {
     "data": {
      "text/plain": [
       "4"
      ]
     },
     "execution_count": 73,
     "metadata": {},
     "output_type": "execute_result"
    }
   ],
   "source": [
    "len(autovals)"
   ]
  },
  {
   "cell_type": "code",
   "execution_count": null,
   "metadata": {
    "colab": {
     "base_uri": "https://localhost:8080/"
    },
    "id": "cHFlomQ-Rc3X",
    "outputId": "5815ac79-ea6c-4107-fd35-345e425d7e5d"
   },
   "outputs": [
    {
     "data": {
      "text/plain": [
       "array([-1.05556703e+01+3.10384481e-63j, -2.79744547e+00+3.76296173e-64j,\n",
       "       -2.22021665e+00+3.36599107e-64j, -2.22021665e+00-7.76199236e-64j,\n",
       "       -2.22021665e+00-1.22647053e-64j, -4.50406495e-01+4.36466774e-64j,\n",
       "       -4.50406495e-01+6.81015345e-64j, -4.50406495e-01-3.52034815e-64j,\n",
       "       -1.05601476e+01+1.20672710e-63j, -1.39648404e+00-1.04143599e+00j,\n",
       "       -2.67062315e+00-1.02318604e-63j, -2.67062315e+00-8.19085004e-64j,\n",
       "       -2.67062315e+00-2.71779009e-64j, -1.39648404e+00+1.04143599e+00j,\n",
       "       -6.19320341e-64+1.92570159e-64j, -1.07997383e-63-2.77248814e-65j])"
      ]
     },
     "execution_count": 29,
     "metadata": {},
     "output_type": "execute_result"
    }
   ],
   "source": [
    "autovals[:]"
   ]
  },
  {
   "cell_type": "code",
   "execution_count": null,
   "metadata": {
    "id": "RFJlyS1YRc4O"
   },
   "outputs": [],
   "source": [
    "r = np.reshape(autovects_r[15] + autovects_r[14], d0.shape)\n",
    "r = r/np.trace(r)"
   ]
  },
  {
   "cell_type": "code",
   "execution_count": 15,
   "metadata": {
    "colab": {
     "base_uri": "https://localhost:8080/"
    },
    "id": "SUBUcs-cRc4T",
    "outputId": "4171bf19-aa6e-4391-b02e-5caa01a83dc3"
   },
   "outputs": [
    {
     "data": {
      "text/plain": [
       "((1+0j), (0.5+0j))"
      ]
     },
     "execution_count": 15,
     "metadata": {},
     "output_type": "execute_result"
    }
   ],
   "source": [
    "r = estacionario_bueno(autovals, autovects_r, d0)\n",
    "np.trace(r[0]), np.trace(np.dot(r[0], r[0]))"
   ]
  },
  {
   "cell_type": "code",
   "execution_count": 16,
   "metadata": {
    "colab": {
     "base_uri": "https://localhost:8080/"
    },
    "id": "6s7iWzE7MP-A",
    "outputId": "37eb27bc-409d-4629-ecda-d94e31c2fd1d"
   },
   "outputs": [
    {
     "data": {
      "text/plain": [
       "1"
      ]
     },
     "execution_count": 16,
     "metadata": {},
     "output_type": "execute_result"
    }
   ],
   "source": [
    "len(r)"
   ]
  },
  {
   "cell_type": "code",
   "execution_count": null,
   "metadata": {
    "colab": {
     "base_uri": "https://localhost:8080/",
     "height": 119
    },
    "id": "Jxnh2KJxWv34",
    "outputId": "4b547549-419a-4add-c953-5f5062911282"
   },
   "outputs": [
    {
     "data": {
      "text/latex": [
       "$\\displaystyle \\left[\\begin{matrix}0.0884848386667666 - 0.0243688383042627 i & 3.12982304238199 \\cdot 10^{-63} - 1.54132260255965 \\cdot 10^{-63} i & -5.53023586899086 \\cdot 10^{-63} + 4.60889418459106 \\cdot 10^{-63} i & 6.08859967233403 \\cdot 10^{-64} - 2.33125396357493 \\cdot 10^{-64} i\\\\-4.14870244083235 \\cdot 10^{-64} + 3.62835025220278 \\cdot 10^{-64} i & 0.411515161333233 + 0.0243688383042627 i & -0.323030322666467 - 0.0487376766085255 i & -2.28162343377686 \\cdot 10^{-63} + 2.68340327817272 \\cdot 10^{-63} i\\\\-2.71327258206951 \\cdot 10^{-63} + 2.13693794325932 \\cdot 10^{-63} i & -0.323030322666467 - 0.0487376766085255 i & 0.411515161333233 + 0.0243688383042627 i & -2.38745476673143 \\cdot 10^{-64} + 4.46221630779721 \\cdot 10^{-64} i\\\\6.484814593645 \\cdot 10^{-64} + 6.48879723399745 \\cdot 10^{-65} i & -6.32451297969071 \\cdot 10^{-63} + 3.43328232419268 \\cdot 10^{-63} i & 3.2596211953884 \\cdot 10^{-63} - 8.59371967808575 \\cdot 10^{-64} i & 0.0884848386667666 - 0.0243688383042627 i\\end{matrix}\\right]$"
      ],
      "text/plain": [
       "Matrix([\n",
       "[     0.0884848386667666 - 0.0243688383042627*I,  3.12982304238199e-63 - 1.54132260255965e-63*I, -5.53023586899086e-63 + 4.60889418459106e-63*I,  6.08859967233403e-64 - 2.33125396357493e-64*I],\n",
       "[-4.14870244083235e-64 + 3.62835025220278e-64*I,       0.411515161333233 + 0.0243688383042627*I,      -0.323030322666467 - 0.0487376766085255*I, -2.28162343377686e-63 + 2.68340327817272e-63*I],\n",
       "[-2.71327258206951e-63 + 2.13693794325932e-63*I,      -0.323030322666467 - 0.0487376766085255*I,       0.411515161333233 + 0.0243688383042627*I, -2.38745476673143e-64 + 4.46221630779721e-64*I],\n",
       "[   6.484814593645e-64 + 6.48879723399745e-65*I, -6.32451297969071e-63 + 3.43328232419268e-63*I,   3.2596211953884e-63 - 8.59371967808575e-64*I,      0.0884848386667666 - 0.0243688383042627*I]])"
      ]
     },
     "execution_count": 33,
     "metadata": {},
     "output_type": "execute_result"
    }
   ],
   "source": [
    "sp.Matrix(r[0], dtype = complex)"
   ]
  },
  {
   "cell_type": "code",
   "execution_count": null,
   "metadata": {
    "colab": {
     "base_uri": "https://localhost:8080/"
    },
    "id": "vS5z7vnWRc4X",
    "outputId": "eb8f16b6-8af1-4659-b9dc-e51d162b1672"
   },
   "outputs": [
    {
     "data": {
      "text/plain": [
       "((0.9999999999999999-6.938893903907228e-17j),\n",
       " (0.22617122031615775+0.003945788640037664j))"
      ]
     },
     "execution_count": 55,
     "metadata": {},
     "output_type": "execute_result"
    }
   ],
   "source": [
    "k = 1\n",
    "np.trace(r[k]), np.trace(np.dot(r[k], r[k]))"
   ]
  },
  {
   "cell_type": "code",
   "execution_count": null,
   "metadata": {
    "id": "OkqTJrOVY40K"
   },
   "outputs": [],
   "source": [
    "matrices = [np.reshape(elemento, (d0.shape[0], d0.shape[1])) for elemento in autovects_r]"
   ]
  },
  {
   "cell_type": "code",
   "execution_count": null,
   "metadata": {
    "id": "GBOYowB-iRhy"
   },
   "outputs": [],
   "source": [
    "trazas = [np.trace(elemento) for elemento in matrices]"
   ]
  },
  {
   "cell_type": "code",
   "execution_count": null,
   "metadata": {
    "id": "C5QQwF5Dmjum"
   },
   "outputs": [],
   "source": [
    "trazas"
   ]
  },
  {
   "cell_type": "code",
   "execution_count": null,
   "metadata": {
    "colab": {
     "base_uri": "https://localhost:8080/"
    },
    "id": "a28SNdVBaLsJ",
    "outputId": "5d3e14f9-256a-4024-e972-44789cf01d48"
   },
   "outputs": [
    {
     "data": {
      "text/plain": [
       "2"
      ]
     },
     "execution_count": 17,
     "metadata": {},
     "output_type": "execute_result"
    }
   ],
   "source": [
    "len(r)"
   ]
  },
  {
   "cell_type": "code",
   "execution_count": 16,
   "metadata": {
    "colab": {
     "base_uri": "https://localhost:8080/",
     "height": 507
    },
    "id": "sjTsRPcaRc4a",
    "outputId": "56505077-068f-4bdd-aa7d-d08168a7e90b"
   },
   "outputs": [
    {
     "name": "stderr",
     "output_type": "stream",
     "text": [
      "/usr/lib/python3/dist-packages/matplotlib/cbook/__init__.py:1298: ComplexWarning: Casting complex values to real discards the imaginary part\n",
      "  return np.asarray(x, float)\n"
     ]
    },
    {
     "data": {
      "image/png": "[encoded data removed]",
      "text/plain": [
       "<Figure size 640x480 with 1 Axes>"
      ]
     },
     "metadata": {},
     "output_type": "display_data"
    }
   ],
   "source": [
    "#Sacamos la distancia de Hilbert Schmidt para todo tiempo t\n",
    "#ob = [[np.sqrt(np.trace((v[i] - r))) for i in range(len(v))] for v in dens]\n",
    "m = 0\n",
    "ob = [[np.sqrt(np.trace(np.dot(np.conjugate((v[i] - r[m]).T), (v[i] - r[m])))) for i in range(len(v))] for v in dens]\n",
    "plt.plot(tiempo, ob[0], 'b-', label = 'Random')\n",
    "plt.plot(tiempo, ob[1], 'r-', label = 'Mpemba_ang')\n",
    "plt.plot(tiempo, ob[2], 'g-', label = 'Mpemba_cero')\n",
    "plt.plot(tiempo, ob[3], 'y-', label = 'Mpemba_nocero')\n",
    "plt.xlim(0, 20)\n",
    "#plt.ylim(0.0, 0.5)\n",
    "#plt.ylim(0.0, 1.0040)\n",
    "#plt.xlim(0.0, 15.0)\n",
    "plt.legend(loc = 'upper right')\n",
    "plt.title('Distancia de Hilbert-Schmidt. Modelo de Dicke para N = ' + str(N) + ', k = ' + str(k) + ' y g = ' + str(g))\n",
    "plt.show()\n",
    "#ploteo_MC(ob, tiempo)"
   ]
  },
  {
   "cell_type": "code",
   "execution_count": 17,
   "metadata": {
    "colab": {
     "base_uri": "https://localhost:8080/",
     "height": 452
    },
    "id": "HluuMGTe4hR4",
    "outputId": "cef1fc7f-e831-4d4b-a913-0faddf161a5c"
   },
   "outputs": [
    {
     "data": {
      "image/png": "[encoded data removed]",
      "text/plain": [
       "<Figure size 640x480 with 1 Axes>"
      ]
     },
     "metadata": {},
     "output_type": "display_data"
    }
   ],
   "source": [
    "#Sacamos la distancia de Hilbert Schmidt para todo tiempo t\n",
    "#ob = [[np.sqrt(np.trace((v[i] - r))) for i in range(len(v))] for v in dens]\n",
    "ob = [[np.sqrt(np.trace(np.dot(np.conjugate((v[i]).T), (v[i])))) for i in range(len(v))] for v in dens]\n",
    "plt.plot(tiempo, ob[0], 'b-', label = 'Random')\n",
    "plt.plot(tiempo, ob[1], 'r-', label = 'Mpemba_ang')\n",
    "plt.plot(tiempo, ob[2], 'g-', label = 'Mpemba_cero')\n",
    "plt.plot(tiempo, ob[3], 'y-', label = 'Mpemba_nocero')\n",
    "plt.xlim(0, 20)\n",
    "#plt.ylim(0.0, 0.5)\n",
    "#plt.ylim(0.0, 1.0040)\n",
    "#plt.xlim(0.0, 15.0)\n",
    "plt.legend(loc = 'upper right')\n",
    "plt.title('Distancia de Hilbert-Schmidt. Modelo de Dicke para N = ' + str(N) + ', k = ' + str(k) + ' y g = ' + str(g))\n",
    "plt.show()\n",
    "#ploteo_MC(ob, tiempo)"
   ]
  },
  {
   "cell_type": "code",
   "execution_count": 18,
   "metadata": {
    "id": "WCQkihM1Rc4e"
   },
   "outputs": [],
   "source": [
    "def parametrizacion_esfera(r, theta_range, phi_range):\n",
    "    theta_values = np.linspace(*theta_range, num=100)\n",
    "    phi_values = np.linspace(*phi_range, num=100)\n",
    "\n",
    "    theta, phi = np.meshgrid(theta_values, phi_values)\n",
    "\n",
    "    x = r * np.sin(theta) * np.cos(phi)\n",
    "    y = r * np.sin(theta) * np.sin(phi)\n",
    "    z = r * np.cos(theta)\n",
    "\n",
    "    return x, y, z\n",
    "\n",
    "def esfera_partes(r, theta_values, phi_values):\n",
    "  theta, phi = np.meshgrid(theta_values, phi_values)\n",
    "  x = r * np.sin(theta) * np.cos(phi)\n",
    "  y = r * np.sin(theta) * np.sin(phi)\n",
    "  z = r * np.cos(theta)\n",
    "\n",
    "  return x, y, z"
   ]
  },
  {
   "cell_type": "code",
   "execution_count": 32,
   "metadata": {},
   "outputs": [
    {
     "data": {
      "text/plain": [
       "5"
      ]
     },
     "execution_count": 32,
     "metadata": {},
     "output_type": "execute_result"
    }
   ],
   "source": [
    "posibles_nuevo = []\n",
    "res = []\n",
    "for i in range(len(traza)):\n",
    "    if(traza[i]/epsilon < 1e-5):\n",
    "        res.append(traza[i])\n",
    "        posibles_nuevo.append(posibles[i])\n",
    "len(posibles_nuevo)"
   ]
  },
  {
   "cell_type": "code",
   "execution_count": 33,
   "metadata": {
    "id": "jT3TcY2IRc4h"
   },
   "outputs": [
    {
     "data": {
      "image/png": "[encoded data removed]",
      "text/plain": [
       "<Figure size 640x480 with 1 Axes>"
      ]
     },
     "metadata": {},
     "output_type": "display_data"
    }
   ],
   "source": [
    "from matplotlib import cm\n",
    "# Parámetros de la esfera\n",
    "radio = 1.0\n",
    "theta_rango1 = (0, np.pi)  # Rango de ángulo polar de 0 a pi\n",
    "phi_rango1 = (0, 2 * np.pi)  # Rango de ángulo azimutal de 0 a 2*pi\n",
    "\n",
    "theta_values = [tup[0] for tup in posibles_nuevo]\n",
    "phi_values = [tup[1] for tup in posibles_nuevo]\n",
    "#theta_rango2 = (0, 0.5*np.pi)\n",
    "#phi_rango2 = (0, 2*np.pi)\n",
    "\n",
    "# Obtener las coordenadas para la parametrización\n",
    "x1, y1, z1 = parametrizacion_esfera(radio, theta_rango1, phi_rango1)\n",
    "x2, y2, z2 = esfera_partes(radio, theta_values, phi_values)\n",
    "\n",
    "# Graficar la esfera\n",
    "fig = plt.figure()\n",
    "ax = fig.add_subplot(111, projection='3d')\n",
    "ax.plot_surface(x1, y1, z1, color='b', alpha= 0.3)\n",
    "#ax.plot_surface(x2, y2, z2, cmap = 'viridis', color = 'b', alpha = 0.9) # Alpha es la opacidad\n",
    "#ax.plot_surface(x2, y2, z2, color = 'r', alpha = 1.0) # Alpha es la opacidad\n",
    "ax.scatter(x2, y2, z2, c='r', marker='o', label='Puntos en la esfera')\n",
    "# Cambiar la orientación de la vista\n",
    "#ax.view_init(elev=0, azim=180)  # Elevación y azimut en grados\n",
    "# Configuración adicional para mejorar la visualización\n",
    "#ax.set_aspect('equal')\n",
    "ax.set_aspect('auto')\n",
    "ax.set_xlabel('X')\n",
    "ax.set_ylabel('Y')\n",
    "ax.set_zlabel('Z')\n",
    "ax.set_title('Posibles transformaciones. Modelo de Dicke. N = ' + str(N) + ', k = ' + str(k) + ' g = ' +  str(g))\n",
    "\n",
    "plt.show()"
   ]
  },
  {
   "cell_type": "markdown",
   "metadata": {
    "id": "j912AyOPSd8Y"
   },
   "source": [
    "Estudiamos el numero de posibles transformaciones según el valor de los parametros del modelo k, g"
   ]
  },
  {
   "cell_type": "code",
   "execution_count": null,
   "metadata": {
    "colab": {
     "base_uri": "https://localhost:8080/"
    },
    "id": "_HcYxmZxRc4l",
    "outputId": "bbc85280-239d-48ee-98ae-d61ca30de7d7"
   },
   "outputs": [
    {
     "metadata": {
      "tags": null
     },
     "name": "stderr",
     "output_type": "stream",
     "text": [
      "<ipython-input-3-6ab63186044f>:13: DeprecationWarning: Conversion of an array with ndim > 0 to a scalar is deprecated, and will error in future. Ensure you extract a single element from your array before performing this operation. (Deprecated NumPy 1.25.)\n",
      "  m[i, k] = v1[i]*v2_conj[k]\n"
     ]
    },
    {
     "name": "stdout",
     "output_type": "stream",
     "text": [
      "1.1\n",
      "2.1\n",
      "3.1\n",
      "4.1\n",
      "5.1\n"
     ]
    }
   ],
   "source": [
    "N = 2\n",
    "epsilon = 1e-2\n",
    "sigma = 1.0\n",
    "w = 1.0*sigma\n",
    "k = 0.1*sigma\n",
    "g = 0.1*sigma\n",
    "numero_posibles = []\n",
    "valores = []\n",
    "while(k < 5.0):\n",
    "  g = 0.1*sigma\n",
    "  while(g < 5.0):\n",
    "    # Construimos el Lindbladiano\n",
    "    params = [sigma, w, k, g]\n",
    "    H, J = dicke(N, params)\n",
    "    Heff = H_eff(H, [J])\n",
    "    d0, ini = densidad(N)\n",
    "    L, b = Limblad(sp.Matrix(H, dtype = complex), [sp.Matrix(J, dtype = complex)])\n",
    "\n",
    "    # Diagonalizamos el lindbladiano\n",
    "    todo = L.eigenvects()\n",
    "    autovals = np.asarray([tup[0] for tup in todo], dtype = complex)\n",
    "    autovects = [np.array(tup[2], dtype = complex) for tup in todo]\n",
    "\n",
    "    # Sacamos l2\n",
    "    lista_vals =  list(-np.real(autovals))\n",
    "    maximo = max(lista_vals)\n",
    "    indice_maximo = lista_vals.index(maximo)\n",
    "    lista_vals.remove(maximo)\n",
    "    segundo_maximo = max(lista_vals)\n",
    "    indice_segundo_maximo = lista_vals.index(segundo_maximo)\n",
    "    if indice_segundo_maximo >= indice_maximo:\n",
    "      indice_segundo_maximo += 1\n",
    "    L1 = np.reshape(autovects[indice_segundo_maximo], (d0.shape[0], d0.shape[1]))\n",
    "\n",
    "    # Sacamos los posibles angulos\n",
    "    posibles = []\n",
    "    traza = []\n",
    "    phi = 0.0\n",
    "    theta = 0.0\n",
    "    while(theta < np.pi):\n",
    "      phi = 0.0\n",
    "      while(phi < 2.0*np.pi):\n",
    "        U = Mpemba_sep(theta, phi, N)\n",
    "        new_rho = np.dot(U, np.dot(d0, np.conjugate(U.T)))\n",
    "        res = np.trace((np.dot(L1, new_rho)))\n",
    "        if(res < epsilon):\n",
    "          posibles.append([theta, phi])\n",
    "          traza.append(res)\n",
    "        phi += 0.01\n",
    "      theta += 0.01\n",
    "    numero_posibles.append([len(traza)])\n",
    "    valores.append([k, g])\n",
    "    #print(k)\n",
    "    g += 1.0*sigma\n",
    "  k += 1.0*sigma\n",
    "  print(k)"
   ]
  },
  {
   "cell_type": "code",
   "execution_count": null,
   "metadata": {
    "colab": {
     "base_uri": "https://localhost:8080/",
     "height": 449
    },
    "id": "jTJ0GpHrUVli",
    "outputId": "cd0a7f52-0e30-493a-f131-26d5f8fd7ca4"
   },
   "outputs": [
    {
     "data": {
      "image/png": "[encoded data removed]",
      "text/plain": [
       "<Figure size 640x480 with 2 Axes>"
      ]
     },
     "metadata": {},
     "output_type": "display_data"
    }
   ],
   "source": [
    "import matplotlib.pyplot as plt\n",
    "from mpl_toolkits.mplot3d import Axes3D\n",
    "import numpy as np\n",
    "\n",
    "# Genera datos de ejemplo\n",
    "# Supongamos que tienes una función z = f(x, y) = x^2 + y^2\n",
    "def funcion_3d(x, y):\n",
    "    return x**2 + y**2\n",
    "\n",
    "# Genera valores para x, y\n",
    "x = [elemento[0] for elemento in valores]\n",
    "y = [elemento[1] for elemento in valores]\n",
    "\n",
    "# Crea una malla de puntos (x, y)\n",
    "#x, y = np.meshgrid(x, y)\n",
    "\n",
    "# Calcula los valores de la función z para cada par (x, y)\n",
    "z = numero_posibles\n",
    "\n",
    "# Crea la figura y el objeto de los ejes 3D\n",
    "fig = plt.figure()\n",
    "ax = fig.add_subplot(111, projection='3d')\n",
    "\n",
    "# Grafica el mapa de calor 3D\n",
    "sc = ax.scatter(x, y, z, c=z, cmap='viridis', marker='o')\n",
    "ax.view_init(elev=60.0, azim=45)\n",
    "fig.colorbar(sc, label='Valor de Z')\n",
    "\n",
    "# Añade etiquetas a los ejes\n",
    "ax.set_xlabel('g (Eje x)')\n",
    "ax.set_ylabel('k (Eje y)')\n",
    "ax.set_zlabel('Numero(Eje z)')\n",
    "ax.set_title('Numero de posibles transformaciones. Modelo de Dicke')\n",
    "\n",
    "# Muestra la gráfica\n",
    "plt.show()"
   ]
  },
  {
   "cell_type": "code",
   "execution_count": null,
   "metadata": {
    "id": "fmkfTQLWUwiQ"
   },
   "outputs": [],
   "source": []
  },
  {
   "cell_type": "markdown",
   "metadata": {
    "id": "PrMmhV-qQXky"
   },
   "source": [
    "# Modelo de Ising"
   ]
  },
  {
   "cell_type": "code",
   "execution_count": null,
   "metadata": {
    "colab": {
     "base_uri": "https://localhost:8080/",
     "height": 142
    },
    "id": "m89fDUPhQVsR",
    "outputId": "94a1dc15-7792-42f0-cf1c-1e45c6245c91"
   },
   "outputs": [
    {
     "data": {
      "application/vnd.google.colaboratory.intrinsic+json": {
       "type": "string"
      },
      "text/plain": [
       "'def ResolverIsing(d0, H, salto, N, nveces):\\n  # Establecemos un limite de tiempo\\n  t = 0.0\\n  limite = 100.0\\n  tiempo = [t]\\n  dt = 0.01\\n\\n  vector_fotones = []\\n  nfotones = 0 # numero de fotones\\n  res = [d0]\\n  # Hamiltoniano efectivo\\n  Heff = H_eff(H, salto)\\n\\n  # Operadores de evolución y de salto del sistema\\n  V = [np.sqrt(dt)*J for J in salto]\\n  V_0 = kronecker(id, 0, N) - 1.j*dt*Heff\\n\\n  intentos = [] #Aqui guardamos todos los resultados para cada realizacion\\n\\n  # Calculamos las probabilides iniciales\\n  p0 = Calcularp(d0, V_0)\\n  p = [Calcularp(d0, J) for J in salto]\\n  d = d0\\n  # Empezamos con el bucle\\n  while(t < limite):\\n    prob = random.random()\\n    if(prob < p):\\n      nfotones += 1\\n      d = NuevoEstado(d, V[0], H)\\n    else:\\n      d = NuevoEstado(d, V_0, H)\\n    p0 = Calcularp(d, V_0)\\n    p = Calcularp(d, V[0])\\n    res.append(d)\\n    t += dt\\n    tiempo.append(t)\\n\\n  vector_fotones.append(nfotones)\\n  intentos.append(res)\\n  # Ahora, hacemos el bucle otras nveces-1 veces para luego promediar\\n  indice = 1\\n  while(indice < nveces):\\n    d = d0\\n    nfotones = 0\\n    res = [d0]\\n    t = 0.0\\n    # Calculamos las probabilidades iniciales\\n    p0 = Calcularp(d, V_0)\\n    p = Calcularp(d, V[0])\\n    while(t < limite):\\n      prob = random.random()\\n      if(prob < p):\\n        nfotones += 1\\n        d = NuevoEstado(d, V[0], H)\\n      else:\\n        d = NuevoEstado(d, V_0, H)\\n      p0 = Calcularp(d, V_0)\\n      p = Calcularp(d, V[0])\\n      res.append(d)\\n      t += dt\\n    intentos.append(res)\\n    indice += 1\\n    vector_fotones.append(nfotones)\\n\\n  # Por último calculamos el promedio de las trayectorias\\n  suma = [0 for i in range(len(intentos[0]))]\\n  for i in range(len(intentos[0])):\\n    for elemento in intentos:\\n      suma[i] += elemento[i]\\n  final = [elemento/nveces for elemento in suma]\\n  return final, tiempo, vector_fotones\\n# Funcion que me resuelve el sistema del modelo de Ising con el quantum montecarlo jump\\ndef ResolverIsing()'"
      ]
     },
     "execution_count": 89,
     "metadata": {},
     "output_type": "execute_result"
    }
   ],
   "source": [
    "\n",
    "# Funcion que me da el hamiltoniano y los operadores de salto del modelo de Ising\n",
    "def Ising(N, params):\n",
    "  id = np.matrix([[1.0, 0.0], [0.0, 1.0]], dtype = complex)\n",
    "  sx = np.matrix([[0.0, 1.0], [1.0, 0.0]], dtype = complex)\n",
    "  sy = np.matrix([[0.0, -1.j], [1.j, 0.0]], dtype = complex)\n",
    "  sz = np.matrix([[1.0, 0.0], [0.0, -1.0]], dtype = complex)\n",
    "\n",
    "  sigma = params[0]\n",
    "  v = params[1]\n",
    "  alpha = params[2]\n",
    "  k = params[3]\n",
    "\n",
    "  suma1 = np.zeros((2**N, 2**N), dtype = complex)\n",
    "  suma0 = np.zeros_like(suma1)\n",
    "  saltos = []\n",
    "  for i in range(N):\n",
    "    saltos.append(0.5*np.sqrt(k)*(kronecker(sx, i, N) - 1.j*kronecker(sy, i, N)))\n",
    "    suma1 += kronecker(sx, i, N)\n",
    "    for j in range(N):\n",
    "      if(i<j):\n",
    "        suma0 += (np.dot(kronecker(sz, i, N), kronecker(sz, j, N)))/(i-j)**alpha\n",
    "\n",
    "  H = sigma*suma1 + v*suma0\n",
    "  return H, saltos\n",
    "# Funcion que resuelve el sistema mediante el metodo de montecarlo\n",
    "\"\"\"def ResolverIsing(d0, H, salto, N, nveces):\n",
    "  # Establecemos un limite de tiempo\n",
    "  t = 0.0\n",
    "  limite = 100.0\n",
    "  tiempo = [t]\n",
    "  dt = 0.01\n",
    "\n",
    "  vector_fotones = []\n",
    "  nfotones = 0 # numero de fotones\n",
    "  res = [d0]\n",
    "  # Hamiltoniano efectivo\n",
    "  Heff = H_eff(H, salto)\n",
    "\n",
    "  # Operadores de evolución y de salto del sistema\n",
    "  V = [np.sqrt(dt)*J for J in salto]\n",
    "  V_0 = kronecker(id, 0, N) - 1.j*dt*Heff\n",
    "\n",
    "  intentos = [] #Aqui guardamos todos los resultados para cada realizacion\n",
    "\n",
    "  # Calculamos las probabilides iniciales\n",
    "  p0 = Calcularp(d0, V_0)\n",
    "  p = [Calcularp(d0, J) for J in salto]\n",
    "  d = d0\n",
    "  # Empezamos con el bucle\n",
    "  while(t < limite):\n",
    "    prob = random.random()\n",
    "    if(prob < p):\n",
    "      nfotones += 1\n",
    "      d = NuevoEstado(d, V[0], H)\n",
    "    else:\n",
    "      d = NuevoEstado(d, V_0, H)\n",
    "    p0 = Calcularp(d, V_0)\n",
    "    p = Calcularp(d, V[0])\n",
    "    res.append(d)\n",
    "    t += dt\n",
    "    tiempo.append(t)\n",
    "\n",
    "  vector_fotones.append(nfotones)\n",
    "  intentos.append(res)\n",
    "  # Ahora, hacemos el bucle otras nveces-1 veces para luego promediar\n",
    "  indice = 1\n",
    "  while(indice < nveces):\n",
    "    d = d0\n",
    "    nfotones = 0\n",
    "    res = [d0]\n",
    "    t = 0.0\n",
    "    # Calculamos las probabilidades iniciales\n",
    "    p0 = Calcularp(d, V_0)\n",
    "    p = Calcularp(d, V[0])\n",
    "    while(t < limite):\n",
    "      prob = random.random()\n",
    "      if(prob < p):\n",
    "        nfotones += 1\n",
    "        d = NuevoEstado(d, V[0], H)\n",
    "      else:\n",
    "        d = NuevoEstado(d, V_0, H)\n",
    "      p0 = Calcularp(d, V_0)\n",
    "      p = Calcularp(d, V[0])\n",
    "      res.append(d)\n",
    "      t += dt\n",
    "    intentos.append(res)\n",
    "    indice += 1\n",
    "    vector_fotones.append(nfotones)\n",
    "\n",
    "  # Por último calculamos el promedio de las trayectorias\n",
    "  suma = [0 for i in range(len(intentos[0]))]\n",
    "  for i in range(len(intentos[0])):\n",
    "    for elemento in intentos:\n",
    "      suma[i] += elemento[i]\n",
    "  final = [elemento/nveces for elemento in suma]\n",
    "  return final, tiempo, vector_fotones\n",
    "# Funcion que me resuelve el sistema del modelo de Ising con el quantum montecarlo jump\n",
    "def ResolverIsing()\"\"\""
   ]
  },
  {
   "cell_type": "code",
   "execution_count": null,
   "metadata": {
    "colab": {
     "base_uri": "https://localhost:8080/"
    },
    "id": "D7zIaI6wrJzm",
    "outputId": "7c16f47a-81c1-4fdd-8bce-daed8414322f"
   },
   "outputs": [
    {
     "data": {
      "text/plain": [
       "array([[-2.5+0.j,  1. +0.j,  1. +0.j,  0. +0.j,  1. +0.j,  0. +0.j,\n",
       "         0. +0.j,  0. +0.j],\n",
       "       [ 1. +0.j,  0.5+0.j,  0. +0.j,  1. +0.j,  0. +0.j,  1. +0.j,\n",
       "         0. +0.j,  0. +0.j],\n",
       "       [ 1. +0.j,  0. +0.j,  1.5+0.j,  1. +0.j,  0. +0.j,  0. +0.j,\n",
       "         1. +0.j,  0. +0.j],\n",
       "       [ 0. +0.j,  1. +0.j,  1. +0.j,  0.5+0.j,  0. +0.j,  0. +0.j,\n",
       "         0. +0.j,  1. +0.j],\n",
       "       [ 1. +0.j,  0. +0.j,  0. +0.j,  0. +0.j,  0.5+0.j,  1. +0.j,\n",
       "         1. +0.j,  0. +0.j],\n",
       "       [ 0. +0.j,  1. +0.j,  0. +0.j,  0. +0.j,  1. +0.j,  1.5+0.j,\n",
       "         0. +0.j,  1. +0.j],\n",
       "       [ 0. +0.j,  0. +0.j,  1. +0.j,  0. +0.j,  1. +0.j,  0. +0.j,\n",
       "         0.5+0.j,  1. +0.j],\n",
       "       [ 0. +0.j,  0. +0.j,  0. +0.j,  1. +0.j,  0. +0.j,  1. +0.j,\n",
       "         1. +0.j, -2.5+0.j]])"
      ]
     },
     "execution_count": 92,
     "metadata": {},
     "output_type": "execute_result"
    }
   ],
   "source": [
    "N = 3\n",
    "sigma = 1.0\n",
    "v = 1.0*sigma\n",
    "alpha = 1\n",
    "k = 1.0*sigma\n",
    "params = [sigma, v, alpha, k]\n",
    "H, J = Ising(N, params)\n",
    "\n",
    "H"
   ]
  },
  {
   "cell_type": "code",
   "execution_count": null,
   "metadata": {
    "colab": {
     "base_uri": "https://localhost:8080/"
    },
    "id": "pweiqV7wralJ",
    "outputId": "1539b80d-09e0-4dfd-aa3c-3ccf80b93e61"
   },
   "outputs": [
    {
     "data": {
      "text/plain": [
       "matrix([[0.+0.j, 1.+0.j, 1.+0.j, 0.+0.j],\n",
       "        [1.+0.j, 0.+0.j, 0.+0.j, 1.+0.j],\n",
       "        [1.+0.j, 0.+0.j, 0.+0.j, 1.+0.j],\n",
       "        [0.+0.j, 1.+0.j, 1.+0.j, 0.+0.j]])"
      ]
     },
     "execution_count": 44,
     "metadata": {},
     "output_type": "execute_result"
    }
   ],
   "source": [
    "id = np.matrix([[1.0, 0.0], [0.0, 1.0]], dtype = complex)\n",
    "sx = np.matrix([[0.0, 1.0], [1.0, 0.0]], dtype = complex)\n",
    "sy = np.matrix([[0.0, -1.j], [1.j, 0.0]], dtype = complex)\n",
    "sz = np.matrix([[1.0, 0.0], [0.0, -1.0]], dtype = complex)\n",
    "kronecker(sx, 1, N) + kronecker(sx, 0, N)"
   ]
  },
  {
   "cell_type": "code",
   "execution_count": null,
   "metadata": {
    "colab": {
     "base_uri": "https://localhost:8080/"
    },
    "id": "0kZ1iOXOr-ps",
    "outputId": "db2fa21e-3a47-4ff1-d354-4f9a094b8317"
   },
   "outputs": [
    {
     "data": {
      "text/plain": [
       "matrix([[ 1.+0.j,  0.+0.j,  0.+0.j,  0.+0.j],\n",
       "        [ 0.+0.j, -1.+0.j,  0.+0.j,  0.+0.j],\n",
       "        [ 0.+0.j,  0.+0.j, -1.+0.j,  0.+0.j],\n",
       "        [ 0.+0.j,  0.+0.j,  0.+0.j,  1.+0.j]])"
      ]
     },
     "execution_count": 14,
     "metadata": {},
     "output_type": "execute_result"
    }
   ],
   "source": [
    "np.dot(kronecker(sz, 0, 2), kronecker(sz, 1, 2))"
   ]
  },
  {
   "cell_type": "code",
   "execution_count": null,
   "metadata": {
    "colab": {
     "base_uri": "https://localhost:8080/"
    },
    "id": "6Xk1ip13sbJ_",
    "outputId": "2baa0171-42e4-45c7-d829-888333cebfad"
   },
   "outputs": [
    {
     "data": {
      "text/plain": [
       "[matrix([[0.+0.j, 0.+0.j, 0.+0.j, 0.+0.j],\n",
       "         [0.+0.j, 0.+0.j, 0.+0.j, 0.+0.j],\n",
       "         [1.+0.j, 0.+0.j, 0.+0.j, 0.+0.j],\n",
       "         [0.+0.j, 1.+0.j, 0.+0.j, 0.+0.j]]),\n",
       " matrix([[0.+0.j, 0.+0.j, 0.+0.j, 0.+0.j],\n",
       "         [1.+0.j, 0.+0.j, 0.+0.j, 0.+0.j],\n",
       "         [0.+0.j, 0.+0.j, 0.+0.j, 0.+0.j],\n",
       "         [0.+0.j, 0.+0.j, 1.+0.j, 0.+0.j]])]"
      ]
     },
     "execution_count": 16,
     "metadata": {},
     "output_type": "execute_result"
    }
   ],
   "source": [
    "J"
   ]
  },
  {
   "cell_type": "code",
   "execution_count": null,
   "metadata": {
    "colab": {
     "base_uri": "https://localhost:8080/"
    },
    "id": "0YDa446zssfS",
    "outputId": "874d50c1-cdc1-4c78-edb5-f4ddbb1649a3"
   },
   "outputs": [
    {
     "name": "stdout",
     "output_type": "stream",
     "text": [
      "El inicial es: [[[0.18087618+0.31068247j]\n",
      "  [0.45696365+0.01757135j]\n",
      "  [0.20461511+0.25069481j]\n",
      "  [0.09874494+0.12185446j]\n",
      "  [0.18823395+0.2669278j ]\n",
      "  [0.20895237+0.4306044j ]\n",
      "  [0.06833257+0.36031677j]\n",
      "  [0.18288952+0.16914956j]]] y su shape es: (1, 8, 1)\n"
     ]
    },
    {
     "name": "stderr",
     "output_type": "stream",
     "text": [
      "<ipython-input-62-6ab63186044f>:13: DeprecationWarning: Conversion of an array with ndim > 0 to a scalar is deprecated, and will error in future. Ensure you extract a single element from your array before performing this operation. (Deprecated NumPy 1.25.)\n",
      "  m[i, k] = v1[i]*v2_conj[k]\n"
     ]
    },
    {
     "name": "stdout",
     "output_type": "stream",
     "text": [
      "(8, 8)\n"
     ]
    }
   ],
   "source": [
    "dt = 0.01 #salto de tiempo\n",
    "\n",
    "# Medimos el tiempo\n",
    "t1 = time.time()\n",
    "\n",
    "# Matrices de Pauli\n",
    "id = np.matrix([[1.0, 0.0], [0.0, 1.0]], dtype = complex)\n",
    "sx = np.matrix([[0.0, 1.0], [1.0, 0.0]], dtype = complex)\n",
    "sy = np.matrix([[0.0, -1.j], [1.j, 0.0]], dtype = complex)\n",
    "sz = np.matrix([[1.0, 0.0], [0.0, -1.0]], dtype = complex)\n",
    "num = np.matrix([[1.0, 0.0], [0.0, 0.0]], dtype = complex)\n",
    "\n",
    "# Hamiltoniano, operador salto y hamiltoniano efecivo\n",
    "N = 3\n",
    "sigma = 1.0\n",
    "v = 1.0*sigma\n",
    "alpha = 1\n",
    "k = 1.0*sigma\n",
    "params = [sigma, v, alpha, k]\n",
    "H, J = Ising(N, params)\n",
    "\n",
    "# Matriz densidad\n",
    "d0, ini = densidad(N)\n",
    "\n",
    "L, b = Limblad(sp.Matrix(H, dtype = complex), [sp.Matrix(salto, dtype = complex) for salto in J])\n",
    "todo = L.eigenvects()\n",
    "todoh = (L.H).eigenvects()\n",
    "#vals = list(sp.simplify(L.eigenvals()).keys())\n",
    "autovals = np.asarray([tup[0] for tup in todo], dtype = complex)\n",
    "autovects_r = [np.asarray(tup[2], dtype = complex) for tup in todo]\n",
    "autovects_r = [np.squeeze(np.asarray(elemento, dtype = complex)) for elemento in autovects_r]\n",
    "autovects_r = [np.reshape(elemento, (1, len(elemento))) for elemento in autovects_r]\n",
    "\n",
    "autovects_l = [np.asarray(tup[2], dtype = complex) for tup in todoh]\n",
    "autovects_l = [np.squeeze(np.asarray(elemento, dtype = complex)) for elemento in autovects_l]\n",
    "autovects_l = [np.reshape(elemento, (1, len(elemento))) for elemento in autovects_l]\n",
    "\n",
    "# Sacamos l2\n",
    "# Extraemos la matriz por la izquierda cuyo autovalor es el mayor (y no es cero)\n",
    "lista_vals =  list(-np.real(autovals))\n",
    "maximo = max(lista_vals)\n",
    "indice_maximo = lista_vals.index(maximo)\n",
    "lista_vals.remove(maximo)\n",
    "segundo_maximo = max(lista_vals)\n",
    "indice_segundo_maximo = lista_vals.index(segundo_maximo)\n",
    "if indice_segundo_maximo >= indice_maximo:\n",
    "  indice_segundo_maximo += 1\n",
    "\n",
    "L1 = np.reshape(autovects_r[indice_segundo_maximo], (d0.shape[0], d0.shape[1]))\n",
    "\n",
    "# Sacamos las transforaciones de Mpemba\n",
    "ini = np.reshape(ini, (max(ini.shape)))\n",
    "ini = np.squeeze(np.asarray(ini, dtype = complex))\n",
    "\n",
    "print(d0.shape)\n",
    "\n",
    "automatrix_r = [np.reshape(matriz, (d0.shape[0], d0.shape[1])) for matriz in autovects_r]\n",
    "automatrix_l = [np.reshape(matriz, (d0.shape[0], d0.shape[1])) for matriz in autovects_l]\n",
    "\n",
    "tfinal = 100\n",
    "tiempo = np.linspace(0.0, tfinal, int(tfinal/dt))\n"
   ]
  },
  {
   "cell_type": "code",
   "execution_count": null,
   "metadata": {
    "colab": {
     "base_uri": "https://localhost:8080/"
    },
    "id": "tMLLMrDBeQ2c",
    "outputId": "2f2622a1-28b7-44a7-b851-93471ed097ec"
   },
   "outputs": [
    {
     "name": "stdout",
     "output_type": "stream",
     "text": [
      "5\n",
      "12\n",
      "13\n",
      "14\n"
     ]
    },
    {
     "data": {
      "text/plain": [
       "((-1.1288479248624803e-63+6.793561042355815e-64j),\n",
       " (1.8662863553281566e-65+6.777818675530479e-65j))"
      ]
     },
     "execution_count": 87,
     "metadata": {},
     "output_type": "execute_result"
    }
   ],
   "source": [
    "autovals_l = np.asarray([tup[0] for tup in todoh], dtype = complex)\n",
    "autovals == autovals_l\n",
    "for i in range(len(autovals)):\n",
    "  if(autovals[i]!=autovals_l[i]):\n",
    "    print(i)\n",
    "autovals[14], autovals_l[14]"
   ]
  },
  {
   "cell_type": "code",
   "execution_count": null,
   "metadata": {
    "id": "RBKE23Oet7dB"
   },
   "outputs": [],
   "source": [
    "epsilon = np.abs(np.trace(np.dot(L1, d0)))\n",
    "posibles = []\n",
    "phi = 0.0\n",
    "theta = 0.0\n",
    "traza = []\n",
    "while(theta < np.pi):\n",
    "  phi = 0.0\n",
    "  while(phi < 2.0*np.pi):\n",
    "    U = Mpemba_sep(theta, phi, N)\n",
    "    new_rho = np.dot(U, np.dot(d0, np.conjugate(U.T)))\n",
    "    res = np.trace(np.dot(L1, new_rho))\n",
    "    if(np.abs(res) < epsilon):\n",
    "      posibles.append([theta, phi])\n",
    "      traza.append(np.abs(res))\n",
    "    phi += 0.01\n",
    "  theta += 0.01"
   ]
  },
  {
   "cell_type": "code",
   "execution_count": null,
   "metadata": {
    "colab": {
     "base_uri": "https://localhost:8080/"
    },
    "id": "H5ozlpQeuYyo",
    "outputId": "06b9efcb-24ce-4783-fc06-0d75876eb470"
   },
   "outputs": [
    {
     "data": {
      "text/plain": [
       "189456"
      ]
     },
     "execution_count": 95,
     "metadata": {},
     "output_type": "execute_result"
    }
   ],
   "source": [
    "len(posibles)"
   ]
  },
  {
   "cell_type": "code",
   "execution_count": null,
   "metadata": {
    "colab": {
     "base_uri": "https://localhost:8080/"
    },
    "id": "oSRh1tQqtj9n",
    "outputId": "8d5bc03e-f7a3-49c8-8dcb-60be60433333"
   },
   "outputs": [
    {
     "name": "stdout",
     "output_type": "stream",
     "text": [
      "7.68533942187688e-06\n",
      "Maximo: 2.407679331574387\n",
      "Autovalores de L1: \n",
      "[(0.012700004316982483+0.010357252865137669j), (-0.012955287983286275-0.003761238486243849j), (0.050893130938347485+0.008633706384430758j), (0.012358224467163587+0.012025174368897567j), (0.009209709470242775-0.016186580364343776j), (-0.01314814688651336-0.004110860559359195j), (-0.0005645725016361549-0.0013016702785393747j), (-0.05849306182130052-0.005655783929979801j)]\n",
      "Vamos a probar la via del no cero\n",
      "(indice contrario, indice inicial, len(autovects)) = 2, 0,  (8, 1)\n",
      "La s me sale: 0.27934991678422605 se ha cogido la s que sale de los autovalores: \n",
      "((-0.0005645725016361549-0.0013016702785393747j), (0.012358224467163587+0.012025174368897567j))\n"
     ]
    },
    {
     "name": "stderr",
     "output_type": "stream",
     "text": [
      "<ipython-input-62-6ab63186044f>:13: DeprecationWarning: Conversion of an array with ndim > 0 to a scalar is deprecated, and will error in future. Ensure you extract a single element from your array before performing this operation. (Deprecated NumPy 1.25.)\n",
      "  m[i, k] = v1[i]*v2_conj[k]\n"
     ]
    },
    {
     "name": "stdout",
     "output_type": "stream",
     "text": [
      "Autovalores de L1: \n",
      "[(0.012700004316982483-0.010357252865137669j), (-0.012955287983286275+0.003761238486243849j), (0.050893130938347485-0.008633706384430758j), (0.012358224467163587-0.012025174368897567j), (0.009209709470242775+0.016186580364343776j), (-0.0005645725016361549+0.0013016702785393747j), (-0.01314814688651336+0.004110860559359195j), (-0.05849306182130052+0.005655783929979801j)]\n",
      "No se ha podido hacer la via del cero\n"
     ]
    }
   ],
   "source": [
    "# Definimos los angulos\n",
    "theta_posible = posibles[0][0]\n",
    "phi_posible = posibles[0][1]\n",
    "\n",
    "indice = traza.index(min(traza))\n",
    "print(min(traza))\n",
    "theta_posible, phi_posible = posibles[indice]\n",
    "\n",
    "# Creamos la transformacion con estos angulos y lo aplicamos\n",
    "U = Mpemba_sep(theta_posible, phi_posible, N)\n",
    "d0_new = np.dot(np.dot(U, d0), np.conjugate(U.T))\n",
    "U2, U_cambio = Mpemba2_mejorada(L, autovects_r, np.array(autovals, dtype = complex), d0, N, ini) # Via no trivial (no cero)\n",
    "U1, U_cambio = Mpemba1_mejorada(L, autovects_r, np.array(autovals, dtype = complex), d0, N, ini) # Via trivial (cero)\n",
    "\n",
    "d0_exp1 = np.dot(np.dot(U1, d0), np.conjugate(U1.T))\n",
    "d0_exp2 = np.dot(np.dot(U2, d0), np.conjugate(U2.T))\n",
    "\n",
    "# Resolvemos el sistema con ambos casos\n",
    "nveces = 6e1\n",
    "\"\"\"v1, tiempo, n1 = ResolverSistema(d0, H, [J], N, nveces)\n",
    "v2, tiempo, n2 = ResolverSistema(d0_new, H, [J], N, nveces)\n",
    "\"\"\"\n",
    "v1 = solucion(d0, automatrix_r, automatrix_l, autovals, tiempo) # METERLE LA MATRIZ DE CAMBIO DE BASE\n",
    "v2 = solucion(d0_new, automatrix_r, automatrix_l, autovals, tiempo)\n",
    "v3 = solucion(d0_exp1, automatrix_r, automatrix_l, autovals, tiempo)\n",
    "v4 = solucion(d0_exp2, automatrix_r, automatrix_l, autovals, tiempo)\n",
    "dens = [v1, v2, v3, v4]"
   ]
  },
  {
   "cell_type": "code",
   "execution_count": null,
   "metadata": {
    "id": "t1NW4plKuAVy"
   },
   "outputs": [],
   "source": []
  },
  {
   "cell_type": "code",
   "execution_count": null,
   "metadata": {
    "colab": {
     "base_uri": "https://localhost:8080/"
    },
    "id": "s1TGWFImuQCN",
    "outputId": "137ddd11-6dc5-427e-cd63-6b29f8c1da6f"
   },
   "outputs": [
    {
     "data": {
      "text/plain": [
       "array([-5.00000000e-01-4.68677891e-125j, -7.50000000e-01-1.98431348e+000j,\n",
       "       -2.88583475e-64+3.16445417e-064j, -7.50000000e-01+1.98431348e+000j])"
      ]
     },
     "execution_count": 31,
     "metadata": {},
     "output_type": "execute_result"
    }
   ],
   "source": [
    "autovals[:]"
   ]
  },
  {
   "cell_type": "code",
   "execution_count": null,
   "metadata": {
    "id": "XdX4cCKfuQCX"
   },
   "outputs": [],
   "source": [
    "r = np.reshape(autovects_r[15], d0.shape)\n",
    "r = r/np.trace(r)"
   ]
  },
  {
   "cell_type": "code",
   "execution_count": null,
   "metadata": {
    "colab": {
     "base_uri": "https://localhost:8080/"
    },
    "id": "alOPvuASuQCb",
    "outputId": "beeb37cf-26de-499c-80f8-4ca4deba3861"
   },
   "outputs": [
    {
     "data": {
      "text/plain": [
       "((1-4.2269473675139494e-17j), (0.5352841004186638-4.896592447369544e-17j))"
      ]
     },
     "execution_count": 97,
     "metadata": {},
     "output_type": "execute_result"
    }
   ],
   "source": [
    "r = estacionario(autovals, autovects_r, d0)\n",
    "np.trace(r), np.trace(np.dot(r, r))"
   ]
  },
  {
   "cell_type": "code",
   "execution_count": null,
   "metadata": {
    "colab": {
     "base_uri": "https://localhost:8080/",
     "height": 119
    },
    "id": "40y3v0YWuQCg",
    "outputId": "464afcee-71c4-4dd3-d90b-9580976607b3"
   },
   "outputs": [
    {
     "data": {
      "text/latex": [
       "$\\displaystyle \\left[\\begin{matrix}0.164948453608247 & - 0.0824742268041237 i & - 0.0824742268041237 i & -0.0412371134020618 + 0.164948453608247 i\\\\0.0824742268041237 i & 0.206185567010309 - 7.51497497771421 \\cdot 10^{-18} i & 0.0412371134020619 & -0.0824742268041237 - 0.103092783505155 i\\\\0.0824742268041237 i & 0.0412371134020619 & 0.206185567010309 - 7.51497497771421 \\cdot 10^{-18} i & -0.0824742268041237 - 0.103092783505155 i\\\\-0.0412371134020619 - 0.164948453608247 i & -0.0824742268041237 + 0.103092783505155 i & -0.0824742268041237 + 0.103092783505155 i & 0.422680412371134 - 1.50299499554284 \\cdot 10^{-17} i\\end{matrix}\\right]$"
      ],
      "text/plain": [
       "Matrix([\n",
       "[                        0.164948453608247,                      -0.0824742268041237*I,                      -0.0824742268041237*I,  -0.0412371134020618 + 0.164948453608247*I],\n",
       "[                     0.0824742268041237*I, 0.206185567010309 - 7.51497497771421e-18*I,                         0.0412371134020619,  -0.0824742268041237 - 0.103092783505155*I],\n",
       "[                     0.0824742268041237*I,                         0.0412371134020619, 0.206185567010309 - 7.51497497771421e-18*I,  -0.0824742268041237 - 0.103092783505155*I],\n",
       "[-0.0412371134020619 - 0.164948453608247*I,  -0.0824742268041237 + 0.103092783505155*I,  -0.0824742268041237 + 0.103092783505155*I, 0.422680412371134 - 1.50299499554284e-17*I]])"
      ]
     },
     "execution_count": 82,
     "metadata": {},
     "output_type": "execute_result"
    }
   ],
   "source": [
    "sp.Matrix(r, dtype = complex)"
   ]
  },
  {
   "cell_type": "code",
   "execution_count": null,
   "metadata": {
    "colab": {
     "base_uri": "https://localhost:8080/"
    },
    "id": "IXt9DTgQuQCj",
    "outputId": "a9747b2b-42cb-469a-afb6-fa3fda00f5c9"
   },
   "outputs": [
    {
     "data": {
      "text/plain": [
       "((1-3.005989991085683e-17j), (0.44903815495801885-2.6020852139652106e-17j))"
      ]
     },
     "execution_count": 83,
     "metadata": {},
     "output_type": "execute_result"
    }
   ],
   "source": [
    "np.trace(r), np.trace(np.dot(r, r))"
   ]
  },
  {
   "cell_type": "code",
   "execution_count": null,
   "metadata": {
    "id": "cPpitUMAuQCl"
   },
   "outputs": [],
   "source": [
    "matrices = [np.reshape(elemento, (d0.shape[0], d0.shape[1])) for elemento in autovects_r]"
   ]
  },
  {
   "cell_type": "code",
   "execution_count": null,
   "metadata": {
    "colab": {
     "base_uri": "https://localhost:8080/"
    },
    "id": "38RV8SRGuQCn",
    "outputId": "0f603619-14ed-4966-dd83-7923428ae664"
   },
   "outputs": [
    {
     "data": {
      "text/plain": [
       "array([[ 8.27160478e-65+2.06211799e-64j,  7.15623641e-64-2.09974501e-65j,\n",
       "        -4.73595909e-64+7.40696930e-65j,  3.50678423e-64-3.77640574e-64j],\n",
       "       [ 2.59313165e-04+1.23938925e-01j, -1.84985146e-63+3.92369953e-64j,\n",
       "        -5.08898351e-01+3.04020464e-02j,  1.80394905e-63-1.71776917e-63j],\n",
       "       [-4.54480108e-64+1.96863301e-64j, -1.86129995e-64+7.09165155e-64j,\n",
       "        -8.71376414e-64-2.28761240e-65j,  1.85408546e-64-9.33267105e-64j],\n",
       "       [-5.23633683e-01+2.56583115e-02j,  2.18637154e-63+9.43436325e-64j,\n",
       "         1.63518657e-02-1.26730545e-01j,  2.30416949e-63+3.74784637e-64j]])"
      ]
     },
     "execution_count": 17,
     "metadata": {},
     "output_type": "execute_result"
    }
   ],
   "source": [
    "np.dot(automatrix_r[5], automatrix_r[10])"
   ]
  },
  {
   "cell_type": "code",
   "execution_count": null,
   "metadata": {
    "id": "QAYegwz-uQCo"
   },
   "outputs": [],
   "source": [
    "trazas = [np.trace(elemento) for elemento in matrices]"
   ]
  },
  {
   "cell_type": "code",
   "execution_count": null,
   "metadata": {
    "colab": {
     "base_uri": "https://localhost:8080/"
    },
    "id": "0KVvXx4NuQCr",
    "outputId": "05547829-39e0-4382-8670-92691032b5e2"
   },
   "outputs": [
    {
     "data": {
      "text/plain": [
       "[(-1.7431796456864246e-64-7.145455977769915e-65j),\n",
       " (-7.804427464241994e-65-1.823199723006756e-64j),\n",
       " (2.6347212566803956e-66+8.082644072095876e-65j),\n",
       " (4.114551798800593e-65+9.139825586039353e-65j),\n",
       " (1.2561389505850472e-64-1.604906332771682e-64j),\n",
       " (-7.158969090475943e-64+2.3900833905665136e-64j),\n",
       " 0j,\n",
       " 0j,\n",
       " 0j,\n",
       " 0j,\n",
       " 0j,\n",
       " -1.3877787807814457e-17j,\n",
       " 0j,\n",
       " 0j,\n",
       " 0j,\n",
       " (-0.6252753146528284+1.1406231220541305j)]"
      ]
     },
     "execution_count": 37,
     "metadata": {},
     "output_type": "execute_result"
    }
   ],
   "source": [
    "trazas"
   ]
  },
  {
   "cell_type": "code",
   "execution_count": null,
   "metadata": {
    "colab": {
     "base_uri": "https://localhost:8080/",
     "height": 430
    },
    "id": "LZcc8w43uQCt",
    "outputId": "c804af43-4a0c-4152-f9bb-5bcb5131d10e"
   },
   "outputs": [
    {
     "data": {
      "image/png": "[encoded data removed]",
      "text/plain": [
       "<Figure size 640x480 with 1 Axes>"
      ]
     },
     "metadata": {},
     "output_type": "display_data"
    }
   ],
   "source": [
    "#Sacamos la distancia de Hilbert Schmidt para todo tiempo t\n",
    "#ob = [[np.sqrt(np.trace((v[i] - r))) for i in range(len(v))] for v in dens]\n",
    "ob = [[np.sqrt(np.trace(np.dot(np.conjugate((v[i] - r).T), (v[i] - r)))) for i in range(len(v))] for v in dens]\n",
    "plt.plot(tiempo, ob[0], 'b-', label = 'Random')\n",
    "plt.plot(tiempo, ob[1], 'r-', label = 'Mpemba_ang')\n",
    "plt.plot(tiempo, ob[2], 'g-', label = 'Mpemba_cero')\n",
    "plt.plot(tiempo, ob[3], 'y-', label = 'Mpemba_nocero')\n",
    "#plt.xlim(2, 200)\n",
    "#plt.ylim(0.0, 0.5)\n",
    "#plt.ylim(0.0, 1.0040)\n",
    "#plt.xlim(0.0, 15.0)\n",
    "plt.legend(loc = 'upper right')\n",
    "#plt.title('Distancia de Hilbert-Schmidt. Modelo de Dicke para N = ' + str(N) + ', k = ' + str(k) + ' y g = ' + str(g))\n",
    "plt.show()\n",
    "#ploteo_MC(ob, tiempo)"
   ]
  },
  {
   "cell_type": "code",
   "execution_count": null,
   "metadata": {
    "colab": {
     "base_uri": "https://localhost:8080/",
     "height": 431
    },
    "id": "8J9v4a9-uQCw",
    "outputId": "881f8faa-39dc-4a1a-eccd-5f4e1501f1cd"
   },
   "outputs": [
    {
     "data": {
      "image/png": "[encoded data removed]",
      "text/plain": [
       "<Figure size 640x480 with 1 Axes>"
      ]
     },
     "metadata": {},
     "output_type": "display_data"
    }
   ],
   "source": [
    "#Sacamos la distancia de Hilbert Schmidt para todo tiempo t\n",
    "#ob = [[np.sqrt(np.trace((v[i] - r))) for i in range(len(v))] for v in dens]\n",
    "ob = [[np.sqrt(np.trace(np.dot(np.conjugate((v[i]).T), (v[i])))) for i in range(len(v))] for v in dens]\n",
    "plt.plot(tiempo, ob[0], 'b-', label = 'Random')\n",
    "plt.plot(tiempo, ob[1], 'r-', label = 'Mpemba_ang')\n",
    "plt.plot(tiempo, ob[2], 'g-', label = 'Mpemba_cero')\n",
    "plt.plot(tiempo, ob[3], 'y-', label = 'Mpemba_nocero')\n",
    "#plt.xlim(2, 200)\n",
    "#plt.ylim(0.0, 0.5)\n",
    "#plt.ylim(0.0, 1.0040)\n",
    "#plt.xlim(0.0, 15.0)\n",
    "plt.legend(loc = 'upper right')\n",
    "#plt.title('Distancia de Hilbert-Schmidt. Modelo de Dicke para N = ' + str(N) + ', k = ' + str(k) + ' y g = ' + str(g))\n",
    "plt.show()\n",
    "#ploteo_MC(ob, tiempo)"
   ]
  },
  {
   "cell_type": "code",
   "execution_count": null,
   "metadata": {
    "id": "QUcQNmYpvnhl"
   },
   "outputs": [],
   "source": []
  }
 ],
 "metadata": {
  "colab": {
   "provenance": []
  },
  "kernelspec": {
   "display_name": "Python 3 (ipykernel)",
   "language": "python",
   "name": "python3"
  },
  "language_info": {
   "codemirror_mode": {
    "name": "ipython",
    "version": 3
   },
   "file_extension": ".py",
   "mimetype": "text/x-python",
   "name": "python",
   "nbconvert_exporter": "python",
   "pygments_lexer": "ipython3",
   "version": "3.11.4"
  }
 },
 "nbformat": 4,
 "nbformat_minor": 1
}
